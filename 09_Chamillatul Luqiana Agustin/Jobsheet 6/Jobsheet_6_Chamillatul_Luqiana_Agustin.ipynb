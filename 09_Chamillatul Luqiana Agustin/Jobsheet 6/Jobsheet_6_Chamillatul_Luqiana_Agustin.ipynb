{
  "nbformat": 4,
  "nbformat_minor": 0,
  "metadata": {
    "colab": {
      "provenance": []
    },
    "kernelspec": {
      "name": "python3",
      "display_name": "Python 3"
    },
    "language_info": {
      "name": "python"
    }
  },
  "cells": [
    {
      "cell_type": "markdown",
      "source": [
        "*   NAMA : CHAMILLATUL LUQIANA AGUSTIN\n",
        "*   NIM : 2241720020\n",
        "*   ABSEN : 09\n",
        "*   KELAS : TI 3E"
      ],
      "metadata": {
        "id": "4DW_WzVfqOnx"
      }
    },
    {
      "cell_type": "markdown",
      "source": [
        "# **Praktikum 1**\n",
        "bagging\n",
        "\n",
        "Download Dataset Terlebih Dahulu ⬇️\n",
        "\n",
        "**Bagging dengan RandomForest**\n",
        "\n",
        "Pada kasus ini kita akan menggunakan salah satu metode bagging yaitu RandomForest untuk mengklasifikasikan jenis tumor. Dalam latihan ini Anda akan melakukan training dengan data Wisconsin Breast Cancer Dataset dari UCI machine learning repository. Latihan ini akan melakukan prediksi memprediksi apakah tumor ganas atau jinak.\n",
        "\n",
        "Kita akan membandingkan performa dari algoritma **Decision Tree** dan **RandomForest** pada kasus ini.\n",
        "\n",
        "---\n",
        "\n"
      ],
      "metadata": {
        "id": "N2Jc6V4xqkYd"
      }
    },
    {
      "cell_type": "markdown",
      "source": [
        "**Import Library**"
      ],
      "metadata": {
        "id": "flAOimwFrnWt"
      }
    },
    {
      "cell_type": "code",
      "execution_count": null,
      "metadata": {
        "id": "lAr7093-qF0V"
      },
      "outputs": [],
      "source": [
        "import numpy as np\n",
        "import pandas as pd\n",
        "from sklearn.tree import DecisionTreeClassifier # import DT\n",
        "from sklearn.ensemble import RandomForestClassifier # import RandomForest\n",
        "from sklearn.model_selection import train_test_split\n",
        "from sklearn.metrics import accuracy_score, classification_report"
      ]
    },
    {
      "cell_type": "markdown",
      "source": [
        "**Penjelasan:**\n",
        "\n",
        "Kode tersebut mengimpor library yang dibutuhkan untuk membangun model Decision Tree dan Random Forest.\n",
        "* **numpy (as np)**: Digunakan untuk operasi numerik di Python, seperti membuat array dan matriks.\n",
        "* **pandas (as pd)**: Digunakan untuk manipulasi dan analisis data. Pandas menyediakan struktur data seperti DataFrame untuk mengolah data tabular.\n",
        "* **sklearn.tree**: Modul dari scikit-learn yang menyediakan tools untuk membangun model Decision Tree.\n",
        "  * **DecisionTreeClassifier**: Kelas untuk membuat model Decision Tree untuk klasifikasi.\n",
        "* **sklearn.ensemble**: Modul dari scikit-learn untuk metode ensemble learning.\n",
        "  * **RandomForestClassifier**: Kelas untuk membuat model Random Forest, yaitu metode ensemble yang menggabungkan beberapa Decision Tree.\n",
        "* **sklearn.model_selection**: Modul untuk membantu dalam proses evaluasi model.\n",
        "  * **train_test_split**: Fungsi untuk membagi data menjadi data training dan data testing.\n",
        "* **sklearn.metrics**: Modul untuk mengevaluasi performa model.\n",
        "  * **accuracy_score**: Fungsi untuk menghitung akurasi model.\n",
        "  * **classification_report**: Fungsi untuk menghasilkan laporan klasifikasi yang berisi precision, recall, f1-score, dan support.\n",
        "---"
      ],
      "metadata": {
        "id": "0udIY2YisL-K"
      }
    },
    {
      "cell_type": "markdown",
      "source": [
        "**Persiapan Data**"
      ],
      "metadata": {
        "id": "as4Mb_QurmUj"
      }
    },
    {
      "cell_type": "code",
      "source": [
        "# Load data\n",
        "df = pd.read_csv('dataset/wbc.csv')\n",
        "\n",
        "df.head()"
      ],
      "metadata": {
        "colab": {
          "base_uri": "https://localhost:8080/",
          "height": 273
        },
        "id": "urWab4QCsF9S",
        "outputId": "e6022ca1-8029-4c14-c6c0-ae43c4251d4c"
      },
      "execution_count": null,
      "outputs": [
        {
          "output_type": "execute_result",
          "data": {
            "text/plain": [
              "         id diagnosis  radius_mean  texture_mean  perimeter_mean  area_mean  \\\n",
              "0    842302         M        17.99         10.38          122.80     1001.0   \n",
              "1    842517         M        20.57         17.77          132.90     1326.0   \n",
              "2  84300903         M        19.69         21.25          130.00     1203.0   \n",
              "3  84348301         M        11.42         20.38           77.58      386.1   \n",
              "4  84358402         M        20.29         14.34          135.10     1297.0   \n",
              "\n",
              "   smoothness_mean  compactness_mean  concavity_mean  concave points_mean  \\\n",
              "0          0.11840           0.27760          0.3001              0.14710   \n",
              "1          0.08474           0.07864          0.0869              0.07017   \n",
              "2          0.10960           0.15990          0.1974              0.12790   \n",
              "3          0.14250           0.28390          0.2414              0.10520   \n",
              "4          0.10030           0.13280          0.1980              0.10430   \n",
              "\n",
              "   ...  texture_worst  perimeter_worst  area_worst  smoothness_worst  \\\n",
              "0  ...          17.33           184.60      2019.0            0.1622   \n",
              "1  ...          23.41           158.80      1956.0            0.1238   \n",
              "2  ...          25.53           152.50      1709.0            0.1444   \n",
              "3  ...          26.50            98.87       567.7            0.2098   \n",
              "4  ...          16.67           152.20      1575.0            0.1374   \n",
              "\n",
              "   compactness_worst  concavity_worst  concave points_worst  symmetry_worst  \\\n",
              "0             0.6656           0.7119                0.2654          0.4601   \n",
              "1             0.1866           0.2416                0.1860          0.2750   \n",
              "2             0.4245           0.4504                0.2430          0.3613   \n",
              "3             0.8663           0.6869                0.2575          0.6638   \n",
              "4             0.2050           0.4000                0.1625          0.2364   \n",
              "\n",
              "   fractal_dimension_worst  Unnamed: 32  \n",
              "0                  0.11890          NaN  \n",
              "1                  0.08902          NaN  \n",
              "2                  0.08758          NaN  \n",
              "3                  0.17300          NaN  \n",
              "4                  0.07678          NaN  \n",
              "\n",
              "[5 rows x 33 columns]"
            ],
            "text/html": [
              "\n",
              "  <div id=\"df-44c7274c-2694-4270-8df8-663245ddb18f\" class=\"colab-df-container\">\n",
              "    <div>\n",
              "<style scoped>\n",
              "    .dataframe tbody tr th:only-of-type {\n",
              "        vertical-align: middle;\n",
              "    }\n",
              "\n",
              "    .dataframe tbody tr th {\n",
              "        vertical-align: top;\n",
              "    }\n",
              "\n",
              "    .dataframe thead th {\n",
              "        text-align: right;\n",
              "    }\n",
              "</style>\n",
              "<table border=\"1\" class=\"dataframe\">\n",
              "  <thead>\n",
              "    <tr style=\"text-align: right;\">\n",
              "      <th></th>\n",
              "      <th>id</th>\n",
              "      <th>diagnosis</th>\n",
              "      <th>radius_mean</th>\n",
              "      <th>texture_mean</th>\n",
              "      <th>perimeter_mean</th>\n",
              "      <th>area_mean</th>\n",
              "      <th>smoothness_mean</th>\n",
              "      <th>compactness_mean</th>\n",
              "      <th>concavity_mean</th>\n",
              "      <th>concave points_mean</th>\n",
              "      <th>...</th>\n",
              "      <th>texture_worst</th>\n",
              "      <th>perimeter_worst</th>\n",
              "      <th>area_worst</th>\n",
              "      <th>smoothness_worst</th>\n",
              "      <th>compactness_worst</th>\n",
              "      <th>concavity_worst</th>\n",
              "      <th>concave points_worst</th>\n",
              "      <th>symmetry_worst</th>\n",
              "      <th>fractal_dimension_worst</th>\n",
              "      <th>Unnamed: 32</th>\n",
              "    </tr>\n",
              "  </thead>\n",
              "  <tbody>\n",
              "    <tr>\n",
              "      <th>0</th>\n",
              "      <td>842302</td>\n",
              "      <td>M</td>\n",
              "      <td>17.99</td>\n",
              "      <td>10.38</td>\n",
              "      <td>122.80</td>\n",
              "      <td>1001.0</td>\n",
              "      <td>0.11840</td>\n",
              "      <td>0.27760</td>\n",
              "      <td>0.3001</td>\n",
              "      <td>0.14710</td>\n",
              "      <td>...</td>\n",
              "      <td>17.33</td>\n",
              "      <td>184.60</td>\n",
              "      <td>2019.0</td>\n",
              "      <td>0.1622</td>\n",
              "      <td>0.6656</td>\n",
              "      <td>0.7119</td>\n",
              "      <td>0.2654</td>\n",
              "      <td>0.4601</td>\n",
              "      <td>0.11890</td>\n",
              "      <td>NaN</td>\n",
              "    </tr>\n",
              "    <tr>\n",
              "      <th>1</th>\n",
              "      <td>842517</td>\n",
              "      <td>M</td>\n",
              "      <td>20.57</td>\n",
              "      <td>17.77</td>\n",
              "      <td>132.90</td>\n",
              "      <td>1326.0</td>\n",
              "      <td>0.08474</td>\n",
              "      <td>0.07864</td>\n",
              "      <td>0.0869</td>\n",
              "      <td>0.07017</td>\n",
              "      <td>...</td>\n",
              "      <td>23.41</td>\n",
              "      <td>158.80</td>\n",
              "      <td>1956.0</td>\n",
              "      <td>0.1238</td>\n",
              "      <td>0.1866</td>\n",
              "      <td>0.2416</td>\n",
              "      <td>0.1860</td>\n",
              "      <td>0.2750</td>\n",
              "      <td>0.08902</td>\n",
              "      <td>NaN</td>\n",
              "    </tr>\n",
              "    <tr>\n",
              "      <th>2</th>\n",
              "      <td>84300903</td>\n",
              "      <td>M</td>\n",
              "      <td>19.69</td>\n",
              "      <td>21.25</td>\n",
              "      <td>130.00</td>\n",
              "      <td>1203.0</td>\n",
              "      <td>0.10960</td>\n",
              "      <td>0.15990</td>\n",
              "      <td>0.1974</td>\n",
              "      <td>0.12790</td>\n",
              "      <td>...</td>\n",
              "      <td>25.53</td>\n",
              "      <td>152.50</td>\n",
              "      <td>1709.0</td>\n",
              "      <td>0.1444</td>\n",
              "      <td>0.4245</td>\n",
              "      <td>0.4504</td>\n",
              "      <td>0.2430</td>\n",
              "      <td>0.3613</td>\n",
              "      <td>0.08758</td>\n",
              "      <td>NaN</td>\n",
              "    </tr>\n",
              "    <tr>\n",
              "      <th>3</th>\n",
              "      <td>84348301</td>\n",
              "      <td>M</td>\n",
              "      <td>11.42</td>\n",
              "      <td>20.38</td>\n",
              "      <td>77.58</td>\n",
              "      <td>386.1</td>\n",
              "      <td>0.14250</td>\n",
              "      <td>0.28390</td>\n",
              "      <td>0.2414</td>\n",
              "      <td>0.10520</td>\n",
              "      <td>...</td>\n",
              "      <td>26.50</td>\n",
              "      <td>98.87</td>\n",
              "      <td>567.7</td>\n",
              "      <td>0.2098</td>\n",
              "      <td>0.8663</td>\n",
              "      <td>0.6869</td>\n",
              "      <td>0.2575</td>\n",
              "      <td>0.6638</td>\n",
              "      <td>0.17300</td>\n",
              "      <td>NaN</td>\n",
              "    </tr>\n",
              "    <tr>\n",
              "      <th>4</th>\n",
              "      <td>84358402</td>\n",
              "      <td>M</td>\n",
              "      <td>20.29</td>\n",
              "      <td>14.34</td>\n",
              "      <td>135.10</td>\n",
              "      <td>1297.0</td>\n",
              "      <td>0.10030</td>\n",
              "      <td>0.13280</td>\n",
              "      <td>0.1980</td>\n",
              "      <td>0.10430</td>\n",
              "      <td>...</td>\n",
              "      <td>16.67</td>\n",
              "      <td>152.20</td>\n",
              "      <td>1575.0</td>\n",
              "      <td>0.1374</td>\n",
              "      <td>0.2050</td>\n",
              "      <td>0.4000</td>\n",
              "      <td>0.1625</td>\n",
              "      <td>0.2364</td>\n",
              "      <td>0.07678</td>\n",
              "      <td>NaN</td>\n",
              "    </tr>\n",
              "  </tbody>\n",
              "</table>\n",
              "<p>5 rows × 33 columns</p>\n",
              "</div>\n",
              "    <div class=\"colab-df-buttons\">\n",
              "\n",
              "  <div class=\"colab-df-container\">\n",
              "    <button class=\"colab-df-convert\" onclick=\"convertToInteractive('df-44c7274c-2694-4270-8df8-663245ddb18f')\"\n",
              "            title=\"Convert this dataframe to an interactive table.\"\n",
              "            style=\"display:none;\">\n",
              "\n",
              "  <svg xmlns=\"http://www.w3.org/2000/svg\" height=\"24px\" viewBox=\"0 -960 960 960\">\n",
              "    <path d=\"M120-120v-720h720v720H120Zm60-500h600v-160H180v160Zm220 220h160v-160H400v160Zm0 220h160v-160H400v160ZM180-400h160v-160H180v160Zm440 0h160v-160H620v160ZM180-180h160v-160H180v160Zm440 0h160v-160H620v160Z\"/>\n",
              "  </svg>\n",
              "    </button>\n",
              "\n",
              "  <style>\n",
              "    .colab-df-container {\n",
              "      display:flex;\n",
              "      gap: 12px;\n",
              "    }\n",
              "\n",
              "    .colab-df-convert {\n",
              "      background-color: #E8F0FE;\n",
              "      border: none;\n",
              "      border-radius: 50%;\n",
              "      cursor: pointer;\n",
              "      display: none;\n",
              "      fill: #1967D2;\n",
              "      height: 32px;\n",
              "      padding: 0 0 0 0;\n",
              "      width: 32px;\n",
              "    }\n",
              "\n",
              "    .colab-df-convert:hover {\n",
              "      background-color: #E2EBFA;\n",
              "      box-shadow: 0px 1px 2px rgba(60, 64, 67, 0.3), 0px 1px 3px 1px rgba(60, 64, 67, 0.15);\n",
              "      fill: #174EA6;\n",
              "    }\n",
              "\n",
              "    .colab-df-buttons div {\n",
              "      margin-bottom: 4px;\n",
              "    }\n",
              "\n",
              "    [theme=dark] .colab-df-convert {\n",
              "      background-color: #3B4455;\n",
              "      fill: #D2E3FC;\n",
              "    }\n",
              "\n",
              "    [theme=dark] .colab-df-convert:hover {\n",
              "      background-color: #434B5C;\n",
              "      box-shadow: 0px 1px 3px 1px rgba(0, 0, 0, 0.15);\n",
              "      filter: drop-shadow(0px 1px 2px rgba(0, 0, 0, 0.3));\n",
              "      fill: #FFFFFF;\n",
              "    }\n",
              "  </style>\n",
              "\n",
              "    <script>\n",
              "      const buttonEl =\n",
              "        document.querySelector('#df-44c7274c-2694-4270-8df8-663245ddb18f button.colab-df-convert');\n",
              "      buttonEl.style.display =\n",
              "        google.colab.kernel.accessAllowed ? 'block' : 'none';\n",
              "\n",
              "      async function convertToInteractive(key) {\n",
              "        const element = document.querySelector('#df-44c7274c-2694-4270-8df8-663245ddb18f');\n",
              "        const dataTable =\n",
              "          await google.colab.kernel.invokeFunction('convertToInteractive',\n",
              "                                                    [key], {});\n",
              "        if (!dataTable) return;\n",
              "\n",
              "        const docLinkHtml = 'Like what you see? Visit the ' +\n",
              "          '<a target=\"_blank\" href=https://colab.research.google.com/notebooks/data_table.ipynb>data table notebook</a>'\n",
              "          + ' to learn more about interactive tables.';\n",
              "        element.innerHTML = '';\n",
              "        dataTable['output_type'] = 'display_data';\n",
              "        await google.colab.output.renderOutput(dataTable, element);\n",
              "        const docLink = document.createElement('div');\n",
              "        docLink.innerHTML = docLinkHtml;\n",
              "        element.appendChild(docLink);\n",
              "      }\n",
              "    </script>\n",
              "  </div>\n",
              "\n",
              "\n",
              "<div id=\"df-9d8816bb-dcdb-4a13-aba5-6e75cb9e6d88\">\n",
              "  <button class=\"colab-df-quickchart\" onclick=\"quickchart('df-9d8816bb-dcdb-4a13-aba5-6e75cb9e6d88')\"\n",
              "            title=\"Suggest charts\"\n",
              "            style=\"display:none;\">\n",
              "\n",
              "<svg xmlns=\"http://www.w3.org/2000/svg\" height=\"24px\"viewBox=\"0 0 24 24\"\n",
              "     width=\"24px\">\n",
              "    <g>\n",
              "        <path d=\"M19 3H5c-1.1 0-2 .9-2 2v14c0 1.1.9 2 2 2h14c1.1 0 2-.9 2-2V5c0-1.1-.9-2-2-2zM9 17H7v-7h2v7zm4 0h-2V7h2v10zm4 0h-2v-4h2v4z\"/>\n",
              "    </g>\n",
              "</svg>\n",
              "  </button>\n",
              "\n",
              "<style>\n",
              "  .colab-df-quickchart {\n",
              "      --bg-color: #E8F0FE;\n",
              "      --fill-color: #1967D2;\n",
              "      --hover-bg-color: #E2EBFA;\n",
              "      --hover-fill-color: #174EA6;\n",
              "      --disabled-fill-color: #AAA;\n",
              "      --disabled-bg-color: #DDD;\n",
              "  }\n",
              "\n",
              "  [theme=dark] .colab-df-quickchart {\n",
              "      --bg-color: #3B4455;\n",
              "      --fill-color: #D2E3FC;\n",
              "      --hover-bg-color: #434B5C;\n",
              "      --hover-fill-color: #FFFFFF;\n",
              "      --disabled-bg-color: #3B4455;\n",
              "      --disabled-fill-color: #666;\n",
              "  }\n",
              "\n",
              "  .colab-df-quickchart {\n",
              "    background-color: var(--bg-color);\n",
              "    border: none;\n",
              "    border-radius: 50%;\n",
              "    cursor: pointer;\n",
              "    display: none;\n",
              "    fill: var(--fill-color);\n",
              "    height: 32px;\n",
              "    padding: 0;\n",
              "    width: 32px;\n",
              "  }\n",
              "\n",
              "  .colab-df-quickchart:hover {\n",
              "    background-color: var(--hover-bg-color);\n",
              "    box-shadow: 0 1px 2px rgba(60, 64, 67, 0.3), 0 1px 3px 1px rgba(60, 64, 67, 0.15);\n",
              "    fill: var(--button-hover-fill-color);\n",
              "  }\n",
              "\n",
              "  .colab-df-quickchart-complete:disabled,\n",
              "  .colab-df-quickchart-complete:disabled:hover {\n",
              "    background-color: var(--disabled-bg-color);\n",
              "    fill: var(--disabled-fill-color);\n",
              "    box-shadow: none;\n",
              "  }\n",
              "\n",
              "  .colab-df-spinner {\n",
              "    border: 2px solid var(--fill-color);\n",
              "    border-color: transparent;\n",
              "    border-bottom-color: var(--fill-color);\n",
              "    animation:\n",
              "      spin 1s steps(1) infinite;\n",
              "  }\n",
              "\n",
              "  @keyframes spin {\n",
              "    0% {\n",
              "      border-color: transparent;\n",
              "      border-bottom-color: var(--fill-color);\n",
              "      border-left-color: var(--fill-color);\n",
              "    }\n",
              "    20% {\n",
              "      border-color: transparent;\n",
              "      border-left-color: var(--fill-color);\n",
              "      border-top-color: var(--fill-color);\n",
              "    }\n",
              "    30% {\n",
              "      border-color: transparent;\n",
              "      border-left-color: var(--fill-color);\n",
              "      border-top-color: var(--fill-color);\n",
              "      border-right-color: var(--fill-color);\n",
              "    }\n",
              "    40% {\n",
              "      border-color: transparent;\n",
              "      border-right-color: var(--fill-color);\n",
              "      border-top-color: var(--fill-color);\n",
              "    }\n",
              "    60% {\n",
              "      border-color: transparent;\n",
              "      border-right-color: var(--fill-color);\n",
              "    }\n",
              "    80% {\n",
              "      border-color: transparent;\n",
              "      border-right-color: var(--fill-color);\n",
              "      border-bottom-color: var(--fill-color);\n",
              "    }\n",
              "    90% {\n",
              "      border-color: transparent;\n",
              "      border-bottom-color: var(--fill-color);\n",
              "    }\n",
              "  }\n",
              "</style>\n",
              "\n",
              "  <script>\n",
              "    async function quickchart(key) {\n",
              "      const quickchartButtonEl =\n",
              "        document.querySelector('#' + key + ' button');\n",
              "      quickchartButtonEl.disabled = true;  // To prevent multiple clicks.\n",
              "      quickchartButtonEl.classList.add('colab-df-spinner');\n",
              "      try {\n",
              "        const charts = await google.colab.kernel.invokeFunction(\n",
              "            'suggestCharts', [key], {});\n",
              "      } catch (error) {\n",
              "        console.error('Error during call to suggestCharts:', error);\n",
              "      }\n",
              "      quickchartButtonEl.classList.remove('colab-df-spinner');\n",
              "      quickchartButtonEl.classList.add('colab-df-quickchart-complete');\n",
              "    }\n",
              "    (() => {\n",
              "      let quickchartButtonEl =\n",
              "        document.querySelector('#df-9d8816bb-dcdb-4a13-aba5-6e75cb9e6d88 button');\n",
              "      quickchartButtonEl.style.display =\n",
              "        google.colab.kernel.accessAllowed ? 'block' : 'none';\n",
              "    })();\n",
              "  </script>\n",
              "</div>\n",
              "\n",
              "    </div>\n",
              "  </div>\n"
            ],
            "application/vnd.google.colaboratory.intrinsic+json": {
              "type": "dataframe",
              "variable_name": "df"
            }
          },
          "metadata": {},
          "execution_count": 4
        }
      ]
    },
    {
      "cell_type": "markdown",
      "source": [
        "**Penjelasan:**\n",
        "\n",
        "Kode tersebut digunakan untuk membaca data dari file CSV bernama 'wbc.csv' yang berada di folder 'dataset', lalu menampilkan 5 baris pertama dari data tersebut.\n",
        "* **pd.read_csv('dataset/wbc.csv')**: Perintah ini menggunakan fungsi read_csv dari library pandas untuk membaca file CSV. File tersebut diasumsikan berada di dalam folder 'dataset' yang terletak di direktori yang sama dengan notebook. Data yang dibaca akan disimpan dalam variabel df dalam bentuk DataFrame.\n",
        "* **df.head()**: Perintah ini digunakan untuk menampilkan 5 baris pertama dari DataFrame df. Fungsi ini berguna untuk melihat sekilas struktur data dan isi dari dataset.\n",
        "---"
      ],
      "metadata": {
        "id": "sGH78slCsXOi"
      }
    },
    {
      "cell_type": "code",
      "source": [
        "# Cek kolom null\n",
        "df.isnull().sum()"
      ],
      "metadata": {
        "colab": {
          "base_uri": "https://localhost:8080/",
          "height": 1000
        },
        "id": "HcG6zJyIseVR",
        "outputId": "47a08a6c-106a-4c0c-8815-b41872851497"
      },
      "execution_count": null,
      "outputs": [
        {
          "output_type": "execute_result",
          "data": {
            "text/plain": [
              "id                           0\n",
              "diagnosis                    0\n",
              "radius_mean                  0\n",
              "texture_mean                 0\n",
              "perimeter_mean               0\n",
              "area_mean                    0\n",
              "smoothness_mean              0\n",
              "compactness_mean             0\n",
              "concavity_mean               0\n",
              "concave points_mean          0\n",
              "symmetry_mean                0\n",
              "fractal_dimension_mean       0\n",
              "radius_se                    0\n",
              "texture_se                   0\n",
              "perimeter_se                 0\n",
              "area_se                      0\n",
              "smoothness_se                0\n",
              "compactness_se               0\n",
              "concavity_se                 0\n",
              "concave points_se            0\n",
              "symmetry_se                  0\n",
              "fractal_dimension_se         0\n",
              "radius_worst                 0\n",
              "texture_worst                0\n",
              "perimeter_worst              0\n",
              "area_worst                   0\n",
              "smoothness_worst             0\n",
              "compactness_worst            0\n",
              "concavity_worst              0\n",
              "concave points_worst         0\n",
              "symmetry_worst               0\n",
              "fractal_dimension_worst      0\n",
              "Unnamed: 32                569\n",
              "dtype: int64"
            ],
            "text/html": [
              "<div>\n",
              "<style scoped>\n",
              "    .dataframe tbody tr th:only-of-type {\n",
              "        vertical-align: middle;\n",
              "    }\n",
              "\n",
              "    .dataframe tbody tr th {\n",
              "        vertical-align: top;\n",
              "    }\n",
              "\n",
              "    .dataframe thead th {\n",
              "        text-align: right;\n",
              "    }\n",
              "</style>\n",
              "<table border=\"1\" class=\"dataframe\">\n",
              "  <thead>\n",
              "    <tr style=\"text-align: right;\">\n",
              "      <th></th>\n",
              "      <th>0</th>\n",
              "    </tr>\n",
              "  </thead>\n",
              "  <tbody>\n",
              "    <tr>\n",
              "      <th>id</th>\n",
              "      <td>0</td>\n",
              "    </tr>\n",
              "    <tr>\n",
              "      <th>diagnosis</th>\n",
              "      <td>0</td>\n",
              "    </tr>\n",
              "    <tr>\n",
              "      <th>radius_mean</th>\n",
              "      <td>0</td>\n",
              "    </tr>\n",
              "    <tr>\n",
              "      <th>texture_mean</th>\n",
              "      <td>0</td>\n",
              "    </tr>\n",
              "    <tr>\n",
              "      <th>perimeter_mean</th>\n",
              "      <td>0</td>\n",
              "    </tr>\n",
              "    <tr>\n",
              "      <th>area_mean</th>\n",
              "      <td>0</td>\n",
              "    </tr>\n",
              "    <tr>\n",
              "      <th>smoothness_mean</th>\n",
              "      <td>0</td>\n",
              "    </tr>\n",
              "    <tr>\n",
              "      <th>compactness_mean</th>\n",
              "      <td>0</td>\n",
              "    </tr>\n",
              "    <tr>\n",
              "      <th>concavity_mean</th>\n",
              "      <td>0</td>\n",
              "    </tr>\n",
              "    <tr>\n",
              "      <th>concave points_mean</th>\n",
              "      <td>0</td>\n",
              "    </tr>\n",
              "    <tr>\n",
              "      <th>symmetry_mean</th>\n",
              "      <td>0</td>\n",
              "    </tr>\n",
              "    <tr>\n",
              "      <th>fractal_dimension_mean</th>\n",
              "      <td>0</td>\n",
              "    </tr>\n",
              "    <tr>\n",
              "      <th>radius_se</th>\n",
              "      <td>0</td>\n",
              "    </tr>\n",
              "    <tr>\n",
              "      <th>texture_se</th>\n",
              "      <td>0</td>\n",
              "    </tr>\n",
              "    <tr>\n",
              "      <th>perimeter_se</th>\n",
              "      <td>0</td>\n",
              "    </tr>\n",
              "    <tr>\n",
              "      <th>area_se</th>\n",
              "      <td>0</td>\n",
              "    </tr>\n",
              "    <tr>\n",
              "      <th>smoothness_se</th>\n",
              "      <td>0</td>\n",
              "    </tr>\n",
              "    <tr>\n",
              "      <th>compactness_se</th>\n",
              "      <td>0</td>\n",
              "    </tr>\n",
              "    <tr>\n",
              "      <th>concavity_se</th>\n",
              "      <td>0</td>\n",
              "    </tr>\n",
              "    <tr>\n",
              "      <th>concave points_se</th>\n",
              "      <td>0</td>\n",
              "    </tr>\n",
              "    <tr>\n",
              "      <th>symmetry_se</th>\n",
              "      <td>0</td>\n",
              "    </tr>\n",
              "    <tr>\n",
              "      <th>fractal_dimension_se</th>\n",
              "      <td>0</td>\n",
              "    </tr>\n",
              "    <tr>\n",
              "      <th>radius_worst</th>\n",
              "      <td>0</td>\n",
              "    </tr>\n",
              "    <tr>\n",
              "      <th>texture_worst</th>\n",
              "      <td>0</td>\n",
              "    </tr>\n",
              "    <tr>\n",
              "      <th>perimeter_worst</th>\n",
              "      <td>0</td>\n",
              "    </tr>\n",
              "    <tr>\n",
              "      <th>area_worst</th>\n",
              "      <td>0</td>\n",
              "    </tr>\n",
              "    <tr>\n",
              "      <th>smoothness_worst</th>\n",
              "      <td>0</td>\n",
              "    </tr>\n",
              "    <tr>\n",
              "      <th>compactness_worst</th>\n",
              "      <td>0</td>\n",
              "    </tr>\n",
              "    <tr>\n",
              "      <th>concavity_worst</th>\n",
              "      <td>0</td>\n",
              "    </tr>\n",
              "    <tr>\n",
              "      <th>concave points_worst</th>\n",
              "      <td>0</td>\n",
              "    </tr>\n",
              "    <tr>\n",
              "      <th>symmetry_worst</th>\n",
              "      <td>0</td>\n",
              "    </tr>\n",
              "    <tr>\n",
              "      <th>fractal_dimension_worst</th>\n",
              "      <td>0</td>\n",
              "    </tr>\n",
              "    <tr>\n",
              "      <th>Unnamed: 32</th>\n",
              "      <td>569</td>\n",
              "    </tr>\n",
              "  </tbody>\n",
              "</table>\n",
              "</div><br><label><b>dtype:</b> int64</label>"
            ]
          },
          "metadata": {},
          "execution_count": 5
        }
      ]
    },
    {
      "cell_type": "markdown",
      "source": [
        "**Penjelasan:**\n",
        "\n",
        "Kode tersebut digunakan untuk mengecek dan menghitung jumlah nilai null (kosong) pada setiap kolom di DataFrame df.\n",
        "* **df.isnull()**: Fungsi ini akan mengecek setiap nilai di DataFrame. Jika nilai tersebut null, maka akan menghasilkan nilai True, dan False jika tidak null. Outputnya adalah DataFrame baru dengan nilai boolean.\n",
        "* **.sum()**: Fungsi ini menjumlahkan nilai True pada setiap kolom. Karena True diinterpretasikan sebagai 1, maka outputnya adalah jumlah nilai null pada setiap kolom.\n",
        "\n",
        "Jadi, kode tersebut digunakan untuk melakukan pengecekan awal pada dataset untuk melihat apakah ada data yang hilang atau tidak lengkap.\n",
        "\n",
        "---"
      ],
      "metadata": {
        "id": "yNG5buMUsl9_"
      }
    },
    {
      "cell_type": "code",
      "source": [
        "# Seleksi fitur\n",
        "\n",
        "# Slice dataframe mulai dari kolom 'radius_mean' sampai 'fractal_dimension_worst'\n",
        "X = df.iloc[:,3:-1]\n",
        "y = df['diagnosis']\n",
        "y = y.map({'M':1, 'B':0}) # Encode label\n",
        "\n",
        "# Cek jumlah fitur dan instance\n",
        "X.shape"
      ],
      "metadata": {
        "colab": {
          "base_uri": "https://localhost:8080/"
        },
        "id": "q-TqwcBAsn0f",
        "outputId": "14a6481c-cb42-4930-90bc-1516ea1ab773"
      },
      "execution_count": null,
      "outputs": [
        {
          "output_type": "execute_result",
          "data": {
            "text/plain": [
              "(569, 29)"
            ]
          },
          "metadata": {},
          "execution_count": 6
        }
      ]
    },
    {
      "cell_type": "markdown",
      "source": [
        "**Penjelasan:**\n",
        "\n",
        "Kode tersebut bertujuan untuk melakukan seleksi fitur dan encoding pada dataset yang telah dibaca.\n",
        "* **X = df.iloc[:, 3:-1]**:\n",
        "  * Kode tersebut mengambil sebagian data dari DataFrame df dan menyimpannya dalam variabel X. Variabel ini akan digunakan sebagai fitur untuk model machine learning.\n",
        "  * **iloc** digunakan untuk melakukan slicing data berdasarkan indeks.\n",
        "  * **[:, 3:-1]** artinya kita mengambil semua baris (:) dan kolom mulai dari indeks ke-3 hingga kolom kedua dari belakang (-1 menunjukkan kolom terakhir, jadi -2 adalah kolom kedua dari belakang).\n",
        "  * Berdasarkan kode sebelumnya, dapat disimpulkan bahwa kode ini bertujuan untuk mengambil kolom mulai dari 'radius_mean' hingga 'fractal_dimension_worst'.\n",
        "* **y = df['diagnosis']**:\n",
        "  * Kode tersebut mengambil kolom 'diagnosis' dari DataFrame df dan menyimpannya dalam variabel y. Variabel ini akan digunakan sebagai label atau target untuk model machine learning.\n",
        "  * **y = y.map({'M':1, 'B':0})**:\n",
        "  * Kode tersebut melakukan encoding pada label y.\n",
        "  * Fungsi **map** akan mengganti setiap nilai 'M' dengan 1 dan nilai 'B' dengan 0.\n",
        "  * Encoding ini diperlukan karena algoritma machine learning biasanya bekerja dengan data numerik.\n",
        "* **X.shape**: Kode tersebut digunakan untuk menampilkan dimensi atau bentuk dari data X. Outputnya berupa tuple yang menunjukkan jumlah baris dan kolom. Ini berguna untuk mengetahui jumlah fitur dan instance pada data yang akan digunakan untuk training model.\n",
        "---"
      ],
      "metadata": {
        "id": "j6MKkbsUsrYD"
      }
    },
    {
      "cell_type": "markdown",
      "source": [
        "**Split data training dan testing**"
      ],
      "metadata": {
        "id": "kusK94VcsvZP"
      }
    },
    {
      "cell_type": "code",
      "source": [
        "from sklearn.model_selection import train_test_split\n",
        "\n",
        "X_train, X_test, y_train, y_test = train_test_split(X, y, test_size=0.2, random_state=1)"
      ],
      "metadata": {
        "id": "QUuucoKZs0mx"
      },
      "execution_count": null,
      "outputs": []
    },
    {
      "cell_type": "markdown",
      "source": [
        "**Penjelasan:**\n",
        "\n",
        "Kode tersebut digunakan untuk membagi data (fitur X dan label y) menjadi data training dan data testing.\n",
        "* **from sklearn.model_selection import train_test_split**: Mengimpor fungsi train_test_split dari library scikit-learn. Fungsi ini digunakan untuk membagi data.\n",
        "* **X_train, X_test, y_train, y_test = train_test_split(X, y, test_size=0.2, random_state=1)**:\n",
        "  * X dan y: Data fitur dan label yang akan dibagi.\n",
        "  * **test_size=0.2**: Menentukan proporsi data yang akan digunakan sebagai data testing. Dalam hal ini, 20% data akan digunakan sebagai data testing.\n",
        "  * **random_state=1**: Menentukan seed untuk pengacakan data. Nilai ini memastikan bahwa pembagian data akan selalu sama setiap kali kode dijalankan, sehingga hasilnya dapat direproduksi.\n",
        "\n",
        "Jadi, data training digunakan untuk melatih model, sedangkan data testing digunakan untuk menguji performa model.\n",
        "\n",
        "---"
      ],
      "metadata": {
        "id": "P3L0Kfkfs2kw"
      }
    },
    {
      "cell_type": "markdown",
      "source": [
        "**Training Decision Tree**"
      ],
      "metadata": {
        "id": "R8os_seks4_v"
      }
    },
    {
      "cell_type": "code",
      "source": [
        "# Secara default, DecisionTreeClassifier dari scikit-learn akan menggunakan nilai \"Gini\" untuk kriteria\n",
        "# Terdapat beberapa \"hyperparamater\" yang dapat digunakan. Silahka baca dokumentasi\n",
        "# Pada kasus ini kita akan menggunakan parameter default\n",
        "dt = DecisionTreeClassifier()\n",
        "\n",
        "# Sesuaikan dt ke set training\n",
        "dt.fit(X_train, y_train)\n",
        "\n",
        "# Memprediksi label set test\n",
        "y_pred_dt = dt.predict(X_test)\n",
        "\n",
        "#  menghitung set accuracy\n",
        "acc_dt = accuracy_score(y_test, y_pred_dt)\n",
        "print(\"Test set accuracy: {:.2f}\".format(acc_dt))\n",
        "print(f\"Test set accuracy: {acc_dt}\")"
      ],
      "metadata": {
        "colab": {
          "base_uri": "https://localhost:8080/"
        },
        "id": "Qc_bWEkRs76d",
        "outputId": "482aff91-b94f-4d3f-d3dd-440d0e01fba0"
      },
      "execution_count": null,
      "outputs": [
        {
          "output_type": "stream",
          "name": "stdout",
          "text": [
            "Test set accuracy: 0.94\n",
            "Test set accuracy: 0.9385964912280702\n"
          ]
        }
      ]
    },
    {
      "cell_type": "markdown",
      "source": [
        "**Penjelasan:**\n",
        "\n",
        "Kode tersebut merupakan proses training model Decision Tree dan evaluasinya.\n",
        "* **dt = DecisionTreeClassifier()**: Membuat objek dt dari kelas DecisionTreeClassifier. Ini adalah inisialisasi model Decision Tree dengan parameter default.\n",
        "* **dt.fit(X_train, y_train)**: Melatih model Decision Tree (dt) menggunakan data training (X_train dan y_train). Pada tahap ini, model akan belajar pola dari data training untuk membangun struktur pohon keputusan.\n",
        "* **y_pred_dt = dt.predict(X_test)**: Memprediksi label (y_pred_dt) dari data testing (X_test) menggunakan model Decision Tree yang telah dilatih.\n",
        "* **acc_dt = accuracy_score(y_test, y_pred_dt)**: Menghitung akurasi model dengan membandingkan label prediksi (y_pred_dt) dengan label sebenarnya (y_test).\n",
        "* **print(\"Test set accuracy: {:.2f}\".format(acc_dt))**: Menampilkan akurasi model yang telah dihitung, dengan format dua angka di belakang koma.\n",
        "* **print(f\"Test set accuracy: {acc_dt}\")**: Menampilkan akurasi model.\n",
        "---"
      ],
      "metadata": {
        "id": "2S1c_wBus-d0"
      }
    },
    {
      "cell_type": "markdown",
      "source": [
        "**Training RandomForest**"
      ],
      "metadata": {
        "id": "BTA53h4ntB2k"
      }
    },
    {
      "cell_type": "code",
      "source": [
        "# Pada kasus kali ini kita akan menggunakan estimator pada RandomForest\n",
        "# Untuk detail parameter (hyperparameter) silahkan cek dokumentasi\n",
        "\n",
        "rf = RandomForestClassifier(n_estimators=10, random_state=1)\n",
        "\n",
        "# Sesuaikan dt ke set training\n",
        "rf.fit(X_train, y_train)\n",
        "\n",
        "# Memprediksi label set test\n",
        "y_pred_rf = rf.predict(X_test)\n",
        "\n",
        "#  menghitung set accuracy\n",
        "acc_rf = accuracy_score(y_test, y_pred_rf)\n",
        "print(\"Test set accuracy: {:.2f}\".format(acc_rf))\n",
        "print(f\"Test set accuracy: {acc_rf}\")"
      ],
      "metadata": {
        "colab": {
          "base_uri": "https://localhost:8080/"
        },
        "id": "tN3eSFDutENr",
        "outputId": "3666e00a-2d81-43b9-83a6-0c20ded8cef9"
      },
      "execution_count": null,
      "outputs": [
        {
          "output_type": "stream",
          "name": "stdout",
          "text": [
            "Test set accuracy: 0.96\n",
            "Test set accuracy: 0.956140350877193\n"
          ]
        }
      ]
    },
    {
      "cell_type": "markdown",
      "source": [
        "**Penjelasan:**\n",
        "\n",
        "Kode tersebut mirip dengan kode sebelumnya, tetapi menggunakan model Random Forest.\n",
        "* **rf = RandomForestClassifier(n_estimators=10, random_state=1)**: Membuat objek rf dari kelas RandomForestClassifier.\n",
        "  * **n_estimators=10**: Menentukan jumlah Decision Tree yang akan digunakan dalam Random Forest (10 dalam kasus ini).\n",
        "  * **random_state=1**: Menentukan seed untuk pengacakan, memastikan hasil yang konsisten.\n",
        "* **rf.fit(X_train, y_train)**: Melatih model Random Forest (rf) dengan data training (X_train dan y_train).\n",
        "* **y_pred_rf = rf.predict(X_test)**: Memprediksi label (y_pred_rf) dari data testing (X_test) menggunakan model Random Forest yang telah dilatih.\n",
        "* **acc_rf = accuracy_score(y_test, y_pred_rf)**: Menghitung akurasi model dengan membandingkan label prediksi (y_pred_rf) dengan label sebenarnya (y_test).\n",
        "* **print(\"Test set accuracy: {:.2f}\".format(acc_rf))**: Menampilkan akurasi model, diformat dengan dua angka di belakang koma.\n",
        "* **print(f\"Test set accuracy: {acc_rf}\")**: Menampilkan akurasi model.\n",
        "\n",
        "Jadi, kode tersebut menunjukkan proses training dan evaluasi model Random Forest. Random Forest adalah metode ensemble learning yang menggabungkan beberapa Decision Tree untuk meningkatkan performa dan mengurangi overfitting.\n",
        "\n",
        "---"
      ],
      "metadata": {
        "id": "R8rSyzQdtGaF"
      }
    },
    {
      "cell_type": "markdown",
      "source": [
        "# **Praktikum 2**\n",
        "boosting\n",
        "\n",
        "Download Dataset Terlebih Dahulu ⬇️\n",
        "\n",
        "**Boosting dengan AdaBoost**\n",
        "\n",
        "Pada kasus ini kita akan menggunakan salah satu metode boosting yaitu AdaBoost untuk mengklasifikasikan jenis bunga Iris. Dalam latihan ini kita akan menggunakan dataset Iris yang sangat lazim digunakan. Latihan ini akan melakukan prediksi memprediksi 3 jenis bunga Iris yaitu, Iris Setosa, Iris Versicolor, dan Iris Virginica berdasarkan panjang dan lebar sepal dan petal.\n",
        "\n",
        "Kita akan membandingkan performa dari algoritma Decision Tree dan AdaBoost pada kasus ini.\n",
        "\n",
        "---"
      ],
      "metadata": {
        "id": "NeYXXrojtIk4"
      }
    },
    {
      "cell_type": "markdown",
      "source": [
        "**Import Library**"
      ],
      "metadata": {
        "id": "DZf1CKd0trqk"
      }
    },
    {
      "cell_type": "code",
      "source": [
        "import numpy as np\n",
        "import pandas as pd\n",
        "from sklearn.tree import DecisionTreeClassifier # import DT\n",
        "from sklearn.ensemble import AdaBoostClassifier # import AdaBoost\n",
        "from sklearn.model_selection import train_test_split\n",
        "from sklearn.metrics import accuracy_score, classification_report\n",
        "from sklearn.preprocessing import LabelEncoder # Kebutuhan encoding label"
      ],
      "metadata": {
        "id": "NHOQpqe2tt5e"
      },
      "execution_count": null,
      "outputs": []
    },
    {
      "cell_type": "markdown",
      "source": [
        "**Penjelasan:**\n",
        "\n",
        "Kode tersebut mengimpor library yang dibutuhkan untuk klasifikasi dengan Decision Tree dan AdaBoost. AdaBoost adalah metode boosting di mana beberapa model lemah digabungkan untuk membentuk model yang kuat.\n",
        "* **numpy (as np)**: Digunakan untuk operasi numerik seperti membuat array.\n",
        "* **pandas (as pd)**: Digunakan untuk manipulasi dan analisis data, menyediakan struktur data seperti DataFrame.\n",
        "* **sklearn.tree**: Modul dari scikit-learn yang menyediakan tools untuk membangun model Decision Tree.\n",
        "  * **DecisionTreeClassifier**: Kelas untuk membuat model Decision Tree.\n",
        "* **sklearn.ensemble**: Modul untuk metode ensemble learning.\n",
        "  * **AdaBoostClassifier**: Kelas untuk membuat model AdaBoost.\n",
        "* **sklearn.model_selection**: Modul untuk membantu dalam proses evaluasi model.\n",
        "  * **train_test_split**: Fungsi untuk membagi data menjadi data training dan data testing.\n",
        "* **sklearn.metrics**: Modul untuk mengevaluasi performa model.\n",
        "  * **accuracy_score**: Fungsi untuk menghitung akurasi model.\n",
        "  * **classification_report**: Fungsi untuk menghasilkan laporan yang berisi precision, recall, f1-score, dan support.\n",
        "* **sklearn.preprocessing**: Modul untuk pre-processing data.\n",
        "  * **LabelEncoder**: Kelas untuk encoding label kategorikal menjadi numerik.\n",
        "\n",
        "Jadi, kode tersebut mempersiapkan environment untuk membangun model machine learning untuk klasifikasi, khususnya dengan algoritma Decision Tree dan AdaBoost.\n",
        "\n",
        "---"
      ],
      "metadata": {
        "id": "4DHj-9oNtwga"
      }
    },
    {
      "cell_type": "markdown",
      "source": [
        "**Persiapan Data**"
      ],
      "metadata": {
        "id": "WxWv8OrhtyLe"
      }
    },
    {
      "cell_type": "code",
      "source": [
        "# Load data\n",
        "df = pd.read_csv('dataset/iris.csv')\n",
        "\n",
        "df.head()"
      ],
      "metadata": {
        "colab": {
          "base_uri": "https://localhost:8080/",
          "height": 206
        },
        "id": "p5CheQQat1kK",
        "outputId": "a11958f8-1291-40e5-ad76-186536260c93"
      },
      "execution_count": null,
      "outputs": [
        {
          "output_type": "execute_result",
          "data": {
            "text/plain": [
              "   Id  SepalLengthCm  SepalWidthCm  PetalLengthCm  PetalWidthCm      Species\n",
              "0   1            5.1           3.5            1.4           0.2  Iris-setosa\n",
              "1   2            4.9           3.0            1.4           0.2  Iris-setosa\n",
              "2   3            4.7           3.2            1.3           0.2  Iris-setosa\n",
              "3   4            4.6           3.1            1.5           0.2  Iris-setosa\n",
              "4   5            5.0           3.6            1.4           0.2  Iris-setosa"
            ],
            "text/html": [
              "\n",
              "  <div id=\"df-56cdd598-dc99-4adb-ab80-4e23ffbd92e6\" class=\"colab-df-container\">\n",
              "    <div>\n",
              "<style scoped>\n",
              "    .dataframe tbody tr th:only-of-type {\n",
              "        vertical-align: middle;\n",
              "    }\n",
              "\n",
              "    .dataframe tbody tr th {\n",
              "        vertical-align: top;\n",
              "    }\n",
              "\n",
              "    .dataframe thead th {\n",
              "        text-align: right;\n",
              "    }\n",
              "</style>\n",
              "<table border=\"1\" class=\"dataframe\">\n",
              "  <thead>\n",
              "    <tr style=\"text-align: right;\">\n",
              "      <th></th>\n",
              "      <th>Id</th>\n",
              "      <th>SepalLengthCm</th>\n",
              "      <th>SepalWidthCm</th>\n",
              "      <th>PetalLengthCm</th>\n",
              "      <th>PetalWidthCm</th>\n",
              "      <th>Species</th>\n",
              "    </tr>\n",
              "  </thead>\n",
              "  <tbody>\n",
              "    <tr>\n",
              "      <th>0</th>\n",
              "      <td>1</td>\n",
              "      <td>5.1</td>\n",
              "      <td>3.5</td>\n",
              "      <td>1.4</td>\n",
              "      <td>0.2</td>\n",
              "      <td>Iris-setosa</td>\n",
              "    </tr>\n",
              "    <tr>\n",
              "      <th>1</th>\n",
              "      <td>2</td>\n",
              "      <td>4.9</td>\n",
              "      <td>3.0</td>\n",
              "      <td>1.4</td>\n",
              "      <td>0.2</td>\n",
              "      <td>Iris-setosa</td>\n",
              "    </tr>\n",
              "    <tr>\n",
              "      <th>2</th>\n",
              "      <td>3</td>\n",
              "      <td>4.7</td>\n",
              "      <td>3.2</td>\n",
              "      <td>1.3</td>\n",
              "      <td>0.2</td>\n",
              "      <td>Iris-setosa</td>\n",
              "    </tr>\n",
              "    <tr>\n",
              "      <th>3</th>\n",
              "      <td>4</td>\n",
              "      <td>4.6</td>\n",
              "      <td>3.1</td>\n",
              "      <td>1.5</td>\n",
              "      <td>0.2</td>\n",
              "      <td>Iris-setosa</td>\n",
              "    </tr>\n",
              "    <tr>\n",
              "      <th>4</th>\n",
              "      <td>5</td>\n",
              "      <td>5.0</td>\n",
              "      <td>3.6</td>\n",
              "      <td>1.4</td>\n",
              "      <td>0.2</td>\n",
              "      <td>Iris-setosa</td>\n",
              "    </tr>\n",
              "  </tbody>\n",
              "</table>\n",
              "</div>\n",
              "    <div class=\"colab-df-buttons\">\n",
              "\n",
              "  <div class=\"colab-df-container\">\n",
              "    <button class=\"colab-df-convert\" onclick=\"convertToInteractive('df-56cdd598-dc99-4adb-ab80-4e23ffbd92e6')\"\n",
              "            title=\"Convert this dataframe to an interactive table.\"\n",
              "            style=\"display:none;\">\n",
              "\n",
              "  <svg xmlns=\"http://www.w3.org/2000/svg\" height=\"24px\" viewBox=\"0 -960 960 960\">\n",
              "    <path d=\"M120-120v-720h720v720H120Zm60-500h600v-160H180v160Zm220 220h160v-160H400v160Zm0 220h160v-160H400v160ZM180-400h160v-160H180v160Zm440 0h160v-160H620v160ZM180-180h160v-160H180v160Zm440 0h160v-160H620v160Z\"/>\n",
              "  </svg>\n",
              "    </button>\n",
              "\n",
              "  <style>\n",
              "    .colab-df-container {\n",
              "      display:flex;\n",
              "      gap: 12px;\n",
              "    }\n",
              "\n",
              "    .colab-df-convert {\n",
              "      background-color: #E8F0FE;\n",
              "      border: none;\n",
              "      border-radius: 50%;\n",
              "      cursor: pointer;\n",
              "      display: none;\n",
              "      fill: #1967D2;\n",
              "      height: 32px;\n",
              "      padding: 0 0 0 0;\n",
              "      width: 32px;\n",
              "    }\n",
              "\n",
              "    .colab-df-convert:hover {\n",
              "      background-color: #E2EBFA;\n",
              "      box-shadow: 0px 1px 2px rgba(60, 64, 67, 0.3), 0px 1px 3px 1px rgba(60, 64, 67, 0.15);\n",
              "      fill: #174EA6;\n",
              "    }\n",
              "\n",
              "    .colab-df-buttons div {\n",
              "      margin-bottom: 4px;\n",
              "    }\n",
              "\n",
              "    [theme=dark] .colab-df-convert {\n",
              "      background-color: #3B4455;\n",
              "      fill: #D2E3FC;\n",
              "    }\n",
              "\n",
              "    [theme=dark] .colab-df-convert:hover {\n",
              "      background-color: #434B5C;\n",
              "      box-shadow: 0px 1px 3px 1px rgba(0, 0, 0, 0.15);\n",
              "      filter: drop-shadow(0px 1px 2px rgba(0, 0, 0, 0.3));\n",
              "      fill: #FFFFFF;\n",
              "    }\n",
              "  </style>\n",
              "\n",
              "    <script>\n",
              "      const buttonEl =\n",
              "        document.querySelector('#df-56cdd598-dc99-4adb-ab80-4e23ffbd92e6 button.colab-df-convert');\n",
              "      buttonEl.style.display =\n",
              "        google.colab.kernel.accessAllowed ? 'block' : 'none';\n",
              "\n",
              "      async function convertToInteractive(key) {\n",
              "        const element = document.querySelector('#df-56cdd598-dc99-4adb-ab80-4e23ffbd92e6');\n",
              "        const dataTable =\n",
              "          await google.colab.kernel.invokeFunction('convertToInteractive',\n",
              "                                                    [key], {});\n",
              "        if (!dataTable) return;\n",
              "\n",
              "        const docLinkHtml = 'Like what you see? Visit the ' +\n",
              "          '<a target=\"_blank\" href=https://colab.research.google.com/notebooks/data_table.ipynb>data table notebook</a>'\n",
              "          + ' to learn more about interactive tables.';\n",
              "        element.innerHTML = '';\n",
              "        dataTable['output_type'] = 'display_data';\n",
              "        await google.colab.output.renderOutput(dataTable, element);\n",
              "        const docLink = document.createElement('div');\n",
              "        docLink.innerHTML = docLinkHtml;\n",
              "        element.appendChild(docLink);\n",
              "      }\n",
              "    </script>\n",
              "  </div>\n",
              "\n",
              "\n",
              "<div id=\"df-a3948da5-1aa9-4e11-886a-02a0c75af227\">\n",
              "  <button class=\"colab-df-quickchart\" onclick=\"quickchart('df-a3948da5-1aa9-4e11-886a-02a0c75af227')\"\n",
              "            title=\"Suggest charts\"\n",
              "            style=\"display:none;\">\n",
              "\n",
              "<svg xmlns=\"http://www.w3.org/2000/svg\" height=\"24px\"viewBox=\"0 0 24 24\"\n",
              "     width=\"24px\">\n",
              "    <g>\n",
              "        <path d=\"M19 3H5c-1.1 0-2 .9-2 2v14c0 1.1.9 2 2 2h14c1.1 0 2-.9 2-2V5c0-1.1-.9-2-2-2zM9 17H7v-7h2v7zm4 0h-2V7h2v10zm4 0h-2v-4h2v4z\"/>\n",
              "    </g>\n",
              "</svg>\n",
              "  </button>\n",
              "\n",
              "<style>\n",
              "  .colab-df-quickchart {\n",
              "      --bg-color: #E8F0FE;\n",
              "      --fill-color: #1967D2;\n",
              "      --hover-bg-color: #E2EBFA;\n",
              "      --hover-fill-color: #174EA6;\n",
              "      --disabled-fill-color: #AAA;\n",
              "      --disabled-bg-color: #DDD;\n",
              "  }\n",
              "\n",
              "  [theme=dark] .colab-df-quickchart {\n",
              "      --bg-color: #3B4455;\n",
              "      --fill-color: #D2E3FC;\n",
              "      --hover-bg-color: #434B5C;\n",
              "      --hover-fill-color: #FFFFFF;\n",
              "      --disabled-bg-color: #3B4455;\n",
              "      --disabled-fill-color: #666;\n",
              "  }\n",
              "\n",
              "  .colab-df-quickchart {\n",
              "    background-color: var(--bg-color);\n",
              "    border: none;\n",
              "    border-radius: 50%;\n",
              "    cursor: pointer;\n",
              "    display: none;\n",
              "    fill: var(--fill-color);\n",
              "    height: 32px;\n",
              "    padding: 0;\n",
              "    width: 32px;\n",
              "  }\n",
              "\n",
              "  .colab-df-quickchart:hover {\n",
              "    background-color: var(--hover-bg-color);\n",
              "    box-shadow: 0 1px 2px rgba(60, 64, 67, 0.3), 0 1px 3px 1px rgba(60, 64, 67, 0.15);\n",
              "    fill: var(--button-hover-fill-color);\n",
              "  }\n",
              "\n",
              "  .colab-df-quickchart-complete:disabled,\n",
              "  .colab-df-quickchart-complete:disabled:hover {\n",
              "    background-color: var(--disabled-bg-color);\n",
              "    fill: var(--disabled-fill-color);\n",
              "    box-shadow: none;\n",
              "  }\n",
              "\n",
              "  .colab-df-spinner {\n",
              "    border: 2px solid var(--fill-color);\n",
              "    border-color: transparent;\n",
              "    border-bottom-color: var(--fill-color);\n",
              "    animation:\n",
              "      spin 1s steps(1) infinite;\n",
              "  }\n",
              "\n",
              "  @keyframes spin {\n",
              "    0% {\n",
              "      border-color: transparent;\n",
              "      border-bottom-color: var(--fill-color);\n",
              "      border-left-color: var(--fill-color);\n",
              "    }\n",
              "    20% {\n",
              "      border-color: transparent;\n",
              "      border-left-color: var(--fill-color);\n",
              "      border-top-color: var(--fill-color);\n",
              "    }\n",
              "    30% {\n",
              "      border-color: transparent;\n",
              "      border-left-color: var(--fill-color);\n",
              "      border-top-color: var(--fill-color);\n",
              "      border-right-color: var(--fill-color);\n",
              "    }\n",
              "    40% {\n",
              "      border-color: transparent;\n",
              "      border-right-color: var(--fill-color);\n",
              "      border-top-color: var(--fill-color);\n",
              "    }\n",
              "    60% {\n",
              "      border-color: transparent;\n",
              "      border-right-color: var(--fill-color);\n",
              "    }\n",
              "    80% {\n",
              "      border-color: transparent;\n",
              "      border-right-color: var(--fill-color);\n",
              "      border-bottom-color: var(--fill-color);\n",
              "    }\n",
              "    90% {\n",
              "      border-color: transparent;\n",
              "      border-bottom-color: var(--fill-color);\n",
              "    }\n",
              "  }\n",
              "</style>\n",
              "\n",
              "  <script>\n",
              "    async function quickchart(key) {\n",
              "      const quickchartButtonEl =\n",
              "        document.querySelector('#' + key + ' button');\n",
              "      quickchartButtonEl.disabled = true;  // To prevent multiple clicks.\n",
              "      quickchartButtonEl.classList.add('colab-df-spinner');\n",
              "      try {\n",
              "        const charts = await google.colab.kernel.invokeFunction(\n",
              "            'suggestCharts', [key], {});\n",
              "      } catch (error) {\n",
              "        console.error('Error during call to suggestCharts:', error);\n",
              "      }\n",
              "      quickchartButtonEl.classList.remove('colab-df-spinner');\n",
              "      quickchartButtonEl.classList.add('colab-df-quickchart-complete');\n",
              "    }\n",
              "    (() => {\n",
              "      let quickchartButtonEl =\n",
              "        document.querySelector('#df-a3948da5-1aa9-4e11-886a-02a0c75af227 button');\n",
              "      quickchartButtonEl.style.display =\n",
              "        google.colab.kernel.accessAllowed ? 'block' : 'none';\n",
              "    })();\n",
              "  </script>\n",
              "</div>\n",
              "\n",
              "    </div>\n",
              "  </div>\n"
            ],
            "application/vnd.google.colaboratory.intrinsic+json": {
              "type": "dataframe",
              "variable_name": "df",
              "summary": "{\n  \"name\": \"df\",\n  \"rows\": 150,\n  \"fields\": [\n    {\n      \"column\": \"Id\",\n      \"properties\": {\n        \"dtype\": \"number\",\n        \"std\": 43,\n        \"min\": 1,\n        \"max\": 150,\n        \"num_unique_values\": 150,\n        \"samples\": [\n          74,\n          19,\n          119\n        ],\n        \"semantic_type\": \"\",\n        \"description\": \"\"\n      }\n    },\n    {\n      \"column\": \"SepalLengthCm\",\n      \"properties\": {\n        \"dtype\": \"number\",\n        \"std\": 0.8280661279778629,\n        \"min\": 4.3,\n        \"max\": 7.9,\n        \"num_unique_values\": 35,\n        \"samples\": [\n          6.2,\n          4.5,\n          5.6\n        ],\n        \"semantic_type\": \"\",\n        \"description\": \"\"\n      }\n    },\n    {\n      \"column\": \"SepalWidthCm\",\n      \"properties\": {\n        \"dtype\": \"number\",\n        \"std\": 0.4335943113621737,\n        \"min\": 2.0,\n        \"max\": 4.4,\n        \"num_unique_values\": 23,\n        \"samples\": [\n          2.3,\n          4.0,\n          3.5\n        ],\n        \"semantic_type\": \"\",\n        \"description\": \"\"\n      }\n    },\n    {\n      \"column\": \"PetalLengthCm\",\n      \"properties\": {\n        \"dtype\": \"number\",\n        \"std\": 1.7644204199522617,\n        \"min\": 1.0,\n        \"max\": 6.9,\n        \"num_unique_values\": 43,\n        \"samples\": [\n          6.7,\n          3.8,\n          3.7\n        ],\n        \"semantic_type\": \"\",\n        \"description\": \"\"\n      }\n    },\n    {\n      \"column\": \"PetalWidthCm\",\n      \"properties\": {\n        \"dtype\": \"number\",\n        \"std\": 0.7631607417008414,\n        \"min\": 0.1,\n        \"max\": 2.5,\n        \"num_unique_values\": 22,\n        \"samples\": [\n          0.2,\n          1.2,\n          1.3\n        ],\n        \"semantic_type\": \"\",\n        \"description\": \"\"\n      }\n    },\n    {\n      \"column\": \"Species\",\n      \"properties\": {\n        \"dtype\": \"category\",\n        \"num_unique_values\": 3,\n        \"samples\": [\n          \"Iris-setosa\",\n          \"Iris-versicolor\",\n          \"Iris-virginica\"\n        ],\n        \"semantic_type\": \"\",\n        \"description\": \"\"\n      }\n    }\n  ]\n}"
            }
          },
          "metadata": {},
          "execution_count": 11
        }
      ]
    },
    {
      "cell_type": "markdown",
      "source": [
        "**Penjelasan:**\n",
        "\n",
        "Kode tersebut membaca data dari file CSV bernama 'iris.csv' yang berada di folder 'dataset' dan menampilkan 5 baris pertama dari data tersebut.\n",
        "* **pd.read_csv('dataset/iris.csv')**:\n",
        "  * Perintah ini menggunakan fungsi read_csv dari library pandas untuk membaca file CSV.\n",
        "  * File 'iris.csv' diasumsikan berada di folder 'dataset' dalam direktori yang sama dengan notebook.\n",
        "  * Data yang dibaca disimpan dalam variabel df sebagai DataFrame.\n",
        "* **df.head()**:\n",
        "  * Perintah ini menampilkan 5 baris pertama dari DataFrame df.\n",
        "  * Fungsi ini berguna untuk melihat sekilas struktur data dan isi dataset, seperti nama kolom dan beberapa nilai pada setiap kolom.\n",
        "---"
      ],
      "metadata": {
        "id": "jXHEjzPSt6FP"
      }
    },
    {
      "cell_type": "code",
      "source": [
        "# Cek kolom null\n",
        "df.isnull().sum()"
      ],
      "metadata": {
        "colab": {
          "base_uri": "https://localhost:8080/",
          "height": 272
        },
        "id": "CyQl2F7Ot75X",
        "outputId": "2da31af4-1003-4f88-dc15-10c8635f0d13"
      },
      "execution_count": null,
      "outputs": [
        {
          "output_type": "execute_result",
          "data": {
            "text/plain": [
              "Id               0\n",
              "SepalLengthCm    0\n",
              "SepalWidthCm     0\n",
              "PetalLengthCm    0\n",
              "PetalWidthCm     0\n",
              "Species          0\n",
              "dtype: int64"
            ],
            "text/html": [
              "<div>\n",
              "<style scoped>\n",
              "    .dataframe tbody tr th:only-of-type {\n",
              "        vertical-align: middle;\n",
              "    }\n",
              "\n",
              "    .dataframe tbody tr th {\n",
              "        vertical-align: top;\n",
              "    }\n",
              "\n",
              "    .dataframe thead th {\n",
              "        text-align: right;\n",
              "    }\n",
              "</style>\n",
              "<table border=\"1\" class=\"dataframe\">\n",
              "  <thead>\n",
              "    <tr style=\"text-align: right;\">\n",
              "      <th></th>\n",
              "      <th>0</th>\n",
              "    </tr>\n",
              "  </thead>\n",
              "  <tbody>\n",
              "    <tr>\n",
              "      <th>Id</th>\n",
              "      <td>0</td>\n",
              "    </tr>\n",
              "    <tr>\n",
              "      <th>SepalLengthCm</th>\n",
              "      <td>0</td>\n",
              "    </tr>\n",
              "    <tr>\n",
              "      <th>SepalWidthCm</th>\n",
              "      <td>0</td>\n",
              "    </tr>\n",
              "    <tr>\n",
              "      <th>PetalLengthCm</th>\n",
              "      <td>0</td>\n",
              "    </tr>\n",
              "    <tr>\n",
              "      <th>PetalWidthCm</th>\n",
              "      <td>0</td>\n",
              "    </tr>\n",
              "    <tr>\n",
              "      <th>Species</th>\n",
              "      <td>0</td>\n",
              "    </tr>\n",
              "  </tbody>\n",
              "</table>\n",
              "</div><br><label><b>dtype:</b> int64</label>"
            ]
          },
          "metadata": {},
          "execution_count": 12
        }
      ]
    },
    {
      "cell_type": "markdown",
      "source": [
        "**Penjelasan:**\n",
        "\n",
        "Kode tersebut digunakan untuk mengecek dan menghitung jumlah nilai null (kosong) di setiap kolom DataFrame df.\n",
        "* **df.isnull()**: Fungsi ini akan mengecek setiap nilai di DataFrame. Jika nilai tersebut null, maka akan menghasilkan nilai True, dan False jika tidak null. Outputnya adalah DataFrame baru dengan nilai boolean.\n",
        "* **.sum()**: Fungsi ini menjumlahkan nilai True pada setiap kolom. Karena True diinterpretasikan sebagai 1, maka outputnya adalah jumlah nilai null pada setiap kolom.\n",
        "\n",
        "Jadi, kode tersebut berguna untuk melakukan pengecekan awal pada dataset untuk melihat apakah ada data yang hilang atau tidak lengkap.\n",
        "\n",
        "---"
      ],
      "metadata": {
        "id": "xoK6LIAct-xK"
      }
    },
    {
      "cell_type": "code",
      "source": [
        "# Seleksi fitur\n",
        "X = df.iloc[:,2:-1]\n",
        "y = df['Species']\n",
        "\n",
        "# encode label\n",
        "ec = LabelEncoder()\n",
        "y = ec.fit_transform(y)\n",
        "\n",
        "# Cek jumlah fitur dan instance\n",
        "print(X.shape)\n",
        "\n",
        "# Cek label\n",
        "print(y)"
      ],
      "metadata": {
        "colab": {
          "base_uri": "https://localhost:8080/"
        },
        "id": "Dvs7nTQvuB4I",
        "outputId": "eb29d016-dfbc-4651-f9e9-cb69c26fd714"
      },
      "execution_count": null,
      "outputs": [
        {
          "output_type": "stream",
          "name": "stdout",
          "text": [
            "(150, 3)\n",
            "[0 0 0 0 0 0 0 0 0 0 0 0 0 0 0 0 0 0 0 0 0 0 0 0 0 0 0 0 0 0 0 0 0 0 0 0 0\n",
            " 0 0 0 0 0 0 0 0 0 0 0 0 0 1 1 1 1 1 1 1 1 1 1 1 1 1 1 1 1 1 1 1 1 1 1 1 1\n",
            " 1 1 1 1 1 1 1 1 1 1 1 1 1 1 1 1 1 1 1 1 1 1 1 1 1 1 2 2 2 2 2 2 2 2 2 2 2\n",
            " 2 2 2 2 2 2 2 2 2 2 2 2 2 2 2 2 2 2 2 2 2 2 2 2 2 2 2 2 2 2 2 2 2 2 2 2 2\n",
            " 2 2]\n"
          ]
        }
      ]
    },
    {
      "cell_type": "markdown",
      "source": [
        "**Penjelasan:**\n",
        "\n",
        "Kode tersebut melakukan seleksi fitur, encoding label, dan menampilkan informasi tentang data yang telah diproses.\n",
        "* **X = df.iloc[:, 2:-1]**:\n",
        "  * Mengambil sebagian data dari DataFrame df dan menyimpannya dalam variabel X yang akan digunakan sebagai fitur.\n",
        "  * **iloc** digunakan untuk melakukan slicing data berdasarkan indeks.\n",
        "  * **[:, 2:-1]** artinya mengambil semua baris (:) dan kolom mulai dari indeks ke-2 hingga kolom kedua dari belakang (-1 menunjukkan kolom terakhir, jadi -2 adalah kolom kedua dari belakang).\n",
        "* **y = df['Species']**: Mengambil kolom 'Species' dari DataFrame df dan menyimpannya dalam variabel y yang akan digunakan sebagai label atau target.\n",
        "* **ec = LabelEncoder()**: Membuat objek ec dari kelas LabelEncoder. Objek ini digunakan untuk encoding label.\n",
        "* **y = ec.fit_transform(y)**: Melakukan encoding pada label y.\n",
        "  * **fit_transform** akan mempelajari label unik pada data dan mengubahnya menjadi nilai numerik.\n",
        "  * Misalnya, jika label 'Species' memiliki nilai 'Setosa', 'Versicolor', dan 'Virginica', maka akan diubah menjadi 0, 1, dan 2.\n",
        "* **print(X.shape)**: Menampilkan dimensi atau bentuk dari data X. Outputnya berupa tuple yang menunjukkan jumlah baris dan kolom. Ini berguna untuk mengetahui jumlah fitur dan instance pada data.\n",
        "* **print(y)**: Menampilkan label y setelah di-encode. Ini berguna untuk melihat hasil encoding dan memastikan label telah diubah menjadi numerik.\n",
        "---"
      ],
      "metadata": {
        "id": "V70iyXNtuAAm"
      }
    },
    {
      "cell_type": "markdown",
      "source": [
        "**Split data training dan testing**"
      ],
      "metadata": {
        "id": "B1kkg11cuHnB"
      }
    },
    {
      "cell_type": "code",
      "source": [
        "from sklearn.model_selection import train_test_split\n",
        "\n",
        "X_train, X_test, y_train, y_test = train_test_split(X, y, test_size=0.2, random_state=1)"
      ],
      "metadata": {
        "id": "01uS3bsQuLYs"
      },
      "execution_count": null,
      "outputs": []
    },
    {
      "cell_type": "markdown",
      "source": [
        "**Penjelasan:**\n",
        "\n",
        "Kode tersebut membagi data (fitur X dan label y) menjadi data training dan data testing.\n",
        "* **from sklearn.model_selection import train_test_split**: Mengimpor fungsi train_test_split dari library scikit-learn yang digunakan untuk membagi data.\n",
        "* **X_train, X_test, y_train, y_test = train_test_split(X, y, test_size=0.2, random_state=1)**:\n",
        "  * X dan y: Data fitur dan label yang akan dibagi.\n",
        "  * **test_size=0.2**: Menentukan proporsi data yang akan digunakan sebagai data testing (20% dalam kasus ini).\n",
        "  * **random_state=1**: Menentukan seed untuk pengacakan data, memastikan pembagian data yang konsisten setiap kali kode dijalankan.\n",
        "\n",
        "Jadi, data training digunakan untuk melatih model, sedangkan data testing digunakan untuk menguji performa model pada data yang belum pernah dilihat sebelumnya.\n",
        "\n",
        "---"
      ],
      "metadata": {
        "id": "kDkKGLWFuFWl"
      }
    },
    {
      "cell_type": "markdown",
      "source": [
        "**Training Decision Tree**"
      ],
      "metadata": {
        "id": "dolfuWwCuOD7"
      }
    },
    {
      "cell_type": "code",
      "source": [
        "# Secara default, DecisionTreeClassifier dari scikit-learn akan menggunakan nilai \"Gini\" untuk kriteria\n",
        "# Terdapat beberapa \"hyperparamater\" yang dapat digunakan. Silahka baca dokumentasi\n",
        "# Pada kasus ini kita akan menggunakan parameter default\n",
        "dt = DecisionTreeClassifier()\n",
        "\n",
        "# Sesuaikan dt ke set training\n",
        "dt.fit(X_train, y_train)\n",
        "\n",
        "# Memprediksi label set test\n",
        "y_pred_dt = dt.predict(X_test)\n",
        "\n",
        "#  menghitung set accuracy\n",
        "acc_dt = accuracy_score(y_test, y_pred_dt)\n",
        "print(\"Test set accuracy: {:.2f}\".format(acc_dt))\n",
        "print(f\"Test set accuracy: {acc_dt}\")"
      ],
      "metadata": {
        "colab": {
          "base_uri": "https://localhost:8080/"
        },
        "id": "txxLASjguQtq",
        "outputId": "5b2fd553-4cae-47fc-aeea-f33ec55f0219"
      },
      "execution_count": null,
      "outputs": [
        {
          "output_type": "stream",
          "name": "stdout",
          "text": [
            "Test set accuracy: 0.97\n",
            "Test set accuracy: 0.9666666666666667\n"
          ]
        }
      ]
    },
    {
      "cell_type": "markdown",
      "source": [
        "**Penjelasan:**\n",
        "\n",
        "Kode tersebut merupakan proses training model Decision Tree dan evaluasinya:\n",
        "* **dt = DecisionTreeClassifier()**: Membuat objek dt dari kelas DecisionTreeClassifier untuk inisialisasi model Decision Tree dengan parameter default.\n",
        "* **dt.fit(X_train, y_train)**: Melatih model Decision Tree (dt) menggunakan data training (X_train dan y_train). Model akan belajar pola dari data training untuk membangun struktur pohon keputusan.\n",
        "* **y_pred_dt = dt.predict(X_test)**: Memprediksi label (y_pred_dt) dari data testing (X_test) menggunakan model Decision Tree yang telah dilatih.\n",
        "* **acc_dt = accuracy_score(y_test, y_pred_dt)**: Menghitung akurasi model dengan membandingkan label prediksi (y_pred_dt) dengan label sebenarnya (y_test).\n",
        "* **print(\"Test set accuracy: {:.2f}\".format(acc_dt))**: Menampilkan akurasi model, diformat dengan dua angka di belakang koma.\n",
        "* **print(f\"Test set accuracy: {acc_dt}\")**: Menampilkan akurasi model.\n",
        "---"
      ],
      "metadata": {
        "id": "wS8jcsOfuGKn"
      }
    },
    {
      "cell_type": "markdown",
      "source": [
        "**Training AdaBoost**"
      ],
      "metadata": {
        "id": "2Pwerkts6HP6"
      }
    },
    {
      "cell_type": "code",
      "source": [
        "# Pada kasus kali ini kita akan menggunakan estimator pada AdaBoost\n",
        "# Untuk detail parameter (hyperparameter) silahkan cek dokumentasi\n",
        "\n",
        "ada = AdaBoostClassifier(n_estimators=2)\n",
        "\n",
        "# Sesuaikan dt ke set training\n",
        "ada.fit(X_train, y_train)\n",
        "\n",
        "# Memprediksi label set test\n",
        "y_pred_ada = ada.predict(X_test)\n",
        "\n",
        "#  menghitung set accuracy\n",
        "acc_ada = accuracy_score(y_test, y_pred_ada)\n",
        "print(\"Test set accuracy: {:.2f}\".format(acc_ada))\n",
        "print(f\"Test set accuracy: {acc_ada}\")"
      ],
      "metadata": {
        "colab": {
          "base_uri": "https://localhost:8080/"
        },
        "id": "bHcWVMpR6Yr_",
        "outputId": "ac9a3204-2adc-4f01-c3a5-95538bf0c447"
      },
      "execution_count": null,
      "outputs": [
        {
          "output_type": "stream",
          "name": "stdout",
          "text": [
            "Test set accuracy: 0.97\n",
            "Test set accuracy: 0.9666666666666667\n"
          ]
        },
        {
          "output_type": "stream",
          "name": "stderr",
          "text": [
            "/usr/local/lib/python3.10/dist-packages/sklearn/ensemble/_weight_boosting.py:527: FutureWarning: The SAMME.R algorithm (the default) is deprecated and will be removed in 1.6. Use the SAMME algorithm to circumvent this warning.\n",
            "  warnings.warn(\n"
          ]
        }
      ]
    },
    {
      "cell_type": "markdown",
      "source": [
        "**Penjelasan:**\n",
        "\n",
        "Kode tersebut menunjukkan proses training dan evaluasi model AdaBoost. AdaBoost adalah metode ensemble learning yang menggabungkan beberapa model \"lemah\" untuk membentuk model yang lebih \"kuat\".\n",
        "* **ada = AdaBoostClassifier(n_estimators=2)**:\n",
        "  * Membuat objek ada dari kelas AdaBoostClassifier.\n",
        "  * **n_estimators=2:** Parameter yang menentukan jumlah model lemah (dalam hal ini, Decision Tree) yang akan digunakan dalam AdaBoost.\n",
        "* **ada.fit(X_train, y_train)**: Melatih model AdaBoost (ada) dengan data training (X_train dan y_train).\n",
        "* **y_pred_ada = ada.predict(X_test)**: Memprediksi label (y_pred_ada) dari data testing (X_test) menggunakan model AdaBoost yang telah dilatih.\n",
        "* **acc_ada = accuracy_score(y_test, y_pred_ada)**: Menghitung akurasi model dengan membandingkan label prediksi (y_pred_ada) dengan label sebenarnya (y_test).\n",
        "* **print(\"Test set accuracy: {:.2f}\".format(acc_ada))**: Menampilkan akurasi model, diformat dengan dua angka di belakang koma.\n",
        "* **print(f\"Test set accuracy: {acc_ada}\")**: Menampilkan akurasi model.\n",
        "\n",
        "Jadi, kode tersebut menunjukkan bagaimana AdaBoost digunakan untuk meningkatkan performa model Decision Tree dengan menggabungkan beberapa Decision Tree. Setiap Decision Tree berikutnya dalam AdaBoost akan fokus pada data yang salah diklasifikasikan oleh Decision Tree sebelumnya.\n",
        "\n",
        "---"
      ],
      "metadata": {
        "id": "bCpW9i27uTnV"
      }
    },
    {
      "cell_type": "markdown",
      "source": [
        "# **Praktikum 3**\n",
        "stackking\n",
        "\n",
        "**Stacking**\n",
        "\n",
        "Lengkapi bagian berikut dengan data sesuai tugas, dan tentukan perbedaan nilai akurasi antara Random Forest, Adaboost, dan Stacking"
      ],
      "metadata": {
        "id": "n9m433XT6fA6"
      }
    },
    {
      "cell_type": "code",
      "source": [
        "from sklearn.ensemble import RandomForestClassifier, StackingClassifier\n",
        "from sklearn.linear_model import LogisticRegression\n",
        "from sklearn.model_selection import train_test_split\n",
        "from sklearn.neighbors import KNeighborsClassifier\n",
        "from sklearn.tree import DecisionTreeClassifier\n",
        "\n",
        "\n",
        "\n",
        "layer_one_estimators = [\n",
        "                        ('rf_1', RandomForestClassifier(n_estimators=10, random_state=42)),\n",
        "                        ('knn_1', KNeighborsClassifier(n_neighbors=5))\n",
        "                       ]\n",
        "layer_two_estimators = [\n",
        "                        ('dt_2', DecisionTreeClassifier()),\n",
        "                        ('rf_2', RandomForestClassifier(n_estimators=50, random_state=42)),\n",
        "                       ]\n",
        "layer_two = StackingClassifier(estimators=layer_two_estimators, final_estimator=LogisticRegression())\n",
        "\n",
        "\n",
        "clf = StackingClassifier(estimators=layer_one_estimators, final_estimator=layer_two)\n",
        "\n",
        "X_train, X_test, y_train, y_test = train_test_split(X, y, stratify=y, random_state=42)\n",
        "clf.fit(X_train, y_train).score(X_test, y_test)"
      ],
      "metadata": {
        "colab": {
          "base_uri": "https://localhost:8080/"
        },
        "id": "oBRXr8qYrJwC",
        "outputId": "69a2fdf1-67eb-4179-f297-39389051abba"
      },
      "execution_count": null,
      "outputs": [
        {
          "output_type": "execute_result",
          "data": {
            "text/plain": [
              "0.8947368421052632"
            ]
          },
          "metadata": {},
          "execution_count": 17
        }
      ]
    },
    {
      "cell_type": "markdown",
      "source": [
        "**Penjelasan:**\n",
        "\n",
        "Kode program tersebut digunakan untuk membangun, melatih, dan mengevaluasi model stacking classifier untuk meningkatkan akurasi prediksi. Model stacking classifier ini memiliki dua layer:\n",
        "1. **Layer pertama**: Menggunakan Random Forest dan K-Nearest Neighbors (KNN) sebagai base model untuk membuat prediksi awal.\n",
        "2. **Layer kedua**: Menggunakan Decision Tree dan Random Forest untuk menggabungkan prediksi dari layer pertama, kemudian menggunakan Logistic Regression sebagai model final untuk menghasilkan prediksi akhir.\n",
        "\n",
        "* **sklearn.ensemble**: Modul ini berisi berbagai macam model ensemble learning, termasuk Random Forest dan StackingClassifier.\n",
        "  * **RandomForestClassifier**: Kelas untuk membuat model Random Forest, yaitu metode ensemble yang menggabungkan beberapa decision tree.\n",
        "  * **StackingClassifier**: Kelas untuk membuat model stacking classifier, yaitu model yang menggabungkan beberapa model lain dengan cara menumpuknya (stacking).\n",
        "* **sklearn.linear_model**: Modul ini berisi berbagai macam model linear, termasuk Logistic Regression.\n",
        "  * **LogisticRegression**: Kelas untuk membuat model Logistic Regression, yaitu model linear yang digunakan untuk klasifikasi.\n",
        "* **sklearn.model_selection**: Modul ini berisi berbagai macam fungsi untuk membantu dalam proses evaluasi model, termasuk train_test_split.\n",
        "  * **train_test_split**: Fungsi untuk membagi data menjadi data latih (training) dan data uji (testing).\n",
        "* **sklearn.neighbors**: Modul ini berisi berbagai macam model berbasis tetangga terdekat, termasuk KNeighborsClassifier.\n",
        "  * **KNeighborsClassifier**: Kelas untuk membuat model K-Nearest Neighbors (KNN), yaitu model yang mengklasifikasikan data berdasarkan tetangga terdekatnya.\n",
        "* **sklearn.tree**: Modul ini berisi berbagai macam model decision tree, termasuk DecisionTreeClassifier.\n",
        "  * **DecisionTreeClassifier**: Kelas untuk membuat model Decision Tree, yaitu model yang berbentuk seperti pohon untuk melakukan klasifikasi.\n",
        "* **('rf_1', RandomForestClassifier(n_estimators=10, random_state=42))**:\n",
        "  * Mendefinisikan estimator Random Forest dengan nama 'rf_1'.\n",
        "  * **n_estimators=10**: Parameter yang menentukan jumlah pohon (trees) di dalam Random Forest.\n",
        "  * **random_state=42**: Parameter yang menentukan seed untuk generator angka acak, sehingga hasilnya dapat direproduksi.\n",
        "* **('knn_1', KNeighborsClassifier(n_neighbors=5))**:\n",
        "  * Mendefinisikan estimator K-Nearest Neighbors (KNN) dengan nama 'knn_1'.\n",
        "  * **n_neighbors=5**: Parameter yang menentukan jumlah tetangga terdekat yang akan dipertimbangkan dalam KNN.\n",
        "* **layer_two_estimators adalah list yang berisi dua estimator**:\n",
        "  * **('dt_2', DecisionTreeClassifier())**: Decision Tree Classifier dengan nama 'dt_2' dan menggunakan parameter default.\n",
        "  * **('rf_2', RandomForestClassifier(n_estimators=50, random_state=42))**: Random Forest Classifier dengan nama 'rf_2', 50 pohon, dan random_state 42 untuk reproduksibilitas.\n",
        "* **layer_two = StackingClassifier(estimators=layer_two_estimators, final_estimator=LogisticRegression())**:\n",
        "  * Membuat objek StackingClassifier bernama layer_two.\n",
        "  * Objek ini akan menjadi estimator (model) di layer kedua.\n",
        "  * **estimators=layer_two_estimators**: Menggunakan estimator yang telah didefinisikan di layer_two_estimators (Decision Tree dan Random Forest).\n",
        "  * **final_estimator=LogisticRegression()**: Menggunakan Logistic Regression sebagai meta-learner atau estimator final yang akan menggabungkan prediksi dari estimator di layer kedua.\n",
        "* **clf = StackingClassifier(estimators=layer_one_estimators, final_estimator=layer_two)**:\n",
        "  * Membuat objek StackingClassifier bernama clf yang merupakan model stacking classifier utama.\n",
        "  * **estimators=layer_one_estimators**: Menggunakan estimator yang telah didefinisikan di layer_one_estimators (Random Forest dan KNN) sebagai base estimators di layer pertama.\n",
        "  * **final_estimator=layer_two**: Menggunakan objek layer_two (StackingClassifier) yang telah dibuat sebelumnya sebagai estimator final.\n",
        "* **X_train, X_test, y_train, y_test = train_test_split(X, y, stratify=y, random_state=42)**:\n",
        "  * Membagi data (X dan y) menjadi data latih (training) dan data uji (testing).\n",
        "  * **stratify=y**: Memastikan proporsi kelas (labels) yang sama antara data latih dan data uji.\n",
        "  * **random_state=42**: Menentukan seed untuk generator angka acak, sehingga hasilnya dapat direproduksi.\n",
        "* **clf.fit(X_train, y_train).score(X_test, y_test)**:\n",
        "  * Melatih model stacking classifier (clf) dengan data latih (X_train dan y_train).\n",
        "  * Mengevaluasi performa model dengan data uji (X_test dan y_test) dan menampilkan skor akurasi.\n",
        "\n",
        "Jadi, secara keseluruhan kode tersebut mendefinisikan dan melatih model stacking classifier dua layer. Layer pertama menggunakan Random Forest dan KNN, layer kedua menggunakan Decision Tree dan Random Forest yang digabungkan dengan Logistic Regression sebagai estimator final. Model kemudian dilatih dan dievaluasi dengan data yang telah dibagi menjadi data latih dan data uji.\n",
        "\n",
        "---"
      ],
      "metadata": {
        "id": "k1EVjOpfuUHo"
      }
    },
    {
      "cell_type": "markdown",
      "source": [
        "# **Praktikum 4**\n",
        "voting\n",
        "\n",
        "Download Dataset Terlebih Dahulu ⬇️\n",
        "\n",
        "**Stacking dengan Voting**\n",
        "\n",
        "Pada kasus ini kita akan menggunakan salah satu metode stacking yaitu voting untuk mengklasifikasikan pasien penderita diabetes dengan beberapa ciri. Pasien akan di klasifikasikan menjadi pasien menderita diabetes (1) dan tidak menderita diabetes (0). Pertama-tama, kita akan menggunakan beberapa algoritma klasifikasi secara terpisah, yaitu Naive Bayes, SVM Linier, dan SVM RBF. Setelah itu, kita akan menggabungkan performa dari 3 algoritma tersebut dengan menggunakan metode ensemble voting.\n",
        "\n",
        "---"
      ],
      "metadata": {
        "id": "BV2pFEHC6qp2"
      }
    },
    {
      "cell_type": "markdown",
      "source": [
        "**Import Library**"
      ],
      "metadata": {
        "id": "PUuqgdf461ZL"
      }
    },
    {
      "cell_type": "code",
      "source": [
        "import numpy as np\n",
        "import pandas as pd\n",
        "from sklearn.naive_bayes import GaussianNB # import Naive Bayes model Gaussian (asumsi data terdistribusi normal)\n",
        "from sklearn.svm import SVC # import SVM classifier\n",
        "from sklearn.ensemble import VotingClassifier # import model Voting\n",
        "from sklearn.model_selection import train_test_split\n",
        "from sklearn.metrics import accuracy_score, classification_report"
      ],
      "metadata": {
        "id": "ycfDVUPm7FWx"
      },
      "execution_count": null,
      "outputs": []
    },
    {
      "cell_type": "markdown",
      "source": [
        "**Penjelasan:**\n",
        "\n",
        "Kode tersebut mengimpor library yang dibutuhkan untuk membangun model ensemble learning dengan metode Voting, yang menggabungkan beberapa model machine learning untuk membuat prediksi. Model-model yang digunakan adalah Gaussian Naive Bayes dan Support Vector Machine (SVM).\n",
        "* **numpy (as np)**: Digunakan untuk operasi numerik, seperti membuat array dan matriks.\n",
        "* **pandas (as pd)**: Digunakan untuk manipulasi dan analisis data, menyediakan struktur data seperti DataFrame.\n",
        "* **sklearn.naive_bayes**: Modul yang menyediakan berbagai model Naive Bayes.\n",
        "  * **GaussianNB**: Kelas untuk membuat model Gaussian Naive Bayes, yang mengasumsikan data terdistribusi normal.\n",
        "* **sklearn.svm**: Modul yang menyediakan berbagai model Support Vector Machine.\n",
        "  * **SVC**: Kelas untuk membuat model Support Vector Classifier.\n",
        "* **sklearn.ensemble**: Modul yang berisi berbagai metode ensemble learning.\n",
        "  * **VotingClassifier**: Kelas untuk membuat model Voting Classifier yang menggabungkan prediksi dari beberapa model.\n",
        "* **sklearn.model_selection**: Modul untuk tools yang membantu dalam proses evaluasi model.\n",
        "  * **train_test_split**: Fungsi untuk membagi data menjadi data training dan testing.\n",
        "* **sklearn.metrics**: Modul untuk mengevaluasi performa model.\n",
        "  * **accuracy_score**: Fungsi untuk menghitung akurasi model.\n",
        "  * **classification_report**: Fungsi untuk membuat laporan klasifikasi yang berisi informasi seperti precision, recall, dan f1-score.\n",
        "\n",
        "Jadi, kode tersebut mempersiapkan environment untuk membangun model ensemble dengan metode Voting, yang akan menggabungkan prediksi dari Gaussian Naive Bayes dan SVM (dengan berbagai kernel) untuk meningkatkan performa prediksi.\n",
        "\n",
        "---"
      ],
      "metadata": {
        "id": "nMbvjMGF6Ewj"
      }
    },
    {
      "cell_type": "markdown",
      "source": [
        "**Persiapan Data**"
      ],
      "metadata": {
        "id": "x7C-d2sS7Hlt"
      }
    },
    {
      "cell_type": "code",
      "source": [
        "# Load Data\n",
        "\n",
        "dbt = pd.read_csv('dataset/diabetes.csv')\n",
        "\n",
        "dbt.head()"
      ],
      "metadata": {
        "colab": {
          "base_uri": "https://localhost:8080/",
          "height": 226
        },
        "id": "naswLwlv7JKF",
        "outputId": "5ef301ea-4740-48b7-c81e-4ba7ff5908be"
      },
      "execution_count": null,
      "outputs": [
        {
          "output_type": "execute_result",
          "data": {
            "text/plain": [
              "   Pregnancies  Glucose  BloodPressure  SkinThickness  Insulin   BMI  \\\n",
              "0            6      148             72             35        0  33.6   \n",
              "1            1       85             66             29        0  26.6   \n",
              "2            8      183             64              0        0  23.3   \n",
              "3            1       89             66             23       94  28.1   \n",
              "4            0      137             40             35      168  43.1   \n",
              "\n",
              "   DiabetesPedigreeFunction  Age  Outcome  \n",
              "0                     0.627   50        1  \n",
              "1                     0.351   31        0  \n",
              "2                     0.672   32        1  \n",
              "3                     0.167   21        0  \n",
              "4                     2.288   33        1  "
            ],
            "text/html": [
              "\n",
              "  <div id=\"df-1bdbb0cf-a067-4576-bedc-bb5d1c718dd1\" class=\"colab-df-container\">\n",
              "    <div>\n",
              "<style scoped>\n",
              "    .dataframe tbody tr th:only-of-type {\n",
              "        vertical-align: middle;\n",
              "    }\n",
              "\n",
              "    .dataframe tbody tr th {\n",
              "        vertical-align: top;\n",
              "    }\n",
              "\n",
              "    .dataframe thead th {\n",
              "        text-align: right;\n",
              "    }\n",
              "</style>\n",
              "<table border=\"1\" class=\"dataframe\">\n",
              "  <thead>\n",
              "    <tr style=\"text-align: right;\">\n",
              "      <th></th>\n",
              "      <th>Pregnancies</th>\n",
              "      <th>Glucose</th>\n",
              "      <th>BloodPressure</th>\n",
              "      <th>SkinThickness</th>\n",
              "      <th>Insulin</th>\n",
              "      <th>BMI</th>\n",
              "      <th>DiabetesPedigreeFunction</th>\n",
              "      <th>Age</th>\n",
              "      <th>Outcome</th>\n",
              "    </tr>\n",
              "  </thead>\n",
              "  <tbody>\n",
              "    <tr>\n",
              "      <th>0</th>\n",
              "      <td>6</td>\n",
              "      <td>148</td>\n",
              "      <td>72</td>\n",
              "      <td>35</td>\n",
              "      <td>0</td>\n",
              "      <td>33.6</td>\n",
              "      <td>0.627</td>\n",
              "      <td>50</td>\n",
              "      <td>1</td>\n",
              "    </tr>\n",
              "    <tr>\n",
              "      <th>1</th>\n",
              "      <td>1</td>\n",
              "      <td>85</td>\n",
              "      <td>66</td>\n",
              "      <td>29</td>\n",
              "      <td>0</td>\n",
              "      <td>26.6</td>\n",
              "      <td>0.351</td>\n",
              "      <td>31</td>\n",
              "      <td>0</td>\n",
              "    </tr>\n",
              "    <tr>\n",
              "      <th>2</th>\n",
              "      <td>8</td>\n",
              "      <td>183</td>\n",
              "      <td>64</td>\n",
              "      <td>0</td>\n",
              "      <td>0</td>\n",
              "      <td>23.3</td>\n",
              "      <td>0.672</td>\n",
              "      <td>32</td>\n",
              "      <td>1</td>\n",
              "    </tr>\n",
              "    <tr>\n",
              "      <th>3</th>\n",
              "      <td>1</td>\n",
              "      <td>89</td>\n",
              "      <td>66</td>\n",
              "      <td>23</td>\n",
              "      <td>94</td>\n",
              "      <td>28.1</td>\n",
              "      <td>0.167</td>\n",
              "      <td>21</td>\n",
              "      <td>0</td>\n",
              "    </tr>\n",
              "    <tr>\n",
              "      <th>4</th>\n",
              "      <td>0</td>\n",
              "      <td>137</td>\n",
              "      <td>40</td>\n",
              "      <td>35</td>\n",
              "      <td>168</td>\n",
              "      <td>43.1</td>\n",
              "      <td>2.288</td>\n",
              "      <td>33</td>\n",
              "      <td>1</td>\n",
              "    </tr>\n",
              "  </tbody>\n",
              "</table>\n",
              "</div>\n",
              "    <div class=\"colab-df-buttons\">\n",
              "\n",
              "  <div class=\"colab-df-container\">\n",
              "    <button class=\"colab-df-convert\" onclick=\"convertToInteractive('df-1bdbb0cf-a067-4576-bedc-bb5d1c718dd1')\"\n",
              "            title=\"Convert this dataframe to an interactive table.\"\n",
              "            style=\"display:none;\">\n",
              "\n",
              "  <svg xmlns=\"http://www.w3.org/2000/svg\" height=\"24px\" viewBox=\"0 -960 960 960\">\n",
              "    <path d=\"M120-120v-720h720v720H120Zm60-500h600v-160H180v160Zm220 220h160v-160H400v160Zm0 220h160v-160H400v160ZM180-400h160v-160H180v160Zm440 0h160v-160H620v160ZM180-180h160v-160H180v160Zm440 0h160v-160H620v160Z\"/>\n",
              "  </svg>\n",
              "    </button>\n",
              "\n",
              "  <style>\n",
              "    .colab-df-container {\n",
              "      display:flex;\n",
              "      gap: 12px;\n",
              "    }\n",
              "\n",
              "    .colab-df-convert {\n",
              "      background-color: #E8F0FE;\n",
              "      border: none;\n",
              "      border-radius: 50%;\n",
              "      cursor: pointer;\n",
              "      display: none;\n",
              "      fill: #1967D2;\n",
              "      height: 32px;\n",
              "      padding: 0 0 0 0;\n",
              "      width: 32px;\n",
              "    }\n",
              "\n",
              "    .colab-df-convert:hover {\n",
              "      background-color: #E2EBFA;\n",
              "      box-shadow: 0px 1px 2px rgba(60, 64, 67, 0.3), 0px 1px 3px 1px rgba(60, 64, 67, 0.15);\n",
              "      fill: #174EA6;\n",
              "    }\n",
              "\n",
              "    .colab-df-buttons div {\n",
              "      margin-bottom: 4px;\n",
              "    }\n",
              "\n",
              "    [theme=dark] .colab-df-convert {\n",
              "      background-color: #3B4455;\n",
              "      fill: #D2E3FC;\n",
              "    }\n",
              "\n",
              "    [theme=dark] .colab-df-convert:hover {\n",
              "      background-color: #434B5C;\n",
              "      box-shadow: 0px 1px 3px 1px rgba(0, 0, 0, 0.15);\n",
              "      filter: drop-shadow(0px 1px 2px rgba(0, 0, 0, 0.3));\n",
              "      fill: #FFFFFF;\n",
              "    }\n",
              "  </style>\n",
              "\n",
              "    <script>\n",
              "      const buttonEl =\n",
              "        document.querySelector('#df-1bdbb0cf-a067-4576-bedc-bb5d1c718dd1 button.colab-df-convert');\n",
              "      buttonEl.style.display =\n",
              "        google.colab.kernel.accessAllowed ? 'block' : 'none';\n",
              "\n",
              "      async function convertToInteractive(key) {\n",
              "        const element = document.querySelector('#df-1bdbb0cf-a067-4576-bedc-bb5d1c718dd1');\n",
              "        const dataTable =\n",
              "          await google.colab.kernel.invokeFunction('convertToInteractive',\n",
              "                                                    [key], {});\n",
              "        if (!dataTable) return;\n",
              "\n",
              "        const docLinkHtml = 'Like what you see? Visit the ' +\n",
              "          '<a target=\"_blank\" href=https://colab.research.google.com/notebooks/data_table.ipynb>data table notebook</a>'\n",
              "          + ' to learn more about interactive tables.';\n",
              "        element.innerHTML = '';\n",
              "        dataTable['output_type'] = 'display_data';\n",
              "        await google.colab.output.renderOutput(dataTable, element);\n",
              "        const docLink = document.createElement('div');\n",
              "        docLink.innerHTML = docLinkHtml;\n",
              "        element.appendChild(docLink);\n",
              "      }\n",
              "    </script>\n",
              "  </div>\n",
              "\n",
              "\n",
              "<div id=\"df-48ffcc3a-3419-4bfe-b4f4-3ecc6b06e0f9\">\n",
              "  <button class=\"colab-df-quickchart\" onclick=\"quickchart('df-48ffcc3a-3419-4bfe-b4f4-3ecc6b06e0f9')\"\n",
              "            title=\"Suggest charts\"\n",
              "            style=\"display:none;\">\n",
              "\n",
              "<svg xmlns=\"http://www.w3.org/2000/svg\" height=\"24px\"viewBox=\"0 0 24 24\"\n",
              "     width=\"24px\">\n",
              "    <g>\n",
              "        <path d=\"M19 3H5c-1.1 0-2 .9-2 2v14c0 1.1.9 2 2 2h14c1.1 0 2-.9 2-2V5c0-1.1-.9-2-2-2zM9 17H7v-7h2v7zm4 0h-2V7h2v10zm4 0h-2v-4h2v4z\"/>\n",
              "    </g>\n",
              "</svg>\n",
              "  </button>\n",
              "\n",
              "<style>\n",
              "  .colab-df-quickchart {\n",
              "      --bg-color: #E8F0FE;\n",
              "      --fill-color: #1967D2;\n",
              "      --hover-bg-color: #E2EBFA;\n",
              "      --hover-fill-color: #174EA6;\n",
              "      --disabled-fill-color: #AAA;\n",
              "      --disabled-bg-color: #DDD;\n",
              "  }\n",
              "\n",
              "  [theme=dark] .colab-df-quickchart {\n",
              "      --bg-color: #3B4455;\n",
              "      --fill-color: #D2E3FC;\n",
              "      --hover-bg-color: #434B5C;\n",
              "      --hover-fill-color: #FFFFFF;\n",
              "      --disabled-bg-color: #3B4455;\n",
              "      --disabled-fill-color: #666;\n",
              "  }\n",
              "\n",
              "  .colab-df-quickchart {\n",
              "    background-color: var(--bg-color);\n",
              "    border: none;\n",
              "    border-radius: 50%;\n",
              "    cursor: pointer;\n",
              "    display: none;\n",
              "    fill: var(--fill-color);\n",
              "    height: 32px;\n",
              "    padding: 0;\n",
              "    width: 32px;\n",
              "  }\n",
              "\n",
              "  .colab-df-quickchart:hover {\n",
              "    background-color: var(--hover-bg-color);\n",
              "    box-shadow: 0 1px 2px rgba(60, 64, 67, 0.3), 0 1px 3px 1px rgba(60, 64, 67, 0.15);\n",
              "    fill: var(--button-hover-fill-color);\n",
              "  }\n",
              "\n",
              "  .colab-df-quickchart-complete:disabled,\n",
              "  .colab-df-quickchart-complete:disabled:hover {\n",
              "    background-color: var(--disabled-bg-color);\n",
              "    fill: var(--disabled-fill-color);\n",
              "    box-shadow: none;\n",
              "  }\n",
              "\n",
              "  .colab-df-spinner {\n",
              "    border: 2px solid var(--fill-color);\n",
              "    border-color: transparent;\n",
              "    border-bottom-color: var(--fill-color);\n",
              "    animation:\n",
              "      spin 1s steps(1) infinite;\n",
              "  }\n",
              "\n",
              "  @keyframes spin {\n",
              "    0% {\n",
              "      border-color: transparent;\n",
              "      border-bottom-color: var(--fill-color);\n",
              "      border-left-color: var(--fill-color);\n",
              "    }\n",
              "    20% {\n",
              "      border-color: transparent;\n",
              "      border-left-color: var(--fill-color);\n",
              "      border-top-color: var(--fill-color);\n",
              "    }\n",
              "    30% {\n",
              "      border-color: transparent;\n",
              "      border-left-color: var(--fill-color);\n",
              "      border-top-color: var(--fill-color);\n",
              "      border-right-color: var(--fill-color);\n",
              "    }\n",
              "    40% {\n",
              "      border-color: transparent;\n",
              "      border-right-color: var(--fill-color);\n",
              "      border-top-color: var(--fill-color);\n",
              "    }\n",
              "    60% {\n",
              "      border-color: transparent;\n",
              "      border-right-color: var(--fill-color);\n",
              "    }\n",
              "    80% {\n",
              "      border-color: transparent;\n",
              "      border-right-color: var(--fill-color);\n",
              "      border-bottom-color: var(--fill-color);\n",
              "    }\n",
              "    90% {\n",
              "      border-color: transparent;\n",
              "      border-bottom-color: var(--fill-color);\n",
              "    }\n",
              "  }\n",
              "</style>\n",
              "\n",
              "  <script>\n",
              "    async function quickchart(key) {\n",
              "      const quickchartButtonEl =\n",
              "        document.querySelector('#' + key + ' button');\n",
              "      quickchartButtonEl.disabled = true;  // To prevent multiple clicks.\n",
              "      quickchartButtonEl.classList.add('colab-df-spinner');\n",
              "      try {\n",
              "        const charts = await google.colab.kernel.invokeFunction(\n",
              "            'suggestCharts', [key], {});\n",
              "      } catch (error) {\n",
              "        console.error('Error during call to suggestCharts:', error);\n",
              "      }\n",
              "      quickchartButtonEl.classList.remove('colab-df-spinner');\n",
              "      quickchartButtonEl.classList.add('colab-df-quickchart-complete');\n",
              "    }\n",
              "    (() => {\n",
              "      let quickchartButtonEl =\n",
              "        document.querySelector('#df-48ffcc3a-3419-4bfe-b4f4-3ecc6b06e0f9 button');\n",
              "      quickchartButtonEl.style.display =\n",
              "        google.colab.kernel.accessAllowed ? 'block' : 'none';\n",
              "    })();\n",
              "  </script>\n",
              "</div>\n",
              "\n",
              "    </div>\n",
              "  </div>\n"
            ],
            "application/vnd.google.colaboratory.intrinsic+json": {
              "type": "dataframe",
              "variable_name": "dbt",
              "summary": "{\n  \"name\": \"dbt\",\n  \"rows\": 768,\n  \"fields\": [\n    {\n      \"column\": \"Pregnancies\",\n      \"properties\": {\n        \"dtype\": \"number\",\n        \"std\": 3,\n        \"min\": 0,\n        \"max\": 17,\n        \"num_unique_values\": 17,\n        \"samples\": [\n          6,\n          1,\n          3\n        ],\n        \"semantic_type\": \"\",\n        \"description\": \"\"\n      }\n    },\n    {\n      \"column\": \"Glucose\",\n      \"properties\": {\n        \"dtype\": \"number\",\n        \"std\": 31,\n        \"min\": 0,\n        \"max\": 199,\n        \"num_unique_values\": 136,\n        \"samples\": [\n          151,\n          101,\n          112\n        ],\n        \"semantic_type\": \"\",\n        \"description\": \"\"\n      }\n    },\n    {\n      \"column\": \"BloodPressure\",\n      \"properties\": {\n        \"dtype\": \"number\",\n        \"std\": 19,\n        \"min\": 0,\n        \"max\": 122,\n        \"num_unique_values\": 47,\n        \"samples\": [\n          86,\n          46,\n          85\n        ],\n        \"semantic_type\": \"\",\n        \"description\": \"\"\n      }\n    },\n    {\n      \"column\": \"SkinThickness\",\n      \"properties\": {\n        \"dtype\": \"number\",\n        \"std\": 15,\n        \"min\": 0,\n        \"max\": 99,\n        \"num_unique_values\": 51,\n        \"samples\": [\n          7,\n          12,\n          48\n        ],\n        \"semantic_type\": \"\",\n        \"description\": \"\"\n      }\n    },\n    {\n      \"column\": \"Insulin\",\n      \"properties\": {\n        \"dtype\": \"number\",\n        \"std\": 115,\n        \"min\": 0,\n        \"max\": 846,\n        \"num_unique_values\": 186,\n        \"samples\": [\n          52,\n          41,\n          183\n        ],\n        \"semantic_type\": \"\",\n        \"description\": \"\"\n      }\n    },\n    {\n      \"column\": \"BMI\",\n      \"properties\": {\n        \"dtype\": \"number\",\n        \"std\": 7.8841603203754405,\n        \"min\": 0.0,\n        \"max\": 67.1,\n        \"num_unique_values\": 248,\n        \"samples\": [\n          19.9,\n          31.0,\n          38.1\n        ],\n        \"semantic_type\": \"\",\n        \"description\": \"\"\n      }\n    },\n    {\n      \"column\": \"DiabetesPedigreeFunction\",\n      \"properties\": {\n        \"dtype\": \"number\",\n        \"std\": 0.33132859501277484,\n        \"min\": 0.078,\n        \"max\": 2.42,\n        \"num_unique_values\": 517,\n        \"samples\": [\n          1.731,\n          0.426,\n          0.138\n        ],\n        \"semantic_type\": \"\",\n        \"description\": \"\"\n      }\n    },\n    {\n      \"column\": \"Age\",\n      \"properties\": {\n        \"dtype\": \"number\",\n        \"std\": 11,\n        \"min\": 21,\n        \"max\": 81,\n        \"num_unique_values\": 52,\n        \"samples\": [\n          60,\n          47,\n          72\n        ],\n        \"semantic_type\": \"\",\n        \"description\": \"\"\n      }\n    },\n    {\n      \"column\": \"Outcome\",\n      \"properties\": {\n        \"dtype\": \"number\",\n        \"std\": 0,\n        \"min\": 0,\n        \"max\": 1,\n        \"num_unique_values\": 2,\n        \"samples\": [\n          0,\n          1\n        ],\n        \"semantic_type\": \"\",\n        \"description\": \"\"\n      }\n    }\n  ]\n}"
            }
          },
          "metadata": {},
          "execution_count": 19
        }
      ]
    },
    {
      "cell_type": "markdown",
      "source": [
        "**Penjelasan:**\n",
        "\n",
        "Kode tersebut membaca data dari file CSV bernama 'diabetes.csv' yang berada di folder 'dataset' dan menampilkan 5 baris pertama dari data tersebut.\n",
        "* **dbt = pd.read_csv('dataset/diabetes.csv')**:\n",
        "  * **pd.read_csv(...)**: Fungsi dari library Pandas untuk membaca data dari file CSV (Comma Separated Values).\n",
        "  * **'dataset/diabetes.csv'**: Path ke file CSV. Dalam hal ini, file 'diabetes.csv' diasumsikan berada di folder 'dataset' yang terletak di direktori yang sama dengan notebook/kode program.\n",
        "  * **dbt = ...**: Data yang telah dibaca dari file CSV disimpan ke dalam variabel dbt dalam bentuk DataFrame (struktur data di Pandas).\n",
        "* **dbt.head()**:\n",
        "  * **dbt.head(...)**: Fungsi untuk menampilkan beberapa baris pertama dari DataFrame.\n",
        "  * Secara default, head() menampilkan 5 baris pertama. Ini berguna untuk melihat sekilas struktur data dan isi dari dataset, seperti nama kolom dan beberapa nilai awal pada setiap kolom.\n",
        "---"
      ],
      "metadata": {
        "id": "Xp0aeNhR6FX2"
      }
    },
    {
      "cell_type": "code",
      "source": [
        "# Cek nama kolom\n",
        "dbt.columns"
      ],
      "metadata": {
        "colab": {
          "base_uri": "https://localhost:8080/"
        },
        "id": "GbSVW8xQ7QtL",
        "outputId": "1eb76cf0-6993-4c17-f3a9-e2d02c438658"
      },
      "execution_count": null,
      "outputs": [
        {
          "output_type": "execute_result",
          "data": {
            "text/plain": [
              "Index(['Pregnancies', 'Glucose', 'BloodPressure', 'SkinThickness', 'Insulin',\n",
              "       'BMI', 'DiabetesPedigreeFunction', 'Age', 'Outcome'],\n",
              "      dtype='object')"
            ]
          },
          "metadata": {},
          "execution_count": 20
        }
      ]
    },
    {
      "cell_type": "markdown",
      "source": [
        "**Penjelasan:**\n",
        "\n",
        "Kode tersebut digunakan untuk menampilkan nama-nama kolom yang terdapat pada DataFrame dbt.\n",
        "* **dbt.columns**: Atribut dari objek DataFrame di Pandas yang berisi informasi tentang nama-nama kolom.\n",
        "\n",
        "Jadi, dengan menjalankan kode tersebut akan mendapatkan output berupa daftar nama kolom yang ada di dataset diabetes. Ini berguna untuk mengetahui variabel-variabel apa saja yang terdapat di dataset dan memastikan bahwa data telah terbaca dengan benar.\n",
        "\n",
        "---"
      ],
      "metadata": {
        "id": "4Ow_-7jG7Mou"
      }
    },
    {
      "cell_type": "code",
      "source": [
        "# Cek kolom null\n",
        "dbt.isnull().sum()"
      ],
      "metadata": {
        "colab": {
          "base_uri": "https://localhost:8080/",
          "height": 366
        },
        "id": "QOg4Z1sk7WLM",
        "outputId": "0f8cbf85-bfe8-4f6a-d9af-f63d666346a6"
      },
      "execution_count": null,
      "outputs": [
        {
          "output_type": "execute_result",
          "data": {
            "text/plain": [
              "Pregnancies                 0\n",
              "Glucose                     0\n",
              "BloodPressure               0\n",
              "SkinThickness               0\n",
              "Insulin                     0\n",
              "BMI                         0\n",
              "DiabetesPedigreeFunction    0\n",
              "Age                         0\n",
              "Outcome                     0\n",
              "dtype: int64"
            ],
            "text/html": [
              "<div>\n",
              "<style scoped>\n",
              "    .dataframe tbody tr th:only-of-type {\n",
              "        vertical-align: middle;\n",
              "    }\n",
              "\n",
              "    .dataframe tbody tr th {\n",
              "        vertical-align: top;\n",
              "    }\n",
              "\n",
              "    .dataframe thead th {\n",
              "        text-align: right;\n",
              "    }\n",
              "</style>\n",
              "<table border=\"1\" class=\"dataframe\">\n",
              "  <thead>\n",
              "    <tr style=\"text-align: right;\">\n",
              "      <th></th>\n",
              "      <th>0</th>\n",
              "    </tr>\n",
              "  </thead>\n",
              "  <tbody>\n",
              "    <tr>\n",
              "      <th>Pregnancies</th>\n",
              "      <td>0</td>\n",
              "    </tr>\n",
              "    <tr>\n",
              "      <th>Glucose</th>\n",
              "      <td>0</td>\n",
              "    </tr>\n",
              "    <tr>\n",
              "      <th>BloodPressure</th>\n",
              "      <td>0</td>\n",
              "    </tr>\n",
              "    <tr>\n",
              "      <th>SkinThickness</th>\n",
              "      <td>0</td>\n",
              "    </tr>\n",
              "    <tr>\n",
              "      <th>Insulin</th>\n",
              "      <td>0</td>\n",
              "    </tr>\n",
              "    <tr>\n",
              "      <th>BMI</th>\n",
              "      <td>0</td>\n",
              "    </tr>\n",
              "    <tr>\n",
              "      <th>DiabetesPedigreeFunction</th>\n",
              "      <td>0</td>\n",
              "    </tr>\n",
              "    <tr>\n",
              "      <th>Age</th>\n",
              "      <td>0</td>\n",
              "    </tr>\n",
              "    <tr>\n",
              "      <th>Outcome</th>\n",
              "      <td>0</td>\n",
              "    </tr>\n",
              "  </tbody>\n",
              "</table>\n",
              "</div><br><label><b>dtype:</b> int64</label>"
            ]
          },
          "metadata": {},
          "execution_count": 21
        }
      ]
    },
    {
      "cell_type": "markdown",
      "source": [
        "**Penjelasan:**\n",
        "\n",
        "Kode tersebut digunakan untuk mengecek dan menghitung jumlah nilai null (kosong) pada setiap kolom di DataFrame df.\n",
        "* **dbt.isnull()**: Fungsi ini akan mengecek setiap nilai di DataFrame. Jika nilai tersebut null, maka akan menghasilkan nilai True, dan False jika tidak null. Outputnya adalah DataFrame baru dengan nilai boolean.\n",
        "* **.sum()**: Fungsi ini menjumlahkan nilai True pada setiap kolom. Karena True diinterpretasikan sebagai 1, maka outputnya adalah jumlah nilai null pada setiap kolom.\n",
        "\n",
        "Jadi, kode tersebut digunakan untuk melakukan pengecekan awal pada dataset untuk melihat apakah ada data yang hilang atau tidak lengkap.\n",
        "\n",
        "---"
      ],
      "metadata": {
        "id": "TF6WN1JQ7NbN"
      }
    },
    {
      "cell_type": "code",
      "source": [
        "# Pada kasus ini, agak tidak masuk akal jika beberapa parameter bernilai 0\n",
        "# sebagai contoh adalah nilai 'Glucose', 'BloodPlessure' ataupun 'Insulin'.\n",
        "# Sekecil apapun nilainya, setiap manusia yang hidup pasti miliki nilai-nilai tersebut\n",
        "\n",
        "# Kita akan manipulasi nilai yang 0 dengan melakukan 'imputasi' atau mengganti nilainya dengan nilai sintetis\n",
        "# Pada kasus ini, kita akan menggunakan nilai mean\n",
        "\n",
        "# Cek kolom neng nilai 0\n",
        "feature_columns = ['Pregnancies', 'Glucose', 'BloodPressure', 'SkinThickness', 'Insulin', 'BMI', 'DiabetesPedigreeFunction', 'Age']\n",
        "for column in feature_columns:\n",
        "    print(\"============================================\")\n",
        "    print(f\"{column} ==> Missing zeros : {len(dbt.loc[dbt[column] == 0])}\")"
      ],
      "metadata": {
        "colab": {
          "base_uri": "https://localhost:8080/"
        },
        "id": "XJkj_IGi7ZDB",
        "outputId": "83c65393-b47b-4574-e91d-531829a486fe"
      },
      "execution_count": null,
      "outputs": [
        {
          "output_type": "stream",
          "name": "stdout",
          "text": [
            "============================================\n",
            "Pregnancies ==> Missing zeros : 111\n",
            "============================================\n",
            "Glucose ==> Missing zeros : 5\n",
            "============================================\n",
            "BloodPressure ==> Missing zeros : 35\n",
            "============================================\n",
            "SkinThickness ==> Missing zeros : 227\n",
            "============================================\n",
            "Insulin ==> Missing zeros : 374\n",
            "============================================\n",
            "BMI ==> Missing zeros : 11\n",
            "============================================\n",
            "DiabetesPedigreeFunction ==> Missing zeros : 0\n",
            "============================================\n",
            "Age ==> Missing zeros : 0\n"
          ]
        }
      ]
    },
    {
      "cell_type": "markdown",
      "source": [
        "**Penjelasan:**\n",
        "\n",
        "Kode tersebut digunakan untuk mengecek dan menampilkan jumlah nilai 0 (nol) yang ada di setiap kolom pada DataFrame dbt. Pengecekan ini dilakukan pada kolom-kolom yang tercantum dalam list feature_columns.\n",
        "* **feature_columns = [...]**: List yang berisi nama-nama kolom yang akan dicek.\n",
        "* **for column in feature_columns:**: Perulangan (loop) yang akan dijalankan untuk setiap kolom di feature_columns.\n",
        "* **print(\"============================================\")**: Menampilkan garis pemisah untuk memudahkan pembacaan output.\n",
        "* **print(f\"{column} ==> Missing zeros : {len(dbt.loc[dbt[column] == 0])}\")**:\n",
        "  * Menampilkan nama kolom dan jumlah nilai 0 yang ada di kolom tersebut.\n",
        "  * **dbt.loc[dbt[column] == 0]**: Memilih baris-baris di DataFrame dbt di mana nilai pada kolom column sama dengan 0.\n",
        "  * **len(...)**: Menghitung jumlah baris (data) yang memiliki nilai 0.\n",
        "---"
      ],
      "metadata": {
        "id": "CCDNvr5P7N-M"
      }
    },
    {
      "cell_type": "code",
      "source": [
        "# Impute nilai 0 dengan mean\n",
        "from sklearn.impute import SimpleImputer\n",
        "\n",
        "fill_values = SimpleImputer(missing_values=0, strategy=\"mean\", copy=False)\n",
        "\n",
        "dbt[feature_columns] = fill_values.fit_transform(dbt[feature_columns])"
      ],
      "metadata": {
        "id": "bNfBe3Iz7b3B"
      },
      "execution_count": null,
      "outputs": []
    },
    {
      "cell_type": "markdown",
      "source": [
        "**Penjelasan:**\n",
        "\n",
        "Kode tersebut digunakan untuk mengisi (imputasi) nilai-nilai 0 pada kolom-kolom yang ditentukan di feature_columns dengan nilai rata-rata (mean) dari kolom tersebut.\n",
        "* **from sklearn.impute import SimpleImputer**: Mengimpor kelas SimpleImputer dari modul sklearn.impute. SimpleImputer digunakan untuk mengisi nilai-nilai yang hilang dalam dataset.\n",
        "* **fill_values = SimpleImputer(missing_values=0, strategy=\"mean\", copy=False)**:\n",
        "  * Membuat objek SimpleImputer dengan konfigurasi:\n",
        "    * **missing_values=0**: Menentukan nilai yang akan dianggap sebagai nilai yang hilang (dalam kasus ini, 0).\n",
        "    * **strategy=\"mean\"**: Menentukan strategi imputasi, yaitu menggunakan nilai rata-rata (mean).\n",
        "    * **copy=False**: Melakukan imputasi secara langsung pada DataFrame dbt tanpa membuat salinan baru.\n",
        "* **dbt[feature_columns] = fill_values.fit_transform(dbt[feature_columns])**:\n",
        "* **fill_values.fit_transform(...)**: Menyesuaikan imputer (fill_values) dengan data di dbt[feature_columns] dan melakukan transformasi untuk mengisi nilai-nilai 0 dengan mean.\n",
        "  * **dbt[feature_columns] = ...**: Mengganti nilai-nilai di dbt[feature_columns] dengan hasil imputasi.\n",
        "\n",
        "Jadi, kode tersebut bertujuan untuk menangani nilai 0 yang mungkin dianggap sebagai data yang hilang atau tidak valid pada dataset diabetes\n",
        "\n",
        "---"
      ],
      "metadata": {
        "id": "cF8CQCVr7OtR"
      }
    },
    {
      "cell_type": "markdown",
      "source": [
        "**Split data training dan testing**"
      ],
      "metadata": {
        "id": "s2bPwXOC7e_A"
      }
    },
    {
      "cell_type": "code",
      "source": [
        "X = dbt[feature_columns]\n",
        "y = dbt.Outcome\n",
        "\n",
        "X_train, X_test, y_train, y_test = train_test_split(X, y, test_size=0.3, random_state=42)"
      ],
      "metadata": {
        "id": "eOuRYRsT7i6i"
      },
      "execution_count": null,
      "outputs": []
    },
    {
      "cell_type": "markdown",
      "source": [
        "**Penjelasan:**\n",
        "\n",
        "Kode tersebut digunakan untuk memisahkan fitur (X) dan target (y) dari DataFrame dbt, kemudian membagi data tersebut menjadi data latih (training) dan data uji (testing).\n",
        "* **X = dbt[feature_columns]**: Mengambil kolom-kolom yang tercantum di feature_columns dari DataFrame dbt dan menyimpannya ke dalam variabel X. Variabel X akan digunakan sebagai fitur untuk model machine learning.\n",
        "* **y = dbt.Outcome**: Mengambil kolom 'Outcome' dari DataFrame dbt dan menyimpannya ke dalam variabel y. Variabel y akan digunakan sebagai target atau label yang akan diprediksi oleh model.\n",
        "* **X_train, X_test, y_train, y_test = train_test_split(X, y, test_size=0.3, random_state=42)**:\n",
        "  * Membagi data X dan y menjadi data latih dan data uji menggunakan fungsi train_test_split.\n",
        "  * **test_size=0.3**: Menentukan proporsi data yang akan digunakan sebagai data uji (30% dalam kasus ini).\n",
        "  * **random_state=42**: Menentukan seed untuk generator angka acak, sehingga pembagian data akan selalu sama setiap kali kode dijalankan (berguna untuk reproduksibilitas).\n",
        "---"
      ],
      "metadata": {
        "id": "xYWNQL-67PPY"
      }
    },
    {
      "cell_type": "markdown",
      "source": [
        "**Training dengan GaussianNB**\n",
        "\n",
        "**Standarisasi Fitur**"
      ],
      "metadata": {
        "id": "0Lvgq_Eg7pG6"
      }
    },
    {
      "cell_type": "code",
      "source": [
        "# Karena asumsi Gaussian NB adalah data terdistribusi secara normal,\n",
        "# maka kita perlu melakukan standarisasi\n",
        "\n",
        "from sklearn.preprocessing import StandardScaler\n",
        "\n",
        "sc = StandardScaler()\n",
        "\n",
        "# Standarisasi pada fitur di X_train dan X_test\n",
        "X_train_std = sc.fit_transform(X_train)\n",
        "X_test_std = sc.transform(X_test)"
      ],
      "metadata": {
        "id": "fM1wOmbd7vrL"
      },
      "execution_count": null,
      "outputs": []
    },
    {
      "cell_type": "markdown",
      "source": [
        "**Penjelasan:**\n",
        "\n",
        "Kode tersebut digunakan untuk melakukan standarisasi data pada fitur-fitur di X_train dan X_test. Standarisasi adalah teknik preprocessing data yang mengubah nilai-nilai fitur sehingga memiliki rata-rata (mean) 0 dan standar deviasi 1.\n",
        "* **from sklearn.preprocessing import StandardScaler**: Mengimpor kelas StandardScaler dari modul sklearn.preprocessing. StandardScaler digunakan untuk melakukan standarisasi data.\n",
        "* **sc = StandardScaler()**: Membuat objek StandardScaler.\n",
        "* **X_train_std = sc.fit_transform(X_train)**:\n",
        "  * Menyesuaikan scaler (sc) dengan data di X_train (menghitung mean dan standar deviasi).\n",
        "  * Melakukan standarisasi pada X_train dan menyimpan hasilnya ke dalam variabel X_train_std.\n",
        "* **X_test_std = sc.transform(X_test)**: Melakukan standarisasi pada X_test menggunakan mean dan standar deviasi yang telah dihitung dari X_train.\n",
        "\n",
        "Jadi, standarisasi data penting dilakukan, terutama ketika menggunakan algoritma machine learning yang sensitif terhadap skala data, seperti Gaussian Naive Bayes. Dengan standarisasi, semua fitur akan memiliki skala yang sama, sehingga mencegah fitur dengan nilai yang lebih besar mendominasi proses pelatihan model.\n",
        "\n",
        "---"
      ],
      "metadata": {
        "id": "dBg8p6Qm7lG-"
      }
    },
    {
      "cell_type": "markdown",
      "source": [
        "**Training dan Evaluasi**"
      ],
      "metadata": {
        "id": "h5I1iusN7yuS"
      }
    },
    {
      "cell_type": "code",
      "source": [
        "# Buat obyek GaussianNB\n",
        "gnb_std = GaussianNB()\n",
        "\n",
        "# Fit dengan data yang telah di standarisasi\n",
        "gnb_std.fit(X_train_std, y_train)\n",
        "\n",
        "# Prediksi dengan data test\n",
        "y_pred_gnb = gnb_std.predict(X_test_std)\n",
        "\n",
        "# Evaluasi akurasi testing data\n",
        "acc_gnb = accuracy_score(y_test, y_pred_gnb)\n",
        "\n",
        "# Print hasil evaluasi\n",
        "print(\"Test set accuracy: {:.2f}\".format(acc_gnb))\n",
        "print(f\"Test set accuracy: {acc_gnb}\")"
      ],
      "metadata": {
        "colab": {
          "base_uri": "https://localhost:8080/"
        },
        "id": "IN9MtdUL70ww",
        "outputId": "09e5aa9f-e7c3-4bc7-991a-34b991639dad"
      },
      "execution_count": null,
      "outputs": [
        {
          "output_type": "stream",
          "name": "stdout",
          "text": [
            "Test set accuracy: 0.74\n",
            "Test set accuracy: 0.7359307359307359\n"
          ]
        }
      ]
    },
    {
      "cell_type": "markdown",
      "source": [
        "**Penjelasan:**\n",
        "\n",
        "Kode tersebut merupakan tahapan untuk membuat, melatih, dan mengevaluasi model Gaussian Naive Bayes (GNB) dengan data yang telah distandarisasi.\n",
        "* **gnb_std = GaussianNB()**: Membuat objek model Gaussian Naive Bayes (gnb_std).\n",
        "* **gnb_std.fit(X_train_std, y_train)**:\n",
        "  * Melatih model GNB (gnb_std) dengan data latih yang telah distandarisasi (X_train_std) dan target (y_train).\n",
        "  * Pada tahap ini, model akan mempelajari pola hubungan antara fitur dan target dari data latih.\n",
        "* **y_pred_gnb = gnb_std.predict(X_test_std)**:\n",
        "  * Menggunakan model GNB yang telah dilatih untuk melakukan prediksi pada data uji (X_test_std).\n",
        "  * Hasil prediksi (kelas atau label) disimpan dalam variabel y_pred_gnb.\n",
        "* **acc_gnb = accuracy_score(y_test, y_pred_gnb)**: Menghitung akurasi model dengan membandingkan hasil prediksi (y_pred_gnb) dengan target sebenarnya (y_test).\n",
        "* **print(\"Test set accuracy: {:.2f}\".format(acc_gnb))**: Menampilkan akurasi model dengan format dua angka di belakang koma.\n",
        "* **print(f\"Test set accuracy: {acc_gnb}\")**: Menampilkan akurasi model.\n",
        "---"
      ],
      "metadata": {
        "id": "jkh5bfIP7llY"
      }
    },
    {
      "cell_type": "markdown",
      "source": [
        "**Training dengan SVM Linier**"
      ],
      "metadata": {
        "id": "XW4ouYBI73KZ"
      }
    },
    {
      "cell_type": "code",
      "source": [
        "# Model SVM linier tanpa tunnning hyperparameter\n",
        "svm_lin = SVC(kernel='linear')\n",
        "\n",
        "# Fit ke model\n",
        "svm_lin.fit(X_train_std, y_train)\n",
        "\n",
        "# Prediksi\n",
        "y_pred_svm_lin = svm_lin.predict(X_test_std)\n",
        "\n",
        "# Evaluasi akurasi testing data\n",
        "acc_svm_lin = accuracy_score(y_test, y_pred_svm_lin)\n",
        "\n",
        "# Print hasil evaluasi\n",
        "print(\"Test set accuracy: {:.2f}\".format(acc_svm_lin))\n",
        "print(f\"Test set accuracy: {acc_svm_lin}\")"
      ],
      "metadata": {
        "colab": {
          "base_uri": "https://localhost:8080/"
        },
        "id": "PJRMS7jo76Ca",
        "outputId": "0ea5b6b4-f7d2-4a46-88d1-90bd22ea673c"
      },
      "execution_count": null,
      "outputs": [
        {
          "output_type": "stream",
          "name": "stdout",
          "text": [
            "Test set accuracy: 0.74\n",
            "Test set accuracy: 0.7402597402597403\n"
          ]
        }
      ]
    },
    {
      "cell_type": "markdown",
      "source": [
        "**Penjelasan:**\n",
        "\n",
        "Kode tersebut menunjukkan proses pembuatan, pelatihan, dan evaluasi model Support Vector Machine (SVM) dengan kernel linear. Model SVM digunakan untuk klasifikasi data, dan kernel linear digunakan untuk mencari hyperplane (batas keputusan) yang optimal untuk memisahkan data ke dalam kelas-kelas yang berbeda.\n",
        "* **svm_lin = SVC(kernel='linear')**:\n",
        "  * Membuat objek model SVM (svm_lin) dengan kernel linear.\n",
        "  * Parameter kernel='linear' menentukan jenis kernel yang digunakan.\n",
        "* **svm_lin.fit(X_train_std, y_train)**:\n",
        "  * Melatih model SVM (svm_lin) dengan data latih yang telah distandarisasi (X_train_std) dan target (y_train).\n",
        "  * Proses ini akan mencari hyperplane optimal untuk memisahkan data.\n",
        "* **y_pred_svm_lin = svm_lin.predict(X_test_std)**:\n",
        "  * Melakukan prediksi pada data uji (X_test_std) menggunakan model SVM yang telah dilatih.\n",
        "  * Hasil prediksi disimpan dalam variabel y_pred_svm_lin.\n",
        "* **acc_svm_lin = accuracy_score(y_test, y_pred_svm_lin)**: Menghitung akurasi model dengan membandingkan hasil prediksi (y_pred_svm_lin) dengan target sebenarnya (y_test).\n",
        "* **print(\"Test set accuracy: {:.2f}\".format(acc_svm_lin))**: Menampilkan akurasi model dengan format dua angka di belakang koma.\n",
        "* **print(f\"Test set accuracy: {acc_svm_lin}\")**: Menampilkan akurasi model.\n",
        "---"
      ],
      "metadata": {
        "id": "1Y1qwfbc7mTq"
      }
    },
    {
      "cell_type": "markdown",
      "source": [
        "**Training dengan SVM RBF**"
      ],
      "metadata": {
        "id": "edX3LuFZ78ul"
      }
    },
    {
      "cell_type": "code",
      "source": [
        "# Model SVM RBF tanpa tunnning hyperparameter\n",
        "svm_rbf = SVC(kernel='rbf')\n",
        "\n",
        "# Fit ke model\n",
        "svm_rbf.fit(X_train_std, y_train)\n",
        "\n",
        "# Prediksi\n",
        "y_pred_svm_rbf = svm_rbf.predict(X_test_std)\n",
        "\n",
        "# Evaluasi akurasi testing data\n",
        "acc_svm_rbf = accuracy_score(y_test, y_pred_svm_rbf)\n",
        "\n",
        "# Print hasil evaluasi\n",
        "print(\"Test set accuracy: {:.2f}\".format(acc_svm_rbf))\n",
        "print(f\"Test set accuracy: {acc_svm_rbf}\")"
      ],
      "metadata": {
        "colab": {
          "base_uri": "https://localhost:8080/"
        },
        "id": "KUIYPEpW7_9a",
        "outputId": "9ab8d229-0f04-43c2-aa8a-18050282daa5"
      },
      "execution_count": null,
      "outputs": [
        {
          "output_type": "stream",
          "name": "stdout",
          "text": [
            "Test set accuracy: 0.72\n",
            "Test set accuracy: 0.7229437229437229\n"
          ]
        }
      ]
    },
    {
      "cell_type": "markdown",
      "source": [
        "**Penjelasan:**\n",
        "\n",
        "Kode tersebut sangat mirip dengan kode sebelumnya, tetapi menggunakan kernel RBF (Radial Basis Function) untuk model SVM.\n",
        "* **svm_rbf = SVC(kernel='rbf')**:\n",
        "  * Membuat objek model SVM (svm_rbf) dengan kernel RBF.\n",
        "  * Kernel RBF digunakan untuk memetakan data ke ruang dimensi yang lebih tinggi sehingga data yang tidak dapat dipisahkan secara linear di ruang asli dapat dipisahkan secara linear di ruang baru.\n",
        "\n",
        "Sisanya sama seperti kode SVM linear: model dilatih dengan fit, prediksi dilakukan dengan predict, dan akurasi dihitung dengan accuracy_score dan ditampilkan.\n",
        "\n",
        "**Perbedaan kernel linear dan RBF**:\n",
        "  * **Linear**: Cocok untuk data yang sudah terpisah secara linear. Lebih sederhana dan cepat.\n",
        "  * **RBF**: Cocok untuk data yang tidak terpisah secara linear. Lebih fleksibel, tetapi bisa lebih kompleks dan membutuhkan tuning parameter.\n",
        "---"
      ],
      "metadata": {
        "id": "AovfGpQR7m_A"
      }
    },
    {
      "cell_type": "markdown",
      "source": [
        "**Training dengan Voting**"
      ],
      "metadata": {
        "id": "TkqvzH9B8FC9"
      }
    },
    {
      "cell_type": "code",
      "source": [
        "# Definisikan algoritma yang akan digunakan untuk voting\n",
        "\n",
        "clf1 = GaussianNB()\n",
        "clf2 = SVC(kernel='linear')\n",
        "clf3 = SVC(kernel='rbf', probability=True)\n",
        "\n",
        "# model hard voting\n",
        "voting = VotingClassifier(estimators=[('GaussianNB', clf1), ('SVM-LIN', clf2), ('SVM-RBF', clf3)], voting='hard')\n",
        "\n",
        "# Fit model\n",
        "voting.fit(X_train_std, y_train)\n",
        "\n",
        "# Prediksi\n",
        "y_pred_vt1 = voting.predict(X_test_std)\n",
        "\n",
        "# Evaluasi akurasi testing data\n",
        "acc_vt1 = accuracy_score(y_test, y_pred_vt1)\n",
        "\n",
        "# Print hasil evaluasi\n",
        "print('Voting Hard')\n",
        "print(\"Test set accuracy: {:.2f}\".format(acc_vt1))\n",
        "print(f\"Test set accuracy: {acc_vt1}\")"
      ],
      "metadata": {
        "colab": {
          "base_uri": "https://localhost:8080/"
        },
        "id": "sx_KX7dl8HKi",
        "outputId": "be40ff1f-7ba6-4a77-cc69-1b935b7ebbe0"
      },
      "execution_count": null,
      "outputs": [
        {
          "output_type": "stream",
          "name": "stdout",
          "text": [
            "Voting Hard\n",
            "Test set accuracy: 0.74\n",
            "Test set accuracy: 0.7402597402597403\n"
          ]
        }
      ]
    },
    {
      "cell_type": "markdown",
      "source": [
        "**Penjelasan:**\n",
        "\n",
        "Kode tersebut mendemonstrasikan penggunaan teknik ensemble learning dengan metode Voting Classifier. Voting Classifier menggabungkan prediksi dari beberapa model machine learning untuk membuat prediksi akhir.\n",
        "* **clf1 = GaussianNB()**: Membuat objek model Gaussian Naive Bayes.\n",
        "* **clf2 = SVC(kernel='linear')**: Membuat objek model SVM dengan kernel linear.\n",
        "* **clf3 = SVC(kernel='rbf', probability=True)**: Membuat objek model SVM dengan kernel RBF. Parameter probability=True diperlukan untuk metode soft voting.\n",
        "* **voting = VotingClassifier(estimators=[('GaussianNB', clf1), ('SVM-LIN', clf2), ('SVM-RBF', clf3)], voting='hard')**:\n",
        "  * Membuat objek VotingClassifier dengan nama voting.\n",
        "  * **estimators**: List yang berisi tuple, di mana setiap tuple berisi nama model dan objek modelnya.\n",
        "  * **voting='hard'**: Menentukan metode hard voting, di mana kelas yang paling banyak diprediksi oleh model-model individual akan dipilih sebagai prediksi akhir.\n",
        "* **voting.fit(X_train_std, y_train)**: Melatih VotingClassifier dengan data latih yang telah distandarisasi (X_train_std) dan target (y_train). Setiap model individual akan dilatih secara terpisah.\n",
        "* **y_pred_vt1 = voting.predict(X_test_std)**: Melakukan prediksi pada data uji (X_test_std) menggunakan VotingClassifier yang telah dilatih.\n",
        "* **acc_vt1 = accuracy_score(y_test, y_pred_vt1)**: Menghitung akurasi VotingClassifier dengan membandingkan prediksi (y_pred_vt1) dengan target sebenarnya (y_test).\n",
        "* **print('Voting Hard')**: Menampilkan teks 'Voting Hard' untuk menunjukkan bahwa metode voting yang digunakan adalah hard voting.\n",
        "* **print(\"Test set accuracy: {:.2f}\".format(acc_vt1))**: Menampilkan akurasi model VotingClassifier (acc_vt1) dengan format dua angka di belakang koma.\n",
        "* **print(f\"Test set accuracy: {acc_vt1}\")**: Menampilkan akurasi model VotingClassifier (acc_vt1).\n",
        "---"
      ],
      "metadata": {
        "id": "t9mcVYwb8COi"
      }
    },
    {
      "cell_type": "markdown",
      "source": [
        "# **Tugas**"
      ],
      "metadata": {
        "id": "cxpiWgWf8Md7"
      }
    },
    {
      "cell_type": "markdown",
      "source": [
        "# **Tugas 1**\n",
        "\n",
        "Terdapat dataset **mushroom**. Berdasarkan dataset yang tersebut, bandingkan peforma antara algoritma Decision Tree dan RandomForest. Gunakan tunning hyperparameter untuk mendapatkan parameter dan akurasi yang terbaik.\n",
        "\n",
        "---\n",
        "\n"
      ],
      "metadata": {
        "id": "zBCCv_bx8VYD"
      }
    },
    {
      "cell_type": "markdown",
      "source": [
        "**Import Library**"
      ],
      "metadata": {
        "id": "qGfLn0Whistz"
      }
    },
    {
      "cell_type": "code",
      "source": [
        "import numpy as np\n",
        "import pandas as pd\n",
        "from sklearn.tree import DecisionTreeClassifier # import DT\n",
        "from sklearn.ensemble import RandomForestClassifier # import RandomForest\n",
        "from sklearn.model_selection import train_test_split, GridSearchCV\n",
        "from sklearn.metrics import accuracy_score, classification_report"
      ],
      "metadata": {
        "id": "lCy1gpyAivD2"
      },
      "execution_count": null,
      "outputs": []
    },
    {
      "cell_type": "markdown",
      "source": [
        "**Penjelasan:**\n",
        "\n",
        "Kode tersebut mengimpor library yang dibutuhkan untuk membangun model Decision Tree dan Random Forest.\n",
        "* **numpy (as np)**: Digunakan untuk operasi numerik di Python, seperti membuat array dan matriks.\n",
        "* **pandas (as pd)**: Digunakan untuk manipulasi dan analisis data. Pandas menyediakan struktur data seperti DataFrame untuk mengolah data tabular.\n",
        "* **sklearn.tree**: Modul dari scikit-learn yang menyediakan tools untuk membangun model Decision Tree.\n",
        "  * **DecisionTreeClassifier**: Kelas untuk membuat model Decision Tree untuk klasifikasi.\n",
        "* **sklearn.ensemble**: Modul dari scikit-learn untuk metode ensemble learning.\n",
        "  * **RandomForestClassifier**: Kelas untuk membuat model Random Forest, yaitu metode ensemble yang menggabungkan beberapa Decision Tree.\n",
        "* **sklearn.model_selection**: Modul untuk membantu dalam proses evaluasi model.\n",
        "  * **train_test_split**: Fungsi untuk membagi data menjadi data training dan data testing.\n",
        "  * **GridSearchCV**: Fungsi untuk mencari parameter terbaik untuk model machine learning.\n",
        "* **sklearn.metrics**: Modul untuk mengevaluasi performa model.\n",
        "  * **accuracy_score**: Fungsi untuk menghitung akurasi model.\n",
        "  * **classification_report**: Fungsi untuk menghasilkan laporan klasifikasi yang berisi precision, recall, f1-score, dan support.\n",
        "---"
      ],
      "metadata": {
        "id": "3b7xscoCjSNs"
      }
    },
    {
      "cell_type": "markdown",
      "source": [
        "**Persiapan Data**"
      ],
      "metadata": {
        "id": "v1WqP-HWjE1-"
      }
    },
    {
      "cell_type": "code",
      "source": [
        "# Load data\n",
        "df = pd.read_csv('dataset/mushrooms.csv')\n",
        "\n",
        "df.head()"
      ],
      "metadata": {
        "colab": {
          "base_uri": "https://localhost:8080/",
          "height": 307
        },
        "id": "VaguAj-kjIeH",
        "outputId": "e36581a9-0d66-4d51-c95f-ff32a88ff7b0"
      },
      "execution_count": null,
      "outputs": [
        {
          "output_type": "execute_result",
          "data": {
            "text/plain": [
              "  class cap-shape cap-surface cap-color bruises odor gill-attachment  \\\n",
              "0     p         x           s         n       t    p               f   \n",
              "1     e         x           s         y       t    a               f   \n",
              "2     e         b           s         w       t    l               f   \n",
              "3     p         x           y         w       t    p               f   \n",
              "4     e         x           s         g       f    n               f   \n",
              "\n",
              "  gill-spacing gill-size gill-color  ... stalk-surface-below-ring  \\\n",
              "0            c         n          k  ...                        s   \n",
              "1            c         b          k  ...                        s   \n",
              "2            c         b          n  ...                        s   \n",
              "3            c         n          n  ...                        s   \n",
              "4            w         b          k  ...                        s   \n",
              "\n",
              "  stalk-color-above-ring stalk-color-below-ring veil-type veil-color  \\\n",
              "0                      w                      w         p          w   \n",
              "1                      w                      w         p          w   \n",
              "2                      w                      w         p          w   \n",
              "3                      w                      w         p          w   \n",
              "4                      w                      w         p          w   \n",
              "\n",
              "  ring-number ring-type spore-print-color population habitat  \n",
              "0           o         p                 k          s       u  \n",
              "1           o         p                 n          n       g  \n",
              "2           o         p                 n          n       m  \n",
              "3           o         p                 k          s       u  \n",
              "4           o         e                 n          a       g  \n",
              "\n",
              "[5 rows x 23 columns]"
            ],
            "text/html": [
              "\n",
              "  <div id=\"df-2345368e-06f0-4e27-8765-4175414f62ef\" class=\"colab-df-container\">\n",
              "    <div>\n",
              "<style scoped>\n",
              "    .dataframe tbody tr th:only-of-type {\n",
              "        vertical-align: middle;\n",
              "    }\n",
              "\n",
              "    .dataframe tbody tr th {\n",
              "        vertical-align: top;\n",
              "    }\n",
              "\n",
              "    .dataframe thead th {\n",
              "        text-align: right;\n",
              "    }\n",
              "</style>\n",
              "<table border=\"1\" class=\"dataframe\">\n",
              "  <thead>\n",
              "    <tr style=\"text-align: right;\">\n",
              "      <th></th>\n",
              "      <th>class</th>\n",
              "      <th>cap-shape</th>\n",
              "      <th>cap-surface</th>\n",
              "      <th>cap-color</th>\n",
              "      <th>bruises</th>\n",
              "      <th>odor</th>\n",
              "      <th>gill-attachment</th>\n",
              "      <th>gill-spacing</th>\n",
              "      <th>gill-size</th>\n",
              "      <th>gill-color</th>\n",
              "      <th>...</th>\n",
              "      <th>stalk-surface-below-ring</th>\n",
              "      <th>stalk-color-above-ring</th>\n",
              "      <th>stalk-color-below-ring</th>\n",
              "      <th>veil-type</th>\n",
              "      <th>veil-color</th>\n",
              "      <th>ring-number</th>\n",
              "      <th>ring-type</th>\n",
              "      <th>spore-print-color</th>\n",
              "      <th>population</th>\n",
              "      <th>habitat</th>\n",
              "    </tr>\n",
              "  </thead>\n",
              "  <tbody>\n",
              "    <tr>\n",
              "      <th>0</th>\n",
              "      <td>p</td>\n",
              "      <td>x</td>\n",
              "      <td>s</td>\n",
              "      <td>n</td>\n",
              "      <td>t</td>\n",
              "      <td>p</td>\n",
              "      <td>f</td>\n",
              "      <td>c</td>\n",
              "      <td>n</td>\n",
              "      <td>k</td>\n",
              "      <td>...</td>\n",
              "      <td>s</td>\n",
              "      <td>w</td>\n",
              "      <td>w</td>\n",
              "      <td>p</td>\n",
              "      <td>w</td>\n",
              "      <td>o</td>\n",
              "      <td>p</td>\n",
              "      <td>k</td>\n",
              "      <td>s</td>\n",
              "      <td>u</td>\n",
              "    </tr>\n",
              "    <tr>\n",
              "      <th>1</th>\n",
              "      <td>e</td>\n",
              "      <td>x</td>\n",
              "      <td>s</td>\n",
              "      <td>y</td>\n",
              "      <td>t</td>\n",
              "      <td>a</td>\n",
              "      <td>f</td>\n",
              "      <td>c</td>\n",
              "      <td>b</td>\n",
              "      <td>k</td>\n",
              "      <td>...</td>\n",
              "      <td>s</td>\n",
              "      <td>w</td>\n",
              "      <td>w</td>\n",
              "      <td>p</td>\n",
              "      <td>w</td>\n",
              "      <td>o</td>\n",
              "      <td>p</td>\n",
              "      <td>n</td>\n",
              "      <td>n</td>\n",
              "      <td>g</td>\n",
              "    </tr>\n",
              "    <tr>\n",
              "      <th>2</th>\n",
              "      <td>e</td>\n",
              "      <td>b</td>\n",
              "      <td>s</td>\n",
              "      <td>w</td>\n",
              "      <td>t</td>\n",
              "      <td>l</td>\n",
              "      <td>f</td>\n",
              "      <td>c</td>\n",
              "      <td>b</td>\n",
              "      <td>n</td>\n",
              "      <td>...</td>\n",
              "      <td>s</td>\n",
              "      <td>w</td>\n",
              "      <td>w</td>\n",
              "      <td>p</td>\n",
              "      <td>w</td>\n",
              "      <td>o</td>\n",
              "      <td>p</td>\n",
              "      <td>n</td>\n",
              "      <td>n</td>\n",
              "      <td>m</td>\n",
              "    </tr>\n",
              "    <tr>\n",
              "      <th>3</th>\n",
              "      <td>p</td>\n",
              "      <td>x</td>\n",
              "      <td>y</td>\n",
              "      <td>w</td>\n",
              "      <td>t</td>\n",
              "      <td>p</td>\n",
              "      <td>f</td>\n",
              "      <td>c</td>\n",
              "      <td>n</td>\n",
              "      <td>n</td>\n",
              "      <td>...</td>\n",
              "      <td>s</td>\n",
              "      <td>w</td>\n",
              "      <td>w</td>\n",
              "      <td>p</td>\n",
              "      <td>w</td>\n",
              "      <td>o</td>\n",
              "      <td>p</td>\n",
              "      <td>k</td>\n",
              "      <td>s</td>\n",
              "      <td>u</td>\n",
              "    </tr>\n",
              "    <tr>\n",
              "      <th>4</th>\n",
              "      <td>e</td>\n",
              "      <td>x</td>\n",
              "      <td>s</td>\n",
              "      <td>g</td>\n",
              "      <td>f</td>\n",
              "      <td>n</td>\n",
              "      <td>f</td>\n",
              "      <td>w</td>\n",
              "      <td>b</td>\n",
              "      <td>k</td>\n",
              "      <td>...</td>\n",
              "      <td>s</td>\n",
              "      <td>w</td>\n",
              "      <td>w</td>\n",
              "      <td>p</td>\n",
              "      <td>w</td>\n",
              "      <td>o</td>\n",
              "      <td>e</td>\n",
              "      <td>n</td>\n",
              "      <td>a</td>\n",
              "      <td>g</td>\n",
              "    </tr>\n",
              "  </tbody>\n",
              "</table>\n",
              "<p>5 rows × 23 columns</p>\n",
              "</div>\n",
              "    <div class=\"colab-df-buttons\">\n",
              "\n",
              "  <div class=\"colab-df-container\">\n",
              "    <button class=\"colab-df-convert\" onclick=\"convertToInteractive('df-2345368e-06f0-4e27-8765-4175414f62ef')\"\n",
              "            title=\"Convert this dataframe to an interactive table.\"\n",
              "            style=\"display:none;\">\n",
              "\n",
              "  <svg xmlns=\"http://www.w3.org/2000/svg\" height=\"24px\" viewBox=\"0 -960 960 960\">\n",
              "    <path d=\"M120-120v-720h720v720H120Zm60-500h600v-160H180v160Zm220 220h160v-160H400v160Zm0 220h160v-160H400v160ZM180-400h160v-160H180v160Zm440 0h160v-160H620v160ZM180-180h160v-160H180v160Zm440 0h160v-160H620v160Z\"/>\n",
              "  </svg>\n",
              "    </button>\n",
              "\n",
              "  <style>\n",
              "    .colab-df-container {\n",
              "      display:flex;\n",
              "      gap: 12px;\n",
              "    }\n",
              "\n",
              "    .colab-df-convert {\n",
              "      background-color: #E8F0FE;\n",
              "      border: none;\n",
              "      border-radius: 50%;\n",
              "      cursor: pointer;\n",
              "      display: none;\n",
              "      fill: #1967D2;\n",
              "      height: 32px;\n",
              "      padding: 0 0 0 0;\n",
              "      width: 32px;\n",
              "    }\n",
              "\n",
              "    .colab-df-convert:hover {\n",
              "      background-color: #E2EBFA;\n",
              "      box-shadow: 0px 1px 2px rgba(60, 64, 67, 0.3), 0px 1px 3px 1px rgba(60, 64, 67, 0.15);\n",
              "      fill: #174EA6;\n",
              "    }\n",
              "\n",
              "    .colab-df-buttons div {\n",
              "      margin-bottom: 4px;\n",
              "    }\n",
              "\n",
              "    [theme=dark] .colab-df-convert {\n",
              "      background-color: #3B4455;\n",
              "      fill: #D2E3FC;\n",
              "    }\n",
              "\n",
              "    [theme=dark] .colab-df-convert:hover {\n",
              "      background-color: #434B5C;\n",
              "      box-shadow: 0px 1px 3px 1px rgba(0, 0, 0, 0.15);\n",
              "      filter: drop-shadow(0px 1px 2px rgba(0, 0, 0, 0.3));\n",
              "      fill: #FFFFFF;\n",
              "    }\n",
              "  </style>\n",
              "\n",
              "    <script>\n",
              "      const buttonEl =\n",
              "        document.querySelector('#df-2345368e-06f0-4e27-8765-4175414f62ef button.colab-df-convert');\n",
              "      buttonEl.style.display =\n",
              "        google.colab.kernel.accessAllowed ? 'block' : 'none';\n",
              "\n",
              "      async function convertToInteractive(key) {\n",
              "        const element = document.querySelector('#df-2345368e-06f0-4e27-8765-4175414f62ef');\n",
              "        const dataTable =\n",
              "          await google.colab.kernel.invokeFunction('convertToInteractive',\n",
              "                                                    [key], {});\n",
              "        if (!dataTable) return;\n",
              "\n",
              "        const docLinkHtml = 'Like what you see? Visit the ' +\n",
              "          '<a target=\"_blank\" href=https://colab.research.google.com/notebooks/data_table.ipynb>data table notebook</a>'\n",
              "          + ' to learn more about interactive tables.';\n",
              "        element.innerHTML = '';\n",
              "        dataTable['output_type'] = 'display_data';\n",
              "        await google.colab.output.renderOutput(dataTable, element);\n",
              "        const docLink = document.createElement('div');\n",
              "        docLink.innerHTML = docLinkHtml;\n",
              "        element.appendChild(docLink);\n",
              "      }\n",
              "    </script>\n",
              "  </div>\n",
              "\n",
              "\n",
              "<div id=\"df-c58e0374-c7ca-4cbe-ac83-1f56083f4081\">\n",
              "  <button class=\"colab-df-quickchart\" onclick=\"quickchart('df-c58e0374-c7ca-4cbe-ac83-1f56083f4081')\"\n",
              "            title=\"Suggest charts\"\n",
              "            style=\"display:none;\">\n",
              "\n",
              "<svg xmlns=\"http://www.w3.org/2000/svg\" height=\"24px\"viewBox=\"0 0 24 24\"\n",
              "     width=\"24px\">\n",
              "    <g>\n",
              "        <path d=\"M19 3H5c-1.1 0-2 .9-2 2v14c0 1.1.9 2 2 2h14c1.1 0 2-.9 2-2V5c0-1.1-.9-2-2-2zM9 17H7v-7h2v7zm4 0h-2V7h2v10zm4 0h-2v-4h2v4z\"/>\n",
              "    </g>\n",
              "</svg>\n",
              "  </button>\n",
              "\n",
              "<style>\n",
              "  .colab-df-quickchart {\n",
              "      --bg-color: #E8F0FE;\n",
              "      --fill-color: #1967D2;\n",
              "      --hover-bg-color: #E2EBFA;\n",
              "      --hover-fill-color: #174EA6;\n",
              "      --disabled-fill-color: #AAA;\n",
              "      --disabled-bg-color: #DDD;\n",
              "  }\n",
              "\n",
              "  [theme=dark] .colab-df-quickchart {\n",
              "      --bg-color: #3B4455;\n",
              "      --fill-color: #D2E3FC;\n",
              "      --hover-bg-color: #434B5C;\n",
              "      --hover-fill-color: #FFFFFF;\n",
              "      --disabled-bg-color: #3B4455;\n",
              "      --disabled-fill-color: #666;\n",
              "  }\n",
              "\n",
              "  .colab-df-quickchart {\n",
              "    background-color: var(--bg-color);\n",
              "    border: none;\n",
              "    border-radius: 50%;\n",
              "    cursor: pointer;\n",
              "    display: none;\n",
              "    fill: var(--fill-color);\n",
              "    height: 32px;\n",
              "    padding: 0;\n",
              "    width: 32px;\n",
              "  }\n",
              "\n",
              "  .colab-df-quickchart:hover {\n",
              "    background-color: var(--hover-bg-color);\n",
              "    box-shadow: 0 1px 2px rgba(60, 64, 67, 0.3), 0 1px 3px 1px rgba(60, 64, 67, 0.15);\n",
              "    fill: var(--button-hover-fill-color);\n",
              "  }\n",
              "\n",
              "  .colab-df-quickchart-complete:disabled,\n",
              "  .colab-df-quickchart-complete:disabled:hover {\n",
              "    background-color: var(--disabled-bg-color);\n",
              "    fill: var(--disabled-fill-color);\n",
              "    box-shadow: none;\n",
              "  }\n",
              "\n",
              "  .colab-df-spinner {\n",
              "    border: 2px solid var(--fill-color);\n",
              "    border-color: transparent;\n",
              "    border-bottom-color: var(--fill-color);\n",
              "    animation:\n",
              "      spin 1s steps(1) infinite;\n",
              "  }\n",
              "\n",
              "  @keyframes spin {\n",
              "    0% {\n",
              "      border-color: transparent;\n",
              "      border-bottom-color: var(--fill-color);\n",
              "      border-left-color: var(--fill-color);\n",
              "    }\n",
              "    20% {\n",
              "      border-color: transparent;\n",
              "      border-left-color: var(--fill-color);\n",
              "      border-top-color: var(--fill-color);\n",
              "    }\n",
              "    30% {\n",
              "      border-color: transparent;\n",
              "      border-left-color: var(--fill-color);\n",
              "      border-top-color: var(--fill-color);\n",
              "      border-right-color: var(--fill-color);\n",
              "    }\n",
              "    40% {\n",
              "      border-color: transparent;\n",
              "      border-right-color: var(--fill-color);\n",
              "      border-top-color: var(--fill-color);\n",
              "    }\n",
              "    60% {\n",
              "      border-color: transparent;\n",
              "      border-right-color: var(--fill-color);\n",
              "    }\n",
              "    80% {\n",
              "      border-color: transparent;\n",
              "      border-right-color: var(--fill-color);\n",
              "      border-bottom-color: var(--fill-color);\n",
              "    }\n",
              "    90% {\n",
              "      border-color: transparent;\n",
              "      border-bottom-color: var(--fill-color);\n",
              "    }\n",
              "  }\n",
              "</style>\n",
              "\n",
              "  <script>\n",
              "    async function quickchart(key) {\n",
              "      const quickchartButtonEl =\n",
              "        document.querySelector('#' + key + ' button');\n",
              "      quickchartButtonEl.disabled = true;  // To prevent multiple clicks.\n",
              "      quickchartButtonEl.classList.add('colab-df-spinner');\n",
              "      try {\n",
              "        const charts = await google.colab.kernel.invokeFunction(\n",
              "            'suggestCharts', [key], {});\n",
              "      } catch (error) {\n",
              "        console.error('Error during call to suggestCharts:', error);\n",
              "      }\n",
              "      quickchartButtonEl.classList.remove('colab-df-spinner');\n",
              "      quickchartButtonEl.classList.add('colab-df-quickchart-complete');\n",
              "    }\n",
              "    (() => {\n",
              "      let quickchartButtonEl =\n",
              "        document.querySelector('#df-c58e0374-c7ca-4cbe-ac83-1f56083f4081 button');\n",
              "      quickchartButtonEl.style.display =\n",
              "        google.colab.kernel.accessAllowed ? 'block' : 'none';\n",
              "    })();\n",
              "  </script>\n",
              "</div>\n",
              "\n",
              "    </div>\n",
              "  </div>\n"
            ],
            "application/vnd.google.colaboratory.intrinsic+json": {
              "type": "dataframe",
              "variable_name": "df"
            }
          },
          "metadata": {},
          "execution_count": 31
        }
      ]
    },
    {
      "cell_type": "markdown",
      "source": [
        "**Penjelasan:**\n",
        "\n",
        "Kode tersebut digunakan untuk membaca data dari file CSV bernama 'mushrooms.csv' yang berada di folder 'dataset', lalu menampilkan 5 baris pertama dari data tersebut.\n",
        "* **pd.read_csv('dataset/wbc.csv')**: Perintah ini menggunakan fungsi read_csv dari library pandas untuk membaca file CSV. File tersebut diasumsikan berada di dalam folder 'dataset' yang terletak di direktori yang sama dengan notebook. Data yang dibaca akan disimpan dalam variabel df dalam bentuk DataFrame.\n",
        "* **df.head()**: Perintah ini digunakan untuk menampilkan 5 baris pertama dari DataFrame df. Fungsi ini berguna untuk melihat sekilas struktur data dan isi dari dataset.\n",
        "---"
      ],
      "metadata": {
        "id": "de73iq3M8Cvo"
      }
    },
    {
      "cell_type": "markdown",
      "source": [
        "**Cek Kolom Null**"
      ],
      "metadata": {
        "id": "s9EA-FZjji1X"
      }
    },
    {
      "cell_type": "code",
      "source": [
        "# Cek kolom null\n",
        "df.isnull().sum()"
      ],
      "metadata": {
        "colab": {
          "base_uri": "https://localhost:8080/",
          "height": 805
        },
        "id": "yR3nCF7ljnTf",
        "outputId": "f01edb66-e113-4874-b25e-35e44c4ecce4"
      },
      "execution_count": null,
      "outputs": [
        {
          "output_type": "execute_result",
          "data": {
            "text/plain": [
              "class                       0\n",
              "cap-shape                   0\n",
              "cap-surface                 0\n",
              "cap-color                   0\n",
              "bruises                     0\n",
              "odor                        0\n",
              "gill-attachment             0\n",
              "gill-spacing                0\n",
              "gill-size                   0\n",
              "gill-color                  0\n",
              "stalk-shape                 0\n",
              "stalk-root                  0\n",
              "stalk-surface-above-ring    0\n",
              "stalk-surface-below-ring    0\n",
              "stalk-color-above-ring      0\n",
              "stalk-color-below-ring      0\n",
              "veil-type                   0\n",
              "veil-color                  0\n",
              "ring-number                 0\n",
              "ring-type                   0\n",
              "spore-print-color           0\n",
              "population                  0\n",
              "habitat                     0\n",
              "dtype: int64"
            ],
            "text/html": [
              "<div>\n",
              "<style scoped>\n",
              "    .dataframe tbody tr th:only-of-type {\n",
              "        vertical-align: middle;\n",
              "    }\n",
              "\n",
              "    .dataframe tbody tr th {\n",
              "        vertical-align: top;\n",
              "    }\n",
              "\n",
              "    .dataframe thead th {\n",
              "        text-align: right;\n",
              "    }\n",
              "</style>\n",
              "<table border=\"1\" class=\"dataframe\">\n",
              "  <thead>\n",
              "    <tr style=\"text-align: right;\">\n",
              "      <th></th>\n",
              "      <th>0</th>\n",
              "    </tr>\n",
              "  </thead>\n",
              "  <tbody>\n",
              "    <tr>\n",
              "      <th>class</th>\n",
              "      <td>0</td>\n",
              "    </tr>\n",
              "    <tr>\n",
              "      <th>cap-shape</th>\n",
              "      <td>0</td>\n",
              "    </tr>\n",
              "    <tr>\n",
              "      <th>cap-surface</th>\n",
              "      <td>0</td>\n",
              "    </tr>\n",
              "    <tr>\n",
              "      <th>cap-color</th>\n",
              "      <td>0</td>\n",
              "    </tr>\n",
              "    <tr>\n",
              "      <th>bruises</th>\n",
              "      <td>0</td>\n",
              "    </tr>\n",
              "    <tr>\n",
              "      <th>odor</th>\n",
              "      <td>0</td>\n",
              "    </tr>\n",
              "    <tr>\n",
              "      <th>gill-attachment</th>\n",
              "      <td>0</td>\n",
              "    </tr>\n",
              "    <tr>\n",
              "      <th>gill-spacing</th>\n",
              "      <td>0</td>\n",
              "    </tr>\n",
              "    <tr>\n",
              "      <th>gill-size</th>\n",
              "      <td>0</td>\n",
              "    </tr>\n",
              "    <tr>\n",
              "      <th>gill-color</th>\n",
              "      <td>0</td>\n",
              "    </tr>\n",
              "    <tr>\n",
              "      <th>stalk-shape</th>\n",
              "      <td>0</td>\n",
              "    </tr>\n",
              "    <tr>\n",
              "      <th>stalk-root</th>\n",
              "      <td>0</td>\n",
              "    </tr>\n",
              "    <tr>\n",
              "      <th>stalk-surface-above-ring</th>\n",
              "      <td>0</td>\n",
              "    </tr>\n",
              "    <tr>\n",
              "      <th>stalk-surface-below-ring</th>\n",
              "      <td>0</td>\n",
              "    </tr>\n",
              "    <tr>\n",
              "      <th>stalk-color-above-ring</th>\n",
              "      <td>0</td>\n",
              "    </tr>\n",
              "    <tr>\n",
              "      <th>stalk-color-below-ring</th>\n",
              "      <td>0</td>\n",
              "    </tr>\n",
              "    <tr>\n",
              "      <th>veil-type</th>\n",
              "      <td>0</td>\n",
              "    </tr>\n",
              "    <tr>\n",
              "      <th>veil-color</th>\n",
              "      <td>0</td>\n",
              "    </tr>\n",
              "    <tr>\n",
              "      <th>ring-number</th>\n",
              "      <td>0</td>\n",
              "    </tr>\n",
              "    <tr>\n",
              "      <th>ring-type</th>\n",
              "      <td>0</td>\n",
              "    </tr>\n",
              "    <tr>\n",
              "      <th>spore-print-color</th>\n",
              "      <td>0</td>\n",
              "    </tr>\n",
              "    <tr>\n",
              "      <th>population</th>\n",
              "      <td>0</td>\n",
              "    </tr>\n",
              "    <tr>\n",
              "      <th>habitat</th>\n",
              "      <td>0</td>\n",
              "    </tr>\n",
              "  </tbody>\n",
              "</table>\n",
              "</div><br><label><b>dtype:</b> int64</label>"
            ]
          },
          "metadata": {},
          "execution_count": 32
        }
      ]
    },
    {
      "cell_type": "markdown",
      "source": [
        "**Penjelasan:**\n",
        "\n",
        "Kode tersebut digunakan untuk mengecek dan menghitung jumlah nilai null (kosong) pada setiap kolom di DataFrame df.\n",
        "* **df.isnull()**: Fungsi ini akan mengecek setiap nilai di DataFrame. Jika nilai tersebut null, maka akan menghasilkan nilai True, dan False jika tidak null. Outputnya adalah DataFrame baru dengan nilai boolean.\n",
        "* **.sum()**: Fungsi ini menjumlahkan nilai True pada setiap kolom. Karena True diinterpretasikan sebagai 1, maka outputnya adalah jumlah nilai null pada setiap kolom.\n",
        "\n",
        "Jadi, kode tersebut digunakan untuk melakukan pengecekan awal pada dataset untuk melihat apakah ada data yang hilang atau tidak lengkap.\n",
        "\n",
        "---"
      ],
      "metadata": {
        "id": "nLDPjzXyjawr"
      }
    },
    {
      "cell_type": "markdown",
      "source": [
        "**Seleksi Fitur**"
      ],
      "metadata": {
        "id": "eseScQdOjuAh"
      }
    },
    {
      "cell_type": "code",
      "source": [
        "# Encode categorical features using one-hot encoding or label encoding\n",
        "# Since all features are categorical, we will use LabelEncoder for this purpose\n",
        "from sklearn.preprocessing import LabelEncoder\n",
        "\n",
        "labelencoder = LabelEncoder()\n",
        "for column in df.columns:\n",
        "    df[column] = labelencoder.fit_transform(df[column])\n",
        "\n",
        "# Split the dataset into features (X) and target (y)\n",
        "X = df.drop('class', axis=1)  # Features\n",
        "y = df['class']  # Target"
      ],
      "metadata": {
        "id": "cDXfF8CZjwje"
      },
      "execution_count": null,
      "outputs": []
    },
    {
      "cell_type": "markdown",
      "source": [
        "**Penjelasan:**\n",
        "\n",
        "Kode tersebut bertujuan untuk mengubah semua kolom pada DataFrame df menjadi numerik menggunakan LabelEncoder, dan kemudian memisahkan fitur (X) dan target (y) untuk machine learning.\n",
        "* **from sklearn.preprocessing import LabelEncoder**: Mengimpor kelas LabelEncoder dari modul sklearn.preprocessing. LabelEncoder digunakan untuk mengonversi nilai kategorikal (misalnya, 'merah', 'hijau', 'biru') menjadi nilai numerik (misalnya, 0, 1, 2).\n",
        "* **labelencoder = LabelEncoder()**: Membuat objek dari kelas LabelEncoder.\n",
        "* **for column in df.columns:**: Melakukan iterasi (perulangan) untuk setiap kolom pada DataFrame df.\n",
        "* **df[column] = labelencoder.fit_transform(df[column])**:\n",
        "  * **labelencoder.fit_transform(...)**: Menyesuaikan LabelEncoder dengan data di kolom saat ini (df[column]) dan mengubah nilai-nilai kategorikal menjadi numerik.\n",
        "  * **df[column] = ...**: Menugaskan kembali kolom di DataFrame df dengan nilai-nilai numerik yang telah diubah.\n",
        "* **X = df.drop('class', axis=1)**: Membuat DataFrame baru bernama X yang berisi semua kolom dari df kecuali kolom 'class'. axis=1 menunjukkan bahwa kolom 'class' akan dihapus. Dataframe X akan digunakan sebagai fitur untuk model machine learning.\n",
        "* **y = df['class']**: Membuat Series baru bernama y yang berisi nilai-nilai dari kolom 'class'. Series y akan digunakan sebagai target (variabel yang ingin diprediksi) untuk model machine learning.\n",
        "---"
      ],
      "metadata": {
        "id": "SXahU-mRjbYu"
      }
    },
    {
      "cell_type": "markdown",
      "source": [
        "**Split data training dan testing**"
      ],
      "metadata": {
        "id": "dgh7jhmSkffJ"
      }
    },
    {
      "cell_type": "code",
      "source": [
        "from sklearn.model_selection import train_test_split\n",
        "\n",
        "X_train, X_test, y_train, y_test = train_test_split(X, y, test_size=0.2, random_state=42)"
      ],
      "metadata": {
        "id": "b3CX_JfQkm5t"
      },
      "execution_count": null,
      "outputs": []
    },
    {
      "cell_type": "markdown",
      "source": [
        "**Penjelasan:**\n",
        "\n",
        "Kode tersebut digunakan untuk membagi data (fitur X dan label y) menjadi data training dan data testing.\n",
        "* **from sklearn.model_selection import train_test_split**: Mengimpor fungsi train_test_split dari library scikit-learn. Fungsi ini digunakan untuk membagi data.\n",
        "* **X_train, X_test, y_train, y_test = train_test_split(X, y, test_size=0.2, random_state=42)**:\n",
        "  * X dan y: Data fitur dan label yang akan dibagi.\n",
        "  * **test_size=0.2**: Menentukan proporsi data yang akan digunakan sebagai data testing. Dalam hal ini, 20% data akan digunakan sebagai data testing.\n",
        "  * **random_state=42**: Menentukan seed untuk pengacakan data. Nilai ini memastikan bahwa pembagian data akan selalu sama setiap kali kode dijalankan, sehingga hasilnya dapat direproduksi.\n",
        "\n",
        "Jadi, data training digunakan untuk melatih model, sedangkan data testing digunakan untuk menguji performa model.\n",
        "\n",
        "---"
      ],
      "metadata": {
        "id": "9xGnB7SNjcTD"
      }
    },
    {
      "cell_type": "markdown",
      "source": [
        "**Training Decision Tree**"
      ],
      "metadata": {
        "id": "pZrqb3j5lCTp"
      }
    },
    {
      "cell_type": "code",
      "source": [
        "# Secara default, DecisionTreeClassifier dari scikit-learn akan menggunakan nilai \"Gini\" untuk kriteria\n",
        "# Terdapat beberapa \"hyperparamater\" yang dapat digunakan. Silahka baca dokumentasi\n",
        "# Pada kasus ini kita akan menggunakan parameter default\n",
        "dt = DecisionTreeClassifier()\n",
        "\n",
        "# Sesuaikan dt ke set training\n",
        "dt.fit(X_train, y_train)\n",
        "\n",
        "# Memprediksi label set test\n",
        "y_pred_dt = dt.predict(X_test)\n",
        "\n",
        "#  menghitung set accuracy\n",
        "acc_dt = accuracy_score(y_test, y_pred_dt)\n",
        "print(\"Test set accuracy: {:.2f}\".format(acc_dt))\n",
        "print(f\"Test set accuracy: {acc_dt}\")"
      ],
      "metadata": {
        "colab": {
          "base_uri": "https://localhost:8080/"
        },
        "id": "qjnDjQ-9lO_l",
        "outputId": "1f8e8aa9-b8f5-4432-cab1-532d241f6ac0"
      },
      "execution_count": null,
      "outputs": [
        {
          "output_type": "stream",
          "name": "stdout",
          "text": [
            "Test set accuracy: 1.00\n",
            "Test set accuracy: 1.0\n"
          ]
        }
      ]
    },
    {
      "cell_type": "markdown",
      "source": [
        "**Penjelasan:**\n",
        "\n",
        "Kode tersebut merupakan proses training model Decision Tree dan evaluasinya.\n",
        "* **dt = DecisionTreeClassifier()**: Membuat objek dt dari kelas DecisionTreeClassifier. Ini adalah inisialisasi model Decision Tree dengan parameter default.\n",
        "* **dt.fit(X_train, y_train)**: Melatih model Decision Tree (dt) menggunakan data training (X_train dan y_train). Pada tahap ini, model akan belajar pola dari data training untuk membangun struktur pohon keputusan.\n",
        "* **y_pred_dt = dt.predict(X_test)**: Memprediksi label (y_pred_dt) dari data testing (X_test) menggunakan model Decision Tree yang telah dilatih.\n",
        "* **acc_dt = accuracy_score(y_test, y_pred_dt)**: Menghitung akurasi model dengan membandingkan label prediksi (y_pred_dt) dengan label sebenarnya (y_test).\n",
        "* **print(\"Test set accuracy: {:.2f}\".format(acc_dt))**: Menampilkan akurasi model yang telah dihitung, dengan format dua angka di belakang koma.\n",
        "* **print(f\"Test set accuracy: {acc_dt}\")**: Menampilkan akurasi model.\n",
        "---"
      ],
      "metadata": {
        "id": "B2ZN9Y9ajc9N"
      }
    },
    {
      "cell_type": "markdown",
      "source": [
        "**Training RandomForest**"
      ],
      "metadata": {
        "id": "lqe_g9mYlX_c"
      }
    },
    {
      "cell_type": "code",
      "source": [
        "# Pada kasus kali ini kita akan menggunakan estimator pada RandomForest\n",
        "# Untuk detail parameter (hyperparameter) silahkan cek dokumentasi\n",
        "\n",
        "rf = RandomForestClassifier(n_estimators=10, random_state=1)\n",
        "\n",
        "# Sesuaikan dt ke set training\n",
        "rf.fit(X_train, y_train)\n",
        "\n",
        "# Memprediksi label set test\n",
        "y_pred_rf = rf.predict(X_test)\n",
        "\n",
        "#  menghitung set accuracy\n",
        "acc_rf = accuracy_score(y_test, y_pred_rf)\n",
        "print(\"Test set accuracy: {:.2f}\".format(acc_rf))\n",
        "print(f\"Test set accuracy: {acc_rf}\")"
      ],
      "metadata": {
        "colab": {
          "base_uri": "https://localhost:8080/"
        },
        "id": "i1sjS0n2leM0",
        "outputId": "7dc0c86a-9168-4b08-ef08-1134bb9d6893"
      },
      "execution_count": null,
      "outputs": [
        {
          "output_type": "stream",
          "name": "stdout",
          "text": [
            "Test set accuracy: 1.00\n",
            "Test set accuracy: 1.0\n"
          ]
        }
      ]
    },
    {
      "cell_type": "markdown",
      "source": [
        "**Penjelasan:**\n",
        "\n",
        "Kode tersebut mirip dengan kode sebelumnya, tetapi menggunakan model Random Forest.\n",
        "* **rf = RandomForestClassifier(n_estimators=10, random_state=1)**: Membuat objek rf dari kelas RandomForestClassifier.\n",
        "  * **n_estimators=10**: Menentukan jumlah Decision Tree yang akan digunakan dalam Random Forest (10 dalam kasus ini).\n",
        "  * **random_state=1**: Menentukan seed untuk pengacakan, memastikan hasil yang konsisten.\n",
        "* **rf.fit(X_train, y_train)**: Melatih model Random Forest (rf) dengan data training (X_train dan y_train).\n",
        "* **y_pred_rf = rf.predict(X_test)**: Memprediksi label (y_pred_rf) dari data testing (X_test) menggunakan model Random Forest yang telah dilatih.\n",
        "* **acc_rf = accuracy_score(y_test, y_pred_rf)**: Menghitung akurasi model dengan membandingkan label prediksi (y_pred_rf) dengan label sebenarnya (y_test).\n",
        "* **print(\"Test set accuracy: {:.2f}\".format(acc_rf))**: Menampilkan akurasi model, diformat dengan dua angka di belakang koma.\n",
        "* **print(f\"Test set accuracy: {acc_rf}\")**: Menampilkan akurasi model.\n",
        "\n",
        "Jadi, kode tersebut menunjukkan proses training dan evaluasi model Random Forest. Random Forest adalah metode ensemble learning yang menggabungkan beberapa Decision Tree untuk meningkatkan performa dan mengurangi overfitting.\n",
        "\n",
        "---"
      ],
      "metadata": {
        "id": "d4xlQrcJjdkG"
      }
    },
    {
      "cell_type": "markdown",
      "source": [
        "# **Tugas 2**\n",
        "\n",
        "Terdapat dataset **mushroom**. Berdasarkan dataset tersebut, bandingkan peforma antara algoritma Decision Tree dan AdaBoost. Gunakan tunning hyperparameter untuk mendapatkan parameter dan akurasi yang terbaik.\n",
        "\n",
        "---\n",
        "\n"
      ],
      "metadata": {
        "id": "sC65YX178bWD"
      }
    },
    {
      "cell_type": "markdown",
      "source": [
        "**Import Library**"
      ],
      "metadata": {
        "id": "Dm3uNLY_oGhk"
      }
    },
    {
      "cell_type": "code",
      "source": [
        "import numpy as np\n",
        "import pandas as pd\n",
        "# mengimport DessionTree\n",
        "from sklearn.tree import DecisionTreeClassifier\n",
        "# mengimport AdaBoost\n",
        "from sklearn.ensemble import AdaBoostClassifier\n",
        "from sklearn.metrics import accuracy_score, classification_report\n",
        "from sklearn.preprocessing import LabelEncoder\n",
        "from sklearn.model_selection import train_test_split"
      ],
      "metadata": {
        "id": "WrwG6ZH9oIjX"
      },
      "execution_count": null,
      "outputs": []
    },
    {
      "cell_type": "markdown",
      "source": [
        "**Penjelasan:**\n",
        "\n",
        "Kode tersebut mengimpor library yang dibutuhkan untuk klasifikasi dengan Decision Tree dan AdaBoost. AdaBoost adalah metode boosting di mana beberapa model lemah digabungkan untuk membentuk model yang kuat.\n",
        "* **numpy (as np)**: Digunakan untuk operasi numerik seperti membuat array.\n",
        "* **pandas (as pd)**: Digunakan untuk manipulasi dan analisis data, menyediakan struktur data seperti DataFrame.\n",
        "* **sklearn.tree**: Modul dari scikit-learn yang menyediakan tools untuk membangun model Decision Tree.\n",
        "  * **DecisionTreeClassifier**: Kelas untuk membuat model Decision Tree.\n",
        "* **sklearn.ensemble**: Modul untuk metode ensemble learning.\n",
        "  * **AdaBoostClassifier**: Kelas untuk membuat model AdaBoost.\n",
        "* **sklearn.metrics**: Modul untuk mengevaluasi performa model.\n",
        "  * **accuracy_score**: Fungsi untuk menghitung akurasi model.\n",
        "  * **classification_report**: Fungsi untuk menghasilkan laporan yang berisi precision, recall, f1-score, dan support.\n",
        "* **sklearn.preprocessing**: Modul untuk pre-processing data.\n",
        "  * **LabelEncoder**: Kelas untuk encoding label kategorikal menjadi numerik.\n",
        "* **sklearn.model_selection**: Modul untuk membantu dalam proses evaluasi model.\n",
        "  * **train_test_split**: Fungsi untuk membagi data menjadi data training dan data testing.\n",
        "---"
      ],
      "metadata": {
        "id": "JkZ4jUS3pNOY"
      }
    },
    {
      "cell_type": "markdown",
      "source": [
        "**Training AdaBoost**"
      ],
      "metadata": {
        "id": "tjVzCAgImKw1"
      }
    },
    {
      "cell_type": "code",
      "source": [
        "# Pada kasus kali ini kita akan menggunakan estimator pada AdaBoost\n",
        "# Untuk detail parameter (hyperparameter) silahkan cek dokumentasi\n",
        "\n",
        "ada = AdaBoostClassifier(n_estimators=20)\n",
        "\n",
        "# Menyesuaikan dt ke set training\n",
        "ada.fit(X_train, y_train)\n",
        "\n",
        "# Selanjutnya memprediksi label set test\n",
        "y_pred_ada = ada.predict(X_test)\n",
        "\n",
        "# Setelah itu menghitung set accuracy\n",
        "acc_ada = accuracy_score(y_test, y_pred_ada)\n",
        "print(\"Test set accuracy: {:.2f}\".format(acc_ada))\n",
        "print(f\"Test set accuracy: {acc_ada}\")"
      ],
      "metadata": {
        "colab": {
          "base_uri": "https://localhost:8080/"
        },
        "id": "CP1IBsIpmu9U",
        "outputId": "5ac2267e-7fc3-47e1-dd10-18424472c8ff"
      },
      "execution_count": null,
      "outputs": [
        {
          "output_type": "stream",
          "name": "stderr",
          "text": [
            "/usr/local/lib/python3.10/dist-packages/sklearn/ensemble/_weight_boosting.py:527: FutureWarning: The SAMME.R algorithm (the default) is deprecated and will be removed in 1.6. Use the SAMME algorithm to circumvent this warning.\n",
            "  warnings.warn(\n"
          ]
        },
        {
          "output_type": "stream",
          "name": "stdout",
          "text": [
            "Test set accuracy: 1.00\n",
            "Test set accuracy: 1.0\n"
          ]
        }
      ]
    },
    {
      "cell_type": "markdown",
      "source": [
        "**Penjelasan:**\n",
        "\n",
        "Kode tersebut menunjukkan proses training dan evaluasi model AdaBoost. AdaBoost adalah metode ensemble learning yang menggabungkan beberapa model \"lemah\" untuk membentuk model yang lebih \"kuat\".\n",
        "* **ada = AdaBoostClassifier(n_estimators=20)**:\n",
        "  * Membuat objek ada dari kelas AdaBoostClassifier.\n",
        "  * **n_estimators=20:** Parameter yang menentukan jumlah model lemah (dalam hal ini, Decision Tree) yang akan digunakan dalam AdaBoost.\n",
        "* **ada.fit(X_train, y_train)**: Melatih model AdaBoost (ada) dengan data training (X_train dan y_train).\n",
        "* **y_pred_ada = ada.predict(X_test)**: Memprediksi label (y_pred_ada) dari data testing (X_test) menggunakan model AdaBoost yang telah dilatih.\n",
        "* **acc_ada = accuracy_score(y_test, y_pred_ada)**: Menghitung akurasi model dengan membandingkan label prediksi (y_pred_ada) dengan label sebenarnya (y_test).\n",
        "* **print(\"Test set accuracy: {:.2f}\".format(acc_ada))**: Menampilkan akurasi model, diformat dengan dua angka di belakang koma.\n",
        "* **print(f\"Test set accuracy: {acc_ada}\")**: Menampilkan akurasi model.\n",
        "\n",
        "Jadi, kode tersebut menunjukkan bagaimana AdaBoost digunakan untuk meningkatkan performa model Decision Tree dengan menggabungkan beberapa Decision Tree. Setiap Decision Tree berikutnya dalam AdaBoost akan fokus pada data yang salah diklasifikasikan oleh Decision Tree sebelumnya.\n",
        "\n",
        "---"
      ],
      "metadata": {
        "id": "KaiZ0Dip8DK0"
      }
    },
    {
      "cell_type": "markdown",
      "source": [
        "# **Tugas 3**\n",
        "\n",
        "Dengan menggunakan dataset **diabetes**, buatlah ensemble voting dengan algoritma\n",
        "1. Logistic Regression\n",
        "2. SVM kernel polynomial\n",
        "3. Decission Tree\n",
        "\n",
        "Anda boleh melakukan eksplorasi dengan melakukan tunning hyperparameter\n",
        "\n",
        "---\n",
        "\n"
      ],
      "metadata": {
        "id": "0w3HUgNN8fne"
      }
    },
    {
      "cell_type": "markdown",
      "source": [
        "**Import Library**"
      ],
      "metadata": {
        "id": "iIj1BWn0q9Tf"
      }
    },
    {
      "cell_type": "code",
      "source": [
        "import numpy as np\n",
        "import pandas as pd\n",
        "from sklearn.naive_bayes import GaussianNB # import Naive Bayes model Gaussian (asumsi data terdistribusi normal)\n",
        "from sklearn.svm import SVC # import SVM classifier\n",
        "from sklearn.ensemble import VotingClassifier # import model Voting\n",
        "from sklearn.linear_model import LogisticRegression\n",
        "from sklearn.model_selection import GridSearchCV\n",
        "from sklearn.model_selection import train_test_split\n",
        "from sklearn.metrics import accuracy_score, classification_report"
      ],
      "metadata": {
        "id": "1ielaHx1rAD6"
      },
      "execution_count": null,
      "outputs": []
    },
    {
      "cell_type": "markdown",
      "source": [
        "**Penjelasan:**\n",
        "\n",
        "Kode program tersebut mengimpor library yang dibutuhkan untuk membangun model machine learning untuk klasifikasi, khususnya dengan algoritma Naive Bayes, SVM, Voting, dan Logistic Regression.\n",
        "* **numpy (as np)**: Digunakan untuk operasi numerik seperti membuat array.\n",
        "* **pandas (as pd)**: Digunakan untuk manipulasi dan analisis data, menyediakan struktur data seperti DataFrame.\n",
        "* **sklearn.naive_bayes**: Modul yang menyediakan model Naive Bayes.\n",
        "  * **GaussianNB**: Kelas untuk membuat model Gaussian Naive Bayes.\n",
        "* **sklearn.svm**: Modul yang menyediakan model Support Vector Machine.\n",
        "  * **SVC**: Kelas untuk membuat model Support Vector Classifier.\n",
        "* **sklearn.ensemble**: Modul untuk metode ensemble learning.\n",
        "  * **VotingClassifier**: Kelas untuk membuat model Voting.\n",
        "* **sklearn.linear_model**: Modul untuk model linear.\n",
        "  * **LogisticRegression**: Kelas untuk membuat model Logistic Regression.\n",
        "* **sklearn.model_selection**: Modul untuk membantu dalam proses evaluasi dan optimasi model.\n",
        "  * **GridSearchCV**: Kelas untuk melakukan pencarian parameter terbaik (hyperparameter tuning) dengan cross-validation.\n",
        "  * **train_test_split**: Fungsi untuk membagi data menjadi data training dan testing.\n",
        "* **sklearn.metrics**: Modul untuk mengevaluasi performa model.\n",
        "  * **accuracy_score**: Fungsi untuk menghitung akurasi model.\n",
        "  * **classification_report**: Fungsi untuk menghasilkan laporan yang berisi precision, recall, f1-score, dan support.\n",
        "---"
      ],
      "metadata": {
        "id": "qsMj-E5B8DuA"
      }
    },
    {
      "cell_type": "markdown",
      "source": [
        "**Persiapan Data**"
      ],
      "metadata": {
        "id": "2sPQtTy2t2xW"
      }
    },
    {
      "cell_type": "code",
      "source": [
        "# Load Data\n",
        "\n",
        "dbt = pd.read_csv('dataset/diabetes.csv')\n",
        "\n",
        "dbt.head()"
      ],
      "metadata": {
        "colab": {
          "base_uri": "https://localhost:8080/",
          "height": 226
        },
        "id": "CFyd9e_dt6KQ",
        "outputId": "0518834b-8fd9-4797-f219-331f17bb847e"
      },
      "execution_count": null,
      "outputs": [
        {
          "output_type": "execute_result",
          "data": {
            "text/plain": [
              "   Pregnancies  Glucose  BloodPressure  SkinThickness  Insulin   BMI  \\\n",
              "0            6      148             72             35        0  33.6   \n",
              "1            1       85             66             29        0  26.6   \n",
              "2            8      183             64              0        0  23.3   \n",
              "3            1       89             66             23       94  28.1   \n",
              "4            0      137             40             35      168  43.1   \n",
              "\n",
              "   DiabetesPedigreeFunction  Age  Outcome  \n",
              "0                     0.627   50        1  \n",
              "1                     0.351   31        0  \n",
              "2                     0.672   32        1  \n",
              "3                     0.167   21        0  \n",
              "4                     2.288   33        1  "
            ],
            "text/html": [
              "\n",
              "  <div id=\"df-2fb6a21a-9a5d-40cd-bf35-a3b6c2302a51\" class=\"colab-df-container\">\n",
              "    <div>\n",
              "<style scoped>\n",
              "    .dataframe tbody tr th:only-of-type {\n",
              "        vertical-align: middle;\n",
              "    }\n",
              "\n",
              "    .dataframe tbody tr th {\n",
              "        vertical-align: top;\n",
              "    }\n",
              "\n",
              "    .dataframe thead th {\n",
              "        text-align: right;\n",
              "    }\n",
              "</style>\n",
              "<table border=\"1\" class=\"dataframe\">\n",
              "  <thead>\n",
              "    <tr style=\"text-align: right;\">\n",
              "      <th></th>\n",
              "      <th>Pregnancies</th>\n",
              "      <th>Glucose</th>\n",
              "      <th>BloodPressure</th>\n",
              "      <th>SkinThickness</th>\n",
              "      <th>Insulin</th>\n",
              "      <th>BMI</th>\n",
              "      <th>DiabetesPedigreeFunction</th>\n",
              "      <th>Age</th>\n",
              "      <th>Outcome</th>\n",
              "    </tr>\n",
              "  </thead>\n",
              "  <tbody>\n",
              "    <tr>\n",
              "      <th>0</th>\n",
              "      <td>6</td>\n",
              "      <td>148</td>\n",
              "      <td>72</td>\n",
              "      <td>35</td>\n",
              "      <td>0</td>\n",
              "      <td>33.6</td>\n",
              "      <td>0.627</td>\n",
              "      <td>50</td>\n",
              "      <td>1</td>\n",
              "    </tr>\n",
              "    <tr>\n",
              "      <th>1</th>\n",
              "      <td>1</td>\n",
              "      <td>85</td>\n",
              "      <td>66</td>\n",
              "      <td>29</td>\n",
              "      <td>0</td>\n",
              "      <td>26.6</td>\n",
              "      <td>0.351</td>\n",
              "      <td>31</td>\n",
              "      <td>0</td>\n",
              "    </tr>\n",
              "    <tr>\n",
              "      <th>2</th>\n",
              "      <td>8</td>\n",
              "      <td>183</td>\n",
              "      <td>64</td>\n",
              "      <td>0</td>\n",
              "      <td>0</td>\n",
              "      <td>23.3</td>\n",
              "      <td>0.672</td>\n",
              "      <td>32</td>\n",
              "      <td>1</td>\n",
              "    </tr>\n",
              "    <tr>\n",
              "      <th>3</th>\n",
              "      <td>1</td>\n",
              "      <td>89</td>\n",
              "      <td>66</td>\n",
              "      <td>23</td>\n",
              "      <td>94</td>\n",
              "      <td>28.1</td>\n",
              "      <td>0.167</td>\n",
              "      <td>21</td>\n",
              "      <td>0</td>\n",
              "    </tr>\n",
              "    <tr>\n",
              "      <th>4</th>\n",
              "      <td>0</td>\n",
              "      <td>137</td>\n",
              "      <td>40</td>\n",
              "      <td>35</td>\n",
              "      <td>168</td>\n",
              "      <td>43.1</td>\n",
              "      <td>2.288</td>\n",
              "      <td>33</td>\n",
              "      <td>1</td>\n",
              "    </tr>\n",
              "  </tbody>\n",
              "</table>\n",
              "</div>\n",
              "    <div class=\"colab-df-buttons\">\n",
              "\n",
              "  <div class=\"colab-df-container\">\n",
              "    <button class=\"colab-df-convert\" onclick=\"convertToInteractive('df-2fb6a21a-9a5d-40cd-bf35-a3b6c2302a51')\"\n",
              "            title=\"Convert this dataframe to an interactive table.\"\n",
              "            style=\"display:none;\">\n",
              "\n",
              "  <svg xmlns=\"http://www.w3.org/2000/svg\" height=\"24px\" viewBox=\"0 -960 960 960\">\n",
              "    <path d=\"M120-120v-720h720v720H120Zm60-500h600v-160H180v160Zm220 220h160v-160H400v160Zm0 220h160v-160H400v160ZM180-400h160v-160H180v160Zm440 0h160v-160H620v160ZM180-180h160v-160H180v160Zm440 0h160v-160H620v160Z\"/>\n",
              "  </svg>\n",
              "    </button>\n",
              "\n",
              "  <style>\n",
              "    .colab-df-container {\n",
              "      display:flex;\n",
              "      gap: 12px;\n",
              "    }\n",
              "\n",
              "    .colab-df-convert {\n",
              "      background-color: #E8F0FE;\n",
              "      border: none;\n",
              "      border-radius: 50%;\n",
              "      cursor: pointer;\n",
              "      display: none;\n",
              "      fill: #1967D2;\n",
              "      height: 32px;\n",
              "      padding: 0 0 0 0;\n",
              "      width: 32px;\n",
              "    }\n",
              "\n",
              "    .colab-df-convert:hover {\n",
              "      background-color: #E2EBFA;\n",
              "      box-shadow: 0px 1px 2px rgba(60, 64, 67, 0.3), 0px 1px 3px 1px rgba(60, 64, 67, 0.15);\n",
              "      fill: #174EA6;\n",
              "    }\n",
              "\n",
              "    .colab-df-buttons div {\n",
              "      margin-bottom: 4px;\n",
              "    }\n",
              "\n",
              "    [theme=dark] .colab-df-convert {\n",
              "      background-color: #3B4455;\n",
              "      fill: #D2E3FC;\n",
              "    }\n",
              "\n",
              "    [theme=dark] .colab-df-convert:hover {\n",
              "      background-color: #434B5C;\n",
              "      box-shadow: 0px 1px 3px 1px rgba(0, 0, 0, 0.15);\n",
              "      filter: drop-shadow(0px 1px 2px rgba(0, 0, 0, 0.3));\n",
              "      fill: #FFFFFF;\n",
              "    }\n",
              "  </style>\n",
              "\n",
              "    <script>\n",
              "      const buttonEl =\n",
              "        document.querySelector('#df-2fb6a21a-9a5d-40cd-bf35-a3b6c2302a51 button.colab-df-convert');\n",
              "      buttonEl.style.display =\n",
              "        google.colab.kernel.accessAllowed ? 'block' : 'none';\n",
              "\n",
              "      async function convertToInteractive(key) {\n",
              "        const element = document.querySelector('#df-2fb6a21a-9a5d-40cd-bf35-a3b6c2302a51');\n",
              "        const dataTable =\n",
              "          await google.colab.kernel.invokeFunction('convertToInteractive',\n",
              "                                                    [key], {});\n",
              "        if (!dataTable) return;\n",
              "\n",
              "        const docLinkHtml = 'Like what you see? Visit the ' +\n",
              "          '<a target=\"_blank\" href=https://colab.research.google.com/notebooks/data_table.ipynb>data table notebook</a>'\n",
              "          + ' to learn more about interactive tables.';\n",
              "        element.innerHTML = '';\n",
              "        dataTable['output_type'] = 'display_data';\n",
              "        await google.colab.output.renderOutput(dataTable, element);\n",
              "        const docLink = document.createElement('div');\n",
              "        docLink.innerHTML = docLinkHtml;\n",
              "        element.appendChild(docLink);\n",
              "      }\n",
              "    </script>\n",
              "  </div>\n",
              "\n",
              "\n",
              "<div id=\"df-18fe51a9-5908-4a6e-bb2c-f4b5f289cdbd\">\n",
              "  <button class=\"colab-df-quickchart\" onclick=\"quickchart('df-18fe51a9-5908-4a6e-bb2c-f4b5f289cdbd')\"\n",
              "            title=\"Suggest charts\"\n",
              "            style=\"display:none;\">\n",
              "\n",
              "<svg xmlns=\"http://www.w3.org/2000/svg\" height=\"24px\"viewBox=\"0 0 24 24\"\n",
              "     width=\"24px\">\n",
              "    <g>\n",
              "        <path d=\"M19 3H5c-1.1 0-2 .9-2 2v14c0 1.1.9 2 2 2h14c1.1 0 2-.9 2-2V5c0-1.1-.9-2-2-2zM9 17H7v-7h2v7zm4 0h-2V7h2v10zm4 0h-2v-4h2v4z\"/>\n",
              "    </g>\n",
              "</svg>\n",
              "  </button>\n",
              "\n",
              "<style>\n",
              "  .colab-df-quickchart {\n",
              "      --bg-color: #E8F0FE;\n",
              "      --fill-color: #1967D2;\n",
              "      --hover-bg-color: #E2EBFA;\n",
              "      --hover-fill-color: #174EA6;\n",
              "      --disabled-fill-color: #AAA;\n",
              "      --disabled-bg-color: #DDD;\n",
              "  }\n",
              "\n",
              "  [theme=dark] .colab-df-quickchart {\n",
              "      --bg-color: #3B4455;\n",
              "      --fill-color: #D2E3FC;\n",
              "      --hover-bg-color: #434B5C;\n",
              "      --hover-fill-color: #FFFFFF;\n",
              "      --disabled-bg-color: #3B4455;\n",
              "      --disabled-fill-color: #666;\n",
              "  }\n",
              "\n",
              "  .colab-df-quickchart {\n",
              "    background-color: var(--bg-color);\n",
              "    border: none;\n",
              "    border-radius: 50%;\n",
              "    cursor: pointer;\n",
              "    display: none;\n",
              "    fill: var(--fill-color);\n",
              "    height: 32px;\n",
              "    padding: 0;\n",
              "    width: 32px;\n",
              "  }\n",
              "\n",
              "  .colab-df-quickchart:hover {\n",
              "    background-color: var(--hover-bg-color);\n",
              "    box-shadow: 0 1px 2px rgba(60, 64, 67, 0.3), 0 1px 3px 1px rgba(60, 64, 67, 0.15);\n",
              "    fill: var(--button-hover-fill-color);\n",
              "  }\n",
              "\n",
              "  .colab-df-quickchart-complete:disabled,\n",
              "  .colab-df-quickchart-complete:disabled:hover {\n",
              "    background-color: var(--disabled-bg-color);\n",
              "    fill: var(--disabled-fill-color);\n",
              "    box-shadow: none;\n",
              "  }\n",
              "\n",
              "  .colab-df-spinner {\n",
              "    border: 2px solid var(--fill-color);\n",
              "    border-color: transparent;\n",
              "    border-bottom-color: var(--fill-color);\n",
              "    animation:\n",
              "      spin 1s steps(1) infinite;\n",
              "  }\n",
              "\n",
              "  @keyframes spin {\n",
              "    0% {\n",
              "      border-color: transparent;\n",
              "      border-bottom-color: var(--fill-color);\n",
              "      border-left-color: var(--fill-color);\n",
              "    }\n",
              "    20% {\n",
              "      border-color: transparent;\n",
              "      border-left-color: var(--fill-color);\n",
              "      border-top-color: var(--fill-color);\n",
              "    }\n",
              "    30% {\n",
              "      border-color: transparent;\n",
              "      border-left-color: var(--fill-color);\n",
              "      border-top-color: var(--fill-color);\n",
              "      border-right-color: var(--fill-color);\n",
              "    }\n",
              "    40% {\n",
              "      border-color: transparent;\n",
              "      border-right-color: var(--fill-color);\n",
              "      border-top-color: var(--fill-color);\n",
              "    }\n",
              "    60% {\n",
              "      border-color: transparent;\n",
              "      border-right-color: var(--fill-color);\n",
              "    }\n",
              "    80% {\n",
              "      border-color: transparent;\n",
              "      border-right-color: var(--fill-color);\n",
              "      border-bottom-color: var(--fill-color);\n",
              "    }\n",
              "    90% {\n",
              "      border-color: transparent;\n",
              "      border-bottom-color: var(--fill-color);\n",
              "    }\n",
              "  }\n",
              "</style>\n",
              "\n",
              "  <script>\n",
              "    async function quickchart(key) {\n",
              "      const quickchartButtonEl =\n",
              "        document.querySelector('#' + key + ' button');\n",
              "      quickchartButtonEl.disabled = true;  // To prevent multiple clicks.\n",
              "      quickchartButtonEl.classList.add('colab-df-spinner');\n",
              "      try {\n",
              "        const charts = await google.colab.kernel.invokeFunction(\n",
              "            'suggestCharts', [key], {});\n",
              "      } catch (error) {\n",
              "        console.error('Error during call to suggestCharts:', error);\n",
              "      }\n",
              "      quickchartButtonEl.classList.remove('colab-df-spinner');\n",
              "      quickchartButtonEl.classList.add('colab-df-quickchart-complete');\n",
              "    }\n",
              "    (() => {\n",
              "      let quickchartButtonEl =\n",
              "        document.querySelector('#df-18fe51a9-5908-4a6e-bb2c-f4b5f289cdbd button');\n",
              "      quickchartButtonEl.style.display =\n",
              "        google.colab.kernel.accessAllowed ? 'block' : 'none';\n",
              "    })();\n",
              "  </script>\n",
              "</div>\n",
              "\n",
              "    </div>\n",
              "  </div>\n"
            ],
            "application/vnd.google.colaboratory.intrinsic+json": {
              "type": "dataframe",
              "variable_name": "dbt",
              "summary": "{\n  \"name\": \"dbt\",\n  \"rows\": 768,\n  \"fields\": [\n    {\n      \"column\": \"Pregnancies\",\n      \"properties\": {\n        \"dtype\": \"number\",\n        \"std\": 3,\n        \"min\": 0,\n        \"max\": 17,\n        \"num_unique_values\": 17,\n        \"samples\": [\n          6,\n          1,\n          3\n        ],\n        \"semantic_type\": \"\",\n        \"description\": \"\"\n      }\n    },\n    {\n      \"column\": \"Glucose\",\n      \"properties\": {\n        \"dtype\": \"number\",\n        \"std\": 31,\n        \"min\": 0,\n        \"max\": 199,\n        \"num_unique_values\": 136,\n        \"samples\": [\n          151,\n          101,\n          112\n        ],\n        \"semantic_type\": \"\",\n        \"description\": \"\"\n      }\n    },\n    {\n      \"column\": \"BloodPressure\",\n      \"properties\": {\n        \"dtype\": \"number\",\n        \"std\": 19,\n        \"min\": 0,\n        \"max\": 122,\n        \"num_unique_values\": 47,\n        \"samples\": [\n          86,\n          46,\n          85\n        ],\n        \"semantic_type\": \"\",\n        \"description\": \"\"\n      }\n    },\n    {\n      \"column\": \"SkinThickness\",\n      \"properties\": {\n        \"dtype\": \"number\",\n        \"std\": 15,\n        \"min\": 0,\n        \"max\": 99,\n        \"num_unique_values\": 51,\n        \"samples\": [\n          7,\n          12,\n          48\n        ],\n        \"semantic_type\": \"\",\n        \"description\": \"\"\n      }\n    },\n    {\n      \"column\": \"Insulin\",\n      \"properties\": {\n        \"dtype\": \"number\",\n        \"std\": 115,\n        \"min\": 0,\n        \"max\": 846,\n        \"num_unique_values\": 186,\n        \"samples\": [\n          52,\n          41,\n          183\n        ],\n        \"semantic_type\": \"\",\n        \"description\": \"\"\n      }\n    },\n    {\n      \"column\": \"BMI\",\n      \"properties\": {\n        \"dtype\": \"number\",\n        \"std\": 7.8841603203754405,\n        \"min\": 0.0,\n        \"max\": 67.1,\n        \"num_unique_values\": 248,\n        \"samples\": [\n          19.9,\n          31.0,\n          38.1\n        ],\n        \"semantic_type\": \"\",\n        \"description\": \"\"\n      }\n    },\n    {\n      \"column\": \"DiabetesPedigreeFunction\",\n      \"properties\": {\n        \"dtype\": \"number\",\n        \"std\": 0.33132859501277484,\n        \"min\": 0.078,\n        \"max\": 2.42,\n        \"num_unique_values\": 517,\n        \"samples\": [\n          1.731,\n          0.426,\n          0.138\n        ],\n        \"semantic_type\": \"\",\n        \"description\": \"\"\n      }\n    },\n    {\n      \"column\": \"Age\",\n      \"properties\": {\n        \"dtype\": \"number\",\n        \"std\": 11,\n        \"min\": 21,\n        \"max\": 81,\n        \"num_unique_values\": 52,\n        \"samples\": [\n          60,\n          47,\n          72\n        ],\n        \"semantic_type\": \"\",\n        \"description\": \"\"\n      }\n    },\n    {\n      \"column\": \"Outcome\",\n      \"properties\": {\n        \"dtype\": \"number\",\n        \"std\": 0,\n        \"min\": 0,\n        \"max\": 1,\n        \"num_unique_values\": 2,\n        \"samples\": [\n          0,\n          1\n        ],\n        \"semantic_type\": \"\",\n        \"description\": \"\"\n      }\n    }\n  ]\n}"
            }
          },
          "metadata": {},
          "execution_count": 58
        }
      ]
    },
    {
      "cell_type": "markdown",
      "source": [
        "**Penjelasan:**\n",
        "\n",
        "Kode tersebut membaca data dari file CSV bernama 'diabetes.csv' yang berada di folder 'dataset' dan menampilkan 5 baris pertama dari data tersebut.\n",
        "* **dbt = pd.read_csv('dataset/diabetes.csv')**:\n",
        "  * **pd.read_csv(...)**: Fungsi dari library Pandas untuk membaca data dari file CSV (Comma Separated Values).\n",
        "  * **'dataset/diabetes.csv'**: Path ke file CSV. Dalam hal ini, file 'diabetes.csv' diasumsikan berada di folder 'dataset' yang terletak di direktori yang sama dengan notebook/kode program.\n",
        "  * **dbt = ...**: Data yang telah dibaca dari file CSV disimpan ke dalam variabel dbt dalam bentuk DataFrame (struktur data di Pandas).\n",
        "* **dbt.head()**:\n",
        "  * **dbt.head(...)**: Fungsi untuk menampilkan beberapa baris pertama dari DataFrame.\n",
        "  * Secara default, head() menampilkan 5 baris pertama. Ini berguna untuk melihat sekilas struktur data dan isi dari dataset, seperti nama kolom dan beberapa nilai awal pada setiap kolom.\n",
        "---"
      ],
      "metadata": {
        "id": "BRGYiDBtq0f4"
      }
    },
    {
      "cell_type": "markdown",
      "source": [
        "**Cek Nama Kolom**"
      ],
      "metadata": {
        "id": "gWzAjl7JuNgx"
      }
    },
    {
      "cell_type": "code",
      "source": [
        "# Cek nama kolom\n",
        "dbt.columns"
      ],
      "metadata": {
        "colab": {
          "base_uri": "https://localhost:8080/"
        },
        "id": "-gb3j9MLuQHS",
        "outputId": "e603de22-be27-4633-fdeb-a763a5ea5e1a"
      },
      "execution_count": null,
      "outputs": [
        {
          "output_type": "execute_result",
          "data": {
            "text/plain": [
              "Index(['Pregnancies', 'Glucose', 'BloodPressure', 'SkinThickness', 'Insulin',\n",
              "       'BMI', 'DiabetesPedigreeFunction', 'Age', 'Outcome'],\n",
              "      dtype='object')"
            ]
          },
          "metadata": {},
          "execution_count": 59
        }
      ]
    },
    {
      "cell_type": "markdown",
      "source": [
        "**Penjelasan:**\n",
        "\n",
        "Kode tersebut digunakan untuk menampilkan nama-nama kolom yang terdapat pada DataFrame dbt.\n",
        "* **dbt.columns**: Atribut dari objek DataFrame di Pandas yang berisi informasi tentang nama-nama kolom.\n",
        "\n",
        "Jadi, dengan menjalankan kode tersebut akan mendapatkan output berupa daftar nama kolom yang ada di dataset diabetes. Ini berguna untuk mengetahui variabel-variabel apa saja yang terdapat di dataset dan memastikan bahwa data telah terbaca dengan benar.\n",
        "\n",
        "---"
      ],
      "metadata": {
        "id": "w_C_grubq1uh"
      }
    },
    {
      "cell_type": "markdown",
      "source": [
        "**Cek Kolom Null**"
      ],
      "metadata": {
        "id": "c5vtXY2fuTxG"
      }
    },
    {
      "cell_type": "code",
      "source": [
        "# Cek kolom null\n",
        "dbt.isnull().sum()"
      ],
      "metadata": {
        "colab": {
          "base_uri": "https://localhost:8080/",
          "height": 366
        },
        "id": "1-AjfnXauWgl",
        "outputId": "594843c6-84ac-42c9-dbe3-402eab9582c8"
      },
      "execution_count": null,
      "outputs": [
        {
          "output_type": "execute_result",
          "data": {
            "text/plain": [
              "Pregnancies                 0\n",
              "Glucose                     0\n",
              "BloodPressure               0\n",
              "SkinThickness               0\n",
              "Insulin                     0\n",
              "BMI                         0\n",
              "DiabetesPedigreeFunction    0\n",
              "Age                         0\n",
              "Outcome                     0\n",
              "dtype: int64"
            ],
            "text/html": [
              "<div>\n",
              "<style scoped>\n",
              "    .dataframe tbody tr th:only-of-type {\n",
              "        vertical-align: middle;\n",
              "    }\n",
              "\n",
              "    .dataframe tbody tr th {\n",
              "        vertical-align: top;\n",
              "    }\n",
              "\n",
              "    .dataframe thead th {\n",
              "        text-align: right;\n",
              "    }\n",
              "</style>\n",
              "<table border=\"1\" class=\"dataframe\">\n",
              "  <thead>\n",
              "    <tr style=\"text-align: right;\">\n",
              "      <th></th>\n",
              "      <th>0</th>\n",
              "    </tr>\n",
              "  </thead>\n",
              "  <tbody>\n",
              "    <tr>\n",
              "      <th>Pregnancies</th>\n",
              "      <td>0</td>\n",
              "    </tr>\n",
              "    <tr>\n",
              "      <th>Glucose</th>\n",
              "      <td>0</td>\n",
              "    </tr>\n",
              "    <tr>\n",
              "      <th>BloodPressure</th>\n",
              "      <td>0</td>\n",
              "    </tr>\n",
              "    <tr>\n",
              "      <th>SkinThickness</th>\n",
              "      <td>0</td>\n",
              "    </tr>\n",
              "    <tr>\n",
              "      <th>Insulin</th>\n",
              "      <td>0</td>\n",
              "    </tr>\n",
              "    <tr>\n",
              "      <th>BMI</th>\n",
              "      <td>0</td>\n",
              "    </tr>\n",
              "    <tr>\n",
              "      <th>DiabetesPedigreeFunction</th>\n",
              "      <td>0</td>\n",
              "    </tr>\n",
              "    <tr>\n",
              "      <th>Age</th>\n",
              "      <td>0</td>\n",
              "    </tr>\n",
              "    <tr>\n",
              "      <th>Outcome</th>\n",
              "      <td>0</td>\n",
              "    </tr>\n",
              "  </tbody>\n",
              "</table>\n",
              "</div><br><label><b>dtype:</b> int64</label>"
            ]
          },
          "metadata": {},
          "execution_count": 60
        }
      ]
    },
    {
      "cell_type": "markdown",
      "source": [
        "**Penjelasan:**\n",
        "\n",
        "Kode tersebut digunakan untuk mengecek dan menghitung jumlah nilai null (kosong) pada setiap kolom di DataFrame df.\n",
        "* **dbt.isnull()**: Fungsi ini akan mengecek setiap nilai di DataFrame. Jika nilai tersebut null, maka akan menghasilkan nilai True, dan False jika tidak null. Outputnya adalah DataFrame baru dengan nilai boolean.\n",
        "* **.sum()**: Fungsi ini menjumlahkan nilai True pada setiap kolom. Karena True diinterpretasikan sebagai 1, maka outputnya adalah jumlah nilai null pada setiap kolom.\n",
        "\n",
        "Jadi, kode tersebut digunakan untuk melakukan pengecekan awal pada dataset untuk melihat apakah ada data yang hilang atau tidak lengkap.\n",
        "\n",
        "---"
      ],
      "metadata": {
        "id": "lUAHn5wtq2UR"
      }
    },
    {
      "cell_type": "code",
      "source": [
        "# Pada kasus ini, agak tidak masuk akal jika beberapa parameter bernilai 0\n",
        "# sebagai contoh adalah nilai 'Glucose', 'BloodPlessure' ataupun 'Insulin'.\n",
        "# Sekecil apapun nilainya, setiap manusia yang hidup pasti miliki nilai-nilai tersebut\n",
        "\n",
        "# Kita akan manipulasi nilai yang 0 dengan melakukan 'imputasi' atau mengganti nilainya dengan nilai sintetis\n",
        "# Pada kasus ini, kita akan menggunakan nilai mean\n",
        "\n",
        "# Cek kolom neng nilai 0\n",
        "feature_columns = ['Pregnancies', 'Glucose', 'BloodPressure', 'SkinThickness', 'Insulin', 'BMI', 'DiabetesPedigreeFunction', 'Age']\n",
        "for column in feature_columns:\n",
        "    print(\"============================================\")\n",
        "    print(f\"{column} ==> Missing zeros : {len(dbt.loc[dbt[column] == 0])}\")"
      ],
      "metadata": {
        "colab": {
          "base_uri": "https://localhost:8080/"
        },
        "id": "5aEgelVOujM6",
        "outputId": "7acb2730-9f55-45e9-8ebe-50b45260594c"
      },
      "execution_count": null,
      "outputs": [
        {
          "output_type": "stream",
          "name": "stdout",
          "text": [
            "============================================\n",
            "Pregnancies ==> Missing zeros : 111\n",
            "============================================\n",
            "Glucose ==> Missing zeros : 5\n",
            "============================================\n",
            "BloodPressure ==> Missing zeros : 35\n",
            "============================================\n",
            "SkinThickness ==> Missing zeros : 227\n",
            "============================================\n",
            "Insulin ==> Missing zeros : 374\n",
            "============================================\n",
            "BMI ==> Missing zeros : 11\n",
            "============================================\n",
            "DiabetesPedigreeFunction ==> Missing zeros : 0\n",
            "============================================\n",
            "Age ==> Missing zeros : 0\n"
          ]
        }
      ]
    },
    {
      "cell_type": "markdown",
      "source": [
        "**Penjelasan:**\n",
        "\n",
        "Kode tersebut digunakan untuk mengecek dan menampilkan jumlah nilai 0 (nol) yang ada di setiap kolom pada DataFrame dbt. Pengecekan ini dilakukan pada kolom-kolom yang tercantum dalam list feature_columns.\n",
        "* **feature_columns = [...]**: List yang berisi nama-nama kolom yang akan dicek.\n",
        "* **for column in feature_columns:**: Perulangan (loop) yang akan dijalankan untuk setiap kolom di feature_columns.\n",
        "* **print(\"============================================\")**: Menampilkan garis pemisah untuk memudahkan pembacaan output.\n",
        "* **print(f\"{column} ==> Missing zeros : {len(dbt.loc[dbt[column] == 0])}\")**:\n",
        "  * Menampilkan nama kolom dan jumlah nilai 0 yang ada di kolom tersebut.\n",
        "  * **dbt.loc[dbt[column] == 0]**: Memilih baris-baris di DataFrame dbt di mana nilai pada kolom column sama dengan 0.\n",
        "  * **len(...)**: Menghitung jumlah baris (data) yang memiliki nilai 0.\n",
        "---"
      ],
      "metadata": {
        "id": "1bSRb85dq270"
      }
    },
    {
      "cell_type": "code",
      "source": [
        "# Impute nilai 0 dengan mean\n",
        "from sklearn.impute import SimpleImputer\n",
        "\n",
        "fill_values = SimpleImputer(missing_values=0, strategy=\"mean\", copy=False)\n",
        "\n",
        "dbt[feature_columns] = fill_values.fit_transform(dbt[feature_columns])"
      ],
      "metadata": {
        "id": "2QpgRO_Yuowl"
      },
      "execution_count": null,
      "outputs": []
    },
    {
      "cell_type": "markdown",
      "source": [
        "**Penjelasan:**\n",
        "\n",
        "Kode tersebut digunakan untuk mengisi (imputasi) nilai-nilai 0 pada kolom-kolom yang ditentukan di feature_columns dengan nilai rata-rata (mean) dari kolom tersebut.\n",
        "* **from sklearn.impute import SimpleImputer**: Mengimpor kelas SimpleImputer dari modul sklearn.impute. SimpleImputer digunakan untuk mengisi nilai-nilai yang hilang dalam dataset.\n",
        "* **fill_values = SimpleImputer(missing_values=0, strategy=\"mean\", copy=False)**:\n",
        "  * Membuat objek SimpleImputer dengan konfigurasi:\n",
        "    * **missing_values=0**: Menentukan nilai yang akan dianggap sebagai nilai yang hilang (dalam kasus ini, 0).\n",
        "    * **strategy=\"mean\"**: Menentukan strategi imputasi, yaitu menggunakan nilai rata-rata (mean).\n",
        "    * **copy=False**: Melakukan imputasi secara langsung pada DataFrame dbt tanpa membuat salinan baru.\n",
        "* **dbt[feature_columns] = fill_values.fit_transform(dbt[feature_columns])**:\n",
        "* **fill_values.fit_transform(...)**: Menyesuaikan imputer (fill_values) dengan data di dbt[feature_columns] dan melakukan transformasi untuk mengisi nilai-nilai 0 dengan mean.\n",
        "  * **dbt[feature_columns] = ...**: Mengganti nilai-nilai di dbt[feature_columns] dengan hasil imputasi.\n",
        "\n",
        "Jadi, kode tersebut bertujuan untuk menangani nilai 0 yang mungkin dianggap sebagai data yang hilang atau tidak valid pada dataset diabetes\n",
        "\n",
        "---"
      ],
      "metadata": {
        "id": "mpN8jjUHq3bm"
      }
    },
    {
      "cell_type": "markdown",
      "source": [
        "**Split data training dan testing**"
      ],
      "metadata": {
        "id": "wqSIWiuCuq6Y"
      }
    },
    {
      "cell_type": "code",
      "source": [
        "X = dbt[feature_columns]\n",
        "y = dbt.Outcome\n",
        "\n",
        "X_train, X_test, y_train, y_test = train_test_split(X, y, test_size=0.3, random_state=42)"
      ],
      "metadata": {
        "id": "bJQ0W9-Nuwf-"
      },
      "execution_count": null,
      "outputs": []
    },
    {
      "cell_type": "markdown",
      "source": [
        "**Penjelasan:**\n",
        "\n",
        "Kode tersebut digunakan untuk memisahkan fitur (X) dan target (y) dari DataFrame dbt, kemudian membagi data tersebut menjadi data latih (training) dan data uji (testing).\n",
        "* **X = dbt[feature_columns]**: Mengambil kolom-kolom yang tercantum di feature_columns dari DataFrame dbt dan menyimpannya ke dalam variabel X. Variabel X akan digunakan sebagai fitur untuk model machine learning.\n",
        "* **y = dbt.Outcome**: Mengambil kolom 'Outcome' dari DataFrame dbt dan menyimpannya ke dalam variabel y. Variabel y akan digunakan sebagai target atau label yang akan diprediksi oleh model.\n",
        "* **X_train, X_test, y_train, y_test = train_test_split(X, y, test_size=0.3, random_state=42)**:\n",
        "  * Membagi data X dan y menjadi data latih dan data uji menggunakan fungsi train_test_split.\n",
        "  * **test_size=0.3**: Menentukan proporsi data yang akan digunakan sebagai data uji (30% dalam kasus ini).\n",
        "  * **random_state=42**: Menentukan seed untuk generator angka acak, sehingga pembagian data akan selalu sama setiap kali kode dijalankan (berguna untuk reproduksibilitas).\n",
        "---"
      ],
      "metadata": {
        "id": "PjnF7YvUq4FB"
      }
    },
    {
      "cell_type": "markdown",
      "source": [
        "**Standarisasi Fitur**"
      ],
      "metadata": {
        "id": "CnN8oeiU0ppr"
      }
    },
    {
      "cell_type": "code",
      "source": [
        "from sklearn.preprocessing import StandardScaler\n",
        "\n",
        "sc = StandardScaler()\n",
        "\n",
        "# Standarisasi pada fitur di X_train dan X_test\n",
        "X_train_std = sc.fit_transform(X_train)\n",
        "X_test_std = sc.transform(X_test)"
      ],
      "metadata": {
        "id": "s7jW2YJU0v4o"
      },
      "execution_count": null,
      "outputs": []
    },
    {
      "cell_type": "markdown",
      "source": [
        "**Penjelasan:**\n",
        "\n",
        "Kode tersebut digunakan untuk memisahkan fitur (X) dan target (y) dari DataFrame dbt, kemudian membagi data tersebut menjadi data latih (training) dan data uji (testing).\n",
        "* **X = dbt[feature_columns]**: Mengambil kolom-kolom yang tercantum di feature_columns dari DataFrame dbt dan menyimpannya ke dalam variabel X. Variabel X akan digunakan sebagai fitur untuk model machine learning.\n",
        "* **y = dbt.Outcome**: Mengambil kolom 'Outcome' dari DataFrame dbt dan menyimpannya ke dalam variabel y. Variabel y akan digunakan sebagai target atau label yang akan diprediksi oleh model.\n",
        "* **X_train, X_test, y_train, y_test = train_test_split(X, y, test_size=0.3, random_state=42)**:\n",
        "  * Membagi data X dan y menjadi data latih dan data uji menggunakan fungsi train_test_split.\n",
        "  * **test_size=0.3**: Menentukan proporsi data yang akan digunakan sebagai data uji (30% dalam kasus ini).\n",
        "  * **random_state=42**: Menentukan seed untuk generator angka acak, sehingga pembagian data akan selalu sama setiap kali kode dijalankan (berguna untuk reproduksibilitas).\n",
        "---"
      ],
      "metadata": {
        "id": "iGuvVDxdq4jf"
      }
    },
    {
      "cell_type": "markdown",
      "source": [
        "**Logistic Regression**"
      ],
      "metadata": {
        "id": "Lv6_8Ui505jS"
      }
    },
    {
      "cell_type": "code",
      "source": [
        "# buat objek Logistic Regression\n",
        "lr = LogisticRegression(solver='liblinear')\n",
        "\n",
        "# hyperparameter\n",
        "param_grid = {\n",
        "    'C': [0.001, 0.01, 0.1, 1, 10],\n",
        "    'penalty': ['l1', 'l2'],\n",
        "    'max_iter': [100, 500, 1000]\n",
        "}\n",
        "\n",
        "# penyetelan hyperparameter menggunakan grid search\n",
        "grid_search_lr = GridSearchCV(estimator=lr, param_grid=param_grid, cv=5, scoring='accuracy')\n",
        "grid_search_lr.fit(X_train_std, y_train)\n",
        "\n",
        "# evaluasi LR dengan hyperparameter terbaik\n",
        "best_lr = grid_search_lr.best_estimator_\n",
        "\n",
        "# predeksi data testing\n",
        "y_pred_lr = best_lr.predict(X_test_std)\n",
        "\n",
        "# Evaluasi akurasi data testing\n",
        "acc_lr = accuracy_score(y_test, y_pred_lr)\n",
        "\n",
        "# Print hasil evaluasi\n",
        "print(\"Accuracy    : {} %\".format(round((acc_lr*100),2)))\n",
        "print(\"Test set accuracy: {:.2f}\".format(acc_lr))\n",
        "print(f\"Test set accuracy: {acc_lr}\")"
      ],
      "metadata": {
        "colab": {
          "base_uri": "https://localhost:8080/"
        },
        "id": "uK0pWEZw1A3R",
        "outputId": "7c5f3ba1-7e4f-47ae-e563-68caacb30b32"
      },
      "execution_count": null,
      "outputs": [
        {
          "output_type": "stream",
          "name": "stdout",
          "text": [
            "Accuracy    : 73.59 %\n",
            "Test set accuracy: 0.74\n",
            "Test set accuracy: 0.7359307359307359\n"
          ]
        }
      ]
    },
    {
      "cell_type": "markdown",
      "source": [
        "**Penjelasan:**\n",
        "\n",
        "Kode ini melakukan hyperparameter tuning untuk model Regresi Logistik menggunakan GridSearchCV pada dataset yang telah distandarisasi.\n",
        "* **lr = LogisticRegression(solver='liblinear')**: Menginisialisasi model Regresi Logistik dengan solver 'liblinear'. Solver ini cocok untuk dataset yang lebih kecil dan mendukung penalti L1 dan L2.\n",
        "* **param_grid = { ... }**: Mendefinisikan grid hyperparameter untuk dicari. Ini termasuk:\n",
        "  * **'C'**: Kekuatan regularisasi (nilai: 0.001, 0.01, 0.1, 1, 10)\n",
        "  * **'penalty'**: Jenis regularisasi (nilai: 'l1', 'l2')\n",
        "  * **'max_iter'**: Jumlah iterasi maksimum untuk solver (nilai: 100, 500, 1000)\n",
        "* **grid_search_lr = GridSearchCV(estimator=lr, param_grid=param_grid, cv=5, scoring='accuracy')**: Membuat objek GridSearchCV untuk menemukan kombinasi hyperparameter terbaik.\n",
        "  * **estimator=lr**: Menggunakan model Regresi Logistik yang didefinisikan sebelumnya.\n",
        "  * **param_grid=param_grid**: Menentukan grid hyperparameter.\n",
        "  * **cv=5**: Menggunakan 5- fold cross-validation untuk evaluasi.\n",
        "  * **scoring='accuracy'**: Menggunakan akurasi sebagai metrik evaluasi.\n",
        "* **grid_search_lr.fit(X_train_std, y_train)**: Menyesuaikan objek GridSearchCV pada data latih yang telah distandarisasi (X_train_std) dan variabel target (y_train). Proses ini melatih dan mengevaluasi model dengan semua kemungkinan kombinasi hyperparameter dari param_grid, dan pada akhirnya memilih kombinasi yang menghasilkan akurasi tertinggi.\n",
        "* **best_lr = grid_search_lr.best_estimator_**: Mengambil model Regresi Logistik terbaik dengan hyperparameter optimal yang telah ditentukan oleh GridSearchCV.\n",
        "* **y_pred_lr = best_lr.predict(X_test_std)**: Model terbaik tersebut kemudian digunakan untuk memprediksi variabel target pada data uji yang telah distandarisasi (X_test_std).\n",
        "* **acc_lr = accuracy_score(y_test, y_pred_lr)**: Menghitung skor akurasi dengan membandingkan nilai target sebenarnya (y_test) dengan nilai prediksi (y_pred_lr).\n",
        "* **print(\"Accuracy : {} %\".format(round((acc_lr*100),2)))**: Menampilkan skor akurasi dalam bentuk persentase, dibulatkan menjadi dua angka di belakang koma.\n",
        "* **print(\"Test set accuracy: {:.2f}\".format(acc_lr))**: Menampilkan akurasi data uji, diformat menjadi dua angka di belakang koma.\n",
        "* **print(f\"Test set accuracy: {acc_lr}\")**: Menampilkan akurasi data uji.\n",
        "---"
      ],
      "metadata": {
        "id": "yIjWapWR0xyY"
      }
    },
    {
      "cell_type": "markdown",
      "source": [
        "**SVM Kernel Polynomial**"
      ],
      "metadata": {
        "id": "LDN7pVVx1F0h"
      }
    },
    {
      "cell_type": "code",
      "source": [
        "# model svm polynomial\n",
        "svm_poly = SVC(kernel='poly')\n",
        "\n",
        "# hyperparameter\n",
        "param_grid = {\n",
        "    'C': [0.1, 1, 10],\n",
        "    'degree': [2, 3, 4],\n",
        "    'coef0': [0.0, 1.0, 2.0],\n",
        "}\n",
        "\n",
        "# penyetelan hyperparameter menggunakan grid search\n",
        "grid_search_svm_poly = GridSearchCV(estimator=svm_poly, param_grid=param_grid, cv=5, scoring='accuracy')\n",
        "grid_search_svm_poly.fit(X_train_std, y_train)\n",
        "\n",
        "# evaluasi svm polynomial dengan hyperparameter terbaik\n",
        "best_svm_poly = grid_search_svm_poly.best_estimator_\n",
        "\n",
        "# predeksi data testing\n",
        "y_pred_svm_poly = best_svm_poly.predict(X_test_std)\n",
        "\n",
        "# Evaluasi akurasi data testing\n",
        "acc_svm_poly = accuracy_score(y_test, y_pred_svm_poly)\n",
        "\n",
        "# Print hasil evaluasi\n",
        "print(\"Accuracy    : {} %\".format(round((acc_svm_poly*100),2)))\n",
        "print(\"Test set accuracy: {:.2f}\".format(acc_svm_poly))\n",
        "print(f\"Test set accuracy: {acc_svm_poly}\")"
      ],
      "metadata": {
        "colab": {
          "base_uri": "https://localhost:8080/"
        },
        "id": "4LbdO3761It6",
        "outputId": "5ba16775-8810-470b-903f-e72afd41e3c5"
      },
      "execution_count": null,
      "outputs": [
        {
          "output_type": "stream",
          "name": "stdout",
          "text": [
            "Accuracy    : 74.46 %\n",
            "Test set accuracy: 0.74\n",
            "Test set accuracy: 0.7445887445887446\n"
          ]
        }
      ]
    },
    {
      "cell_type": "markdown",
      "source": [
        "**Penjelasan:**\n",
        "\n",
        "Kode ini melakukan hyperparameter tuning untuk model SVM dengan kernel polinomial (poly) menggunakan GridSearchCV dan mengevaluasi akurasinya.\n",
        "* **svm_poly = SVC(kernel='poly')**: Membuat objek model SVM dengan kernel polinomial.\n",
        "* **param_grid = { ... }**: Mendefinisikan grid hyperparameter untuk dicari, yang meliputi:\n",
        "  * **'C'**: Parameter penalti (nilai: 0.1, 1, 10)\n",
        "  * **'degree'**: Derajat polinomial kernel (nilai: 2, 3, 4)\n",
        "  * **'coef0'**: Nilai independen dalam kernel (nilai: 0.0, 1.0, 2.0)\n",
        "* **grid_search_svm_poly = GridSearchCV(estimator=svm_poly, param_grid=param_grid, cv=5, scoring='accuracy')**: Membuat objek GridSearchCV untuk mencari kombinasi hyperparameter terbaik.\n",
        "* **grid_search_svm_poly.fit(X_train_std, y_train)**: Menyesuaikan objek GridSearchCV pada data latih yang telah distandarisasi dan target.\n",
        "* **best_svm_poly = grid_search_svm_poly.best_estimator_**: Mengambil model SVM dengan kernel polinomial terbaik.\n",
        "* **y_pred_svm_poly = best_svm_poly.predict(X_test_std)**: Melakukan prediksi pada data uji menggunakan model terbaik.\n",
        "* **acc_svm_poly = accuracy_score(y_test, y_pred_svm_poly)**: Menghitung akurasi model SVM dengan kernel polinomial dengan membandingkan nilai target sebenarnya (y_test) dengan nilai prediksi (y_pred_svm_poly).\n",
        "* **print(\"Accuracy : {} %\".format(round((acc_svm_poly*100),2)))**: Menampilkan akurasi dalam bentuk persentase, dibulatkan dua angka di belakang koma.\n",
        "* **print(\"Test set accuracy: {:.2f}\".format(acc_svm_poly))**: Menampilkan akurasi data uji, diformat dua angka di belakang koma.\n",
        "* **print(f\"Test set accuracy: {acc_svm_poly}\")**: Menampilkan akurasi data uji.\n",
        "---"
      ],
      "metadata": {
        "id": "Gq0vKc_u0yYA"
      }
    },
    {
      "cell_type": "markdown",
      "source": [
        "**Decission Tree**"
      ],
      "metadata": {
        "id": "aG8ddgGz1K6E"
      }
    },
    {
      "cell_type": "code",
      "source": [
        "dt = DecisionTreeClassifier()\n",
        "\n",
        "params = {'max_depth': [None, 10, 20, 30],\n",
        "          'min_samples_split': [2, 5, 10],\n",
        "          'min_samples_leaf': [1, 2, 4]}\n",
        "\n",
        "GS = GridSearchCV(estimator=dt,param_grid=params,cv=5,n_jobs=-1, verbose=True, scoring='accuracy')\n",
        "\n",
        "# training/fit\n",
        "GS.fit(X_train_std, y_train)\n",
        "\n",
        "# mengambil model Decision Tree terbaik yang telah dihasilkan oleh proses Grid Search.\n",
        "best_dtree = GS.best_estimator_\n",
        "\n",
        "# Memprediksi label set test\n",
        "y_pred_dt = best_dtree.predict(X_test_std)\n",
        "\n",
        "#  menghitung set accuracy\n",
        "acc_dt = accuracy_score(y_test, y_pred_dt)\n",
        "print(\"Accuracy    : {} %\".format(round((acc_dt*100),2)))\n",
        "print(\"Test set accuracy: {:.2f}\".format(acc_dt))\n",
        "print(f\"Test set accuracy: {acc_dt}\")"
      ],
      "metadata": {
        "colab": {
          "base_uri": "https://localhost:8080/"
        },
        "id": "svWpnBZc1QLU",
        "outputId": "35c661c6-8b8b-4d3a-ee04-5fb18ca2a891"
      },
      "execution_count": null,
      "outputs": [
        {
          "output_type": "stream",
          "name": "stdout",
          "text": [
            "Fitting 5 folds for each of 36 candidates, totalling 180 fits\n",
            "Accuracy    : 74.03 %\n",
            "Test set accuracy: 0.74\n",
            "Test set accuracy: 0.7402597402597403\n"
          ]
        }
      ]
    },
    {
      "cell_type": "markdown",
      "source": [
        "**Penjelasan:**\n",
        "\n",
        "Kode tersebut melakukan hyperparameter tuning untuk model Decision Tree Classifier menggunakan GridSearchCV.\n",
        "* **dt = DecisionTreeClassifier()**: Membuat objek model Decision Tree Classifier dengan parameter default.\n",
        "* **params = { ... }**: Mendefinisikan grid hyperparameter yang akan dicoba, meliputi:\n",
        "  * **'max_depth'**: Kedalaman maksimum pohon (nilai: None, 10, 20, 30)\n",
        "  * **'min_samples_split'**: Jumlah minimum sampel yang diperlukan untuk membagi node internal (nilai: 2, 5, 10)\n",
        "  * **'min_samples_leaf'**: Jumlah minimum sampel yang diperlukan untuk menjadi leaf node (nilai: 1, 2, 4)\n",
        "* **GS = GridSearchCV(estimator=dt, param_grid=params, cv=5, n_jobs=-1, verbose=True, scoring='accuracy')**: Membuat objek GridSearchCV untuk mencari kombinasi hyperparameter terbaik.\n",
        "  * **n_jobs=-1**: Menggunakan semua prosesor untuk mempercepat proses.\n",
        "  * **verbose=True**: Menampilkan informasi proses pencarian.\n",
        "  * **scoring='accuracy'**: Menggunakan akurasi sebagai metrik evaluasi.\n",
        "* **GS.fit(X_train_std, y_train)**: Menyesuaikan objek GridSearchCV pada data latih yang telah distandarisasi dan target. Proses ini akan melatih dan mengevaluasi model dengan semua kombinasi hyperparameter yang ditentukan di params dan memilih kombinasi terbaik berdasarkan akurasi.\n",
        "* **best_dtree = GS.best_estimator_**: Mengambil model Decision Tree terbaik dengan hyperparameter optimal dari objek GS (hasil GridSearchCV).\n",
        "* **y_pred_dt = best_dtree.predict(X_test_std)**: Menggunakan model terbaik (best_dtree) untuk memprediksi label pada data uji yang telah distandarisasi (X_test_std). Hasil prediksi disimpan di y_pred_dt.\n",
        "* **acc_dt = accuracy_score(y_test, y_pred_dt)**: Menghitung akurasi model dengan membandingkan nilai target sebenarnya (y_test) dengan nilai prediksi (y_pred_dt).\n",
        "* **print(\"Accuracy : {} %\".format(round((acc_dt*100),2)))**: Menampilkan akurasi dalam bentuk persentase, dibulatkan dua angka di belakang koma.\n",
        "* **print(\"Test set accuracy: {:.2f}\".format(acc_dt))**: Menampilkan akurasi data uji, diformat dua angka di belakang koma.\n",
        "* **print(f\"Test set accuracy: {acc_dt}\")**: Menampilkan akurasi data uji.\n",
        "---"
      ],
      "metadata": {
        "id": "cp8Pzsgu0zRD"
      }
    },
    {
      "cell_type": "markdown",
      "source": [
        "**Voting**"
      ],
      "metadata": {
        "id": "IL7z0x5y1VXE"
      }
    },
    {
      "cell_type": "code",
      "source": [
        "# Definisikan algoritma yang akan digunakan untuk voting\n",
        "clf1 = best_lr\n",
        "clf2 = best_svm_poly\n",
        "clf3 = best_dtree\n",
        "\n",
        "# model hard voting\n",
        "voting = VotingClassifier(estimators=[('Linear Regression', clf1), ('SVM-Poly', clf2), ('Dtree', clf3)], voting='hard')\n",
        "\n",
        "# Fit model\n",
        "voting.fit(X_train_std, y_train)\n",
        "\n",
        "# Prediksi\n",
        "y_pred_vt1 = voting.predict(X_test_std)\n",
        "\n",
        "# Evaluasi akurasi testing data\n",
        "acc_vt1 = accuracy_score(y_test, y_pred_vt1)\n",
        "\n",
        "# Print hasil evaluasi\n",
        "print('Voting Hard')\n",
        "print(\"Test set accuracy: {:.2f}\".format(acc_vt1))\n",
        "print(f\"Test set accuracy: {acc_vt1}\")"
      ],
      "metadata": {
        "colab": {
          "base_uri": "https://localhost:8080/"
        },
        "id": "JA7g5oRR1W_Q",
        "outputId": "1d9c92cb-034c-4308-d02f-4e61ad2bfc79"
      },
      "execution_count": 69,
      "outputs": [
        {
          "output_type": "stream",
          "name": "stdout",
          "text": [
            "Voting Hard\n",
            "Test set accuracy: 0.74\n",
            "Test set accuracy: 0.7445887445887446\n"
          ]
        }
      ]
    },
    {
      "cell_type": "markdown",
      "source": [
        "**Penjelasan:**\n",
        "\n",
        "Kode tersebut membuat ensemble model dengan metode hard voting menggunakan tiga model terbaik yang telah dioptimalkan: Logistic Regression, SVM Polynomial, dan Decision Tree. Kemudian, model voting ini dilatih dan dievaluasi kinerjanya.\n",
        "* **clf1 = best_lr**: Memberikan nama clf1 untuk model Logistic Regression terbaik (best_lr).\n",
        "* **clf2 = best_svm_poly**: Memberikan nama clf2 untuk model SVM Polynomial terbaik (best_svm_poly).\n",
        "* **clf3 = best_dtree**: Memberikan nama clf3 untuk model Decision Tree terbaik (best_dtree).\n",
        "* **voting = VotingClassifier(estimators=[('Linear Regression', clf1), ('SVM-Poly', clf2), ('Dtree', clf3)], voting='hard')**:\n",
        "  * Membuat objek VotingClassifier dengan metode hard voting.\n",
        "  * **estimators**: Daftar model yang akan digunakan dalam voting, masing-masing dengan nama yang diberikan.\n",
        "  * **voting='hard'**: Menentukan metode hard voting, di mana kelas prediksi akhir ditentukan berdasarkan suara terbanyak dari model individual.\n",
        "* **voting.fit(X_train_std, y_train)**: Melatih model voting dengan data latih yang telah distandarisasi dan target.\n",
        "* **y_pred_vt1 = voting.predict(X_test_std)**: Melakukan prediksi pada data uji menggunakan model voting dan menyimpan hasilnya di y_pred_vt1.\n",
        "* **acc_vt1 = accuracy_score(y_test, y_pred_vt1)**: Menghitung akurasi model voting dengan membandingkan nilai target sebenarnya (y_test) dengan nilai prediksi (y_pred_vt1).\n",
        "*  **print('Voting Hard')**: Menampilkan teks 'Voting Hard'.\n",
        "* **print(\"Test set accuracy: {:.2f}\".format(acc_vt1))**: Menampilkan akurasi data uji, diformat dua angka di belakang koma.\n",
        "* **print(f\"Test set accuracy: {acc_vt1}\")**: Menampilkan akurasi data uji.\n",
        "---"
      ],
      "metadata": {
        "id": "nAj5GZyE0z2z"
      }
    }
  ]
}